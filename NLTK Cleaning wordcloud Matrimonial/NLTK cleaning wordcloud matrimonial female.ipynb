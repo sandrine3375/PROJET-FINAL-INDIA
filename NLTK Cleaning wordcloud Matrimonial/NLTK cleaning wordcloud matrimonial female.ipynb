{
 "cells": [
  {
   "cell_type": "code",
   "execution_count": 1,
   "id": "b74b60c3",
   "metadata": {},
   "outputs": [],
   "source": [
    "import pandas as pd\n",
    "import numpy as np\n",
    "import matplotlib.pyplot as plt\n",
    "import scipy.stats as sp\n",
    "\n",
    "import plotly.express as px\n",
    "import plotly.figure_factory as ff\n",
    "import seaborn as sns\n",
    "import plotly.graph_objects as go\n",
    "import warnings"
   ]
  },
  {
   "cell_type": "code",
   "execution_count": 143,
   "id": "2fc7245a",
   "metadata": {},
   "outputs": [
    {
     "data": {
      "text/html": [
       "<div>\n",
       "<style scoped>\n",
       "    .dataframe tbody tr th:only-of-type {\n",
       "        vertical-align: middle;\n",
       "    }\n",
       "\n",
       "    .dataframe tbody tr th {\n",
       "        vertical-align: top;\n",
       "    }\n",
       "\n",
       "    .dataframe thead th {\n",
       "        text-align: right;\n",
       "    }\n",
       "</style>\n",
       "<table border=\"1\" class=\"dataframe\">\n",
       "  <thead>\n",
       "    <tr style=\"text-align: right;\">\n",
       "      <th></th>\n",
       "      <th>Age_Height</th>\n",
       "      <th>Religion_Caste</th>\n",
       "      <th>Mother_Tongue</th>\n",
       "      <th>Profession</th>\n",
       "      <th>Location</th>\n",
       "      <th>message</th>\n",
       "    </tr>\n",
       "  </thead>\n",
       "  <tbody>\n",
       "    <tr>\n",
       "      <th>0</th>\n",
       "      <td>25, 5' 05\" (165 cm)</td>\n",
       "      <td>Christian, Catholic</td>\n",
       "      <td>English</td>\n",
       "      <td>Not Specified</td>\n",
       "      <td>, USA</td>\n",
       "      <td>I am a simple girl with a good personality. I ...</td>\n",
       "    </tr>\n",
       "    <tr>\n",
       "      <th>1</th>\n",
       "      <td>27, 5' 01\" (155 cm)</td>\n",
       "      <td>Sikh, Arora</td>\n",
       "      <td>Punjabi</td>\n",
       "      <td>Government / Defence</td>\n",
       "      <td>, Jaipur, Rajasthan, India</td>\n",
       "      <td>My Daughter is a smart and dynamic girl brough...</td>\n",
       "    </tr>\n",
       "    <tr>\n",
       "      <th>2</th>\n",
       "      <td>24, 5' 03\" (160 cm)</td>\n",
       "      <td>Hindu, Teli</td>\n",
       "      <td>Marathi</td>\n",
       "      <td>Hotels &amp; Travel</td>\n",
       "      <td>, Nagpur, Maharashtra, India</td>\n",
       "      <td>I am a simple girl with a good personality. I ...</td>\n",
       "    </tr>\n",
       "    <tr>\n",
       "      <th>3</th>\n",
       "      <td>24, 5' 02\" (157 cm)</td>\n",
       "      <td>Christian, Roman Catholic</td>\n",
       "      <td>Hindi</td>\n",
       "      <td>Not Specified</td>\n",
       "      <td>, Italy</td>\n",
       "      <td>I belong to \"Roman Catholic\" caste and I am in...</td>\n",
       "    </tr>\n",
       "    <tr>\n",
       "      <th>4</th>\n",
       "      <td>35, 5' 00\" (152 cm)</td>\n",
       "      <td>Muslim, Sunni</td>\n",
       "      <td>Persian</td>\n",
       "      <td>Not Specified</td>\n",
       "      <td>, Australia</td>\n",
       "      <td>I am a simple girl with a good personality. I ...</td>\n",
       "    </tr>\n",
       "  </tbody>\n",
       "</table>\n",
       "</div>"
      ],
      "text/plain": [
       "            Age_Height             Religion_Caste Mother_Tongue  \\\n",
       "0  25, 5' 05\" (165 cm)        Christian, Catholic       English   \n",
       "1  27, 5' 01\" (155 cm)                Sikh, Arora       Punjabi   \n",
       "2  24, 5' 03\" (160 cm)                Hindu, Teli       Marathi   \n",
       "3  24, 5' 02\" (157 cm)  Christian, Roman Catholic         Hindi   \n",
       "4  35, 5' 00\" (152 cm)              Muslim, Sunni       Persian   \n",
       "\n",
       "             Profession                      Location  \\\n",
       "0         Not Specified                         , USA   \n",
       "1  Government / Defence    , Jaipur, Rajasthan, India   \n",
       "2       Hotels & Travel  , Nagpur, Maharashtra, India   \n",
       "3         Not Specified                       , Italy   \n",
       "4         Not Specified                   , Australia   \n",
       "\n",
       "                                             message  \n",
       "0  I am a simple girl with a good personality. I ...  \n",
       "1  My Daughter is a smart and dynamic girl brough...  \n",
       "2  I am a simple girl with a good personality. I ...  \n",
       "3  I belong to \"Roman Catholic\" caste and I am in...  \n",
       "4  I am a simple girl with a good personality. I ...  "
      ]
     },
     "execution_count": 143,
     "metadata": {},
     "output_type": "execute_result"
    }
   ],
   "source": [
    "data = pd.read_csv(r\"C:\\Users\\sandr\\OneDrive\\Documents\\A DATA\\indiamatrimonyfemale.csv\")\n",
    "data.head()"
   ]
  },
  {
   "cell_type": "markdown",
   "id": "bc798e4c",
   "metadata": {},
   "source": [
    "# cleaning columns (age, height, religion, caste)"
   ]
  },
  {
   "cell_type": "code",
   "execution_count": 144,
   "id": "88daf251",
   "metadata": {},
   "outputs": [
    {
     "data": {
      "text/plain": [
       "Hindi            5526\n",
       "Tamil            2645\n",
       "Punjabi          1919\n",
       "Malayalam        1423\n",
       "Telugu           1380\n",
       "English          1296\n",
       "Marathi          1153\n",
       "Urdu             1012\n",
       "Mother_Tongue     998\n",
       "Gujarati          647\n",
       "Kannada           628\n",
       "Bengali           520\n",
       "Konkani           208\n",
       "Odia              193\n",
       "Bhojpuri          135\n",
       "Sindhi            132\n",
       "Others            118\n",
       "Arabic            116\n",
       "Nepali             81\n",
       "Assamese           79\n",
       "French             67\n",
       "Garhwali           66\n",
       "Rajasthani         63\n",
       "Himachali          59\n",
       "Tulu               55\n",
       "Sinhala            53\n",
       "Maithili           48\n",
       "Haryanvi           44\n",
       "Kashmiri           43\n",
       "Marwari            36\n",
       "Kumaoni            25\n",
       "Bodo               20\n",
       "German             18\n",
       "Malay              18\n",
       "Kutchi             17\n",
       "Dogri              16\n",
       "Chattisgarhi       15\n",
       "Persian            12\n",
       "Parsi              12\n",
       "Romanian           11\n",
       "Russian            11\n",
       "Spanish            10\n",
       "Portugese           9\n",
       "Pashto              9\n",
       "Manipuri            7\n",
       "Magahi              6\n",
       "Mizo                4\n",
       "Khasi               3\n",
       "Hindko              3\n",
       "Awadhi              2\n",
       "Coorgi              2\n",
       "Sanskrit            1\n",
       "Aka                 1\n",
       "Miji                1\n",
       "Name: Mother_Tongue, dtype: int64"
      ]
     },
     "execution_count": 144,
     "metadata": {},
     "output_type": "execute_result"
    }
   ],
   "source": [
    "data.Mother_Tongue.value_counts()"
   ]
  },
  {
   "cell_type": "code",
   "execution_count": 145,
   "id": "7774b74b",
   "metadata": {},
   "outputs": [
    {
     "data": {
      "text/plain": [
       "True"
      ]
     },
     "execution_count": 145,
     "metadata": {},
     "output_type": "execute_result"
    }
   ],
   "source": [
    "## Check for duplicates\n",
    "data.duplicated().any()"
   ]
  },
  {
   "cell_type": "code",
   "execution_count": 146,
   "id": "62fd05c3",
   "metadata": {},
   "outputs": [
    {
     "data": {
      "text/html": [
       "<div>\n",
       "<style scoped>\n",
       "    .dataframe tbody tr th:only-of-type {\n",
       "        vertical-align: middle;\n",
       "    }\n",
       "\n",
       "    .dataframe tbody tr th {\n",
       "        vertical-align: top;\n",
       "    }\n",
       "\n",
       "    .dataframe thead th {\n",
       "        text-align: right;\n",
       "    }\n",
       "</style>\n",
       "<table border=\"1\" class=\"dataframe\">\n",
       "  <thead>\n",
       "    <tr style=\"text-align: right;\">\n",
       "      <th></th>\n",
       "      <th>Age_Height</th>\n",
       "      <th>Religion_Caste</th>\n",
       "      <th>Mother_Tongue</th>\n",
       "      <th>Profession</th>\n",
       "      <th>Location</th>\n",
       "      <th>message</th>\n",
       "    </tr>\n",
       "  </thead>\n",
       "  <tbody>\n",
       "    <tr>\n",
       "      <th>41</th>\n",
       "      <td>Age_Height</td>\n",
       "      <td>Religion_Caste</td>\n",
       "      <td>Mother_Tongue</td>\n",
       "      <td>Profession</td>\n",
       "      <td>Location</td>\n",
       "      <td>message</td>\n",
       "    </tr>\n",
       "    <tr>\n",
       "      <th>62</th>\n",
       "      <td>Age_Height</td>\n",
       "      <td>Religion_Caste</td>\n",
       "      <td>Mother_Tongue</td>\n",
       "      <td>Profession</td>\n",
       "      <td>Location</td>\n",
       "      <td>message</td>\n",
       "    </tr>\n",
       "    <tr>\n",
       "      <th>83</th>\n",
       "      <td>Age_Height</td>\n",
       "      <td>Religion_Caste</td>\n",
       "      <td>Mother_Tongue</td>\n",
       "      <td>Profession</td>\n",
       "      <td>Location</td>\n",
       "      <td>message</td>\n",
       "    </tr>\n",
       "    <tr>\n",
       "      <th>104</th>\n",
       "      <td>Age_Height</td>\n",
       "      <td>Religion_Caste</td>\n",
       "      <td>Mother_Tongue</td>\n",
       "      <td>Profession</td>\n",
       "      <td>Location</td>\n",
       "      <td>message</td>\n",
       "    </tr>\n",
       "    <tr>\n",
       "      <th>125</th>\n",
       "      <td>Age_Height</td>\n",
       "      <td>Religion_Caste</td>\n",
       "      <td>Mother_Tongue</td>\n",
       "      <td>Profession</td>\n",
       "      <td>Location</td>\n",
       "      <td>message</td>\n",
       "    </tr>\n",
       "    <tr>\n",
       "      <th>...</th>\n",
       "      <td>...</td>\n",
       "      <td>...</td>\n",
       "      <td>...</td>\n",
       "      <td>...</td>\n",
       "      <td>...</td>\n",
       "      <td>...</td>\n",
       "    </tr>\n",
       "    <tr>\n",
       "      <th>20915</th>\n",
       "      <td>Age_Height</td>\n",
       "      <td>Religion_Caste</td>\n",
       "      <td>Mother_Tongue</td>\n",
       "      <td>Profession</td>\n",
       "      <td>Location</td>\n",
       "      <td>message</td>\n",
       "    </tr>\n",
       "    <tr>\n",
       "      <th>20936</th>\n",
       "      <td>Age_Height</td>\n",
       "      <td>Religion_Caste</td>\n",
       "      <td>Mother_Tongue</td>\n",
       "      <td>Profession</td>\n",
       "      <td>Location</td>\n",
       "      <td>message</td>\n",
       "    </tr>\n",
       "    <tr>\n",
       "      <th>20957</th>\n",
       "      <td>Age_Height</td>\n",
       "      <td>Religion_Caste</td>\n",
       "      <td>Mother_Tongue</td>\n",
       "      <td>Profession</td>\n",
       "      <td>Location</td>\n",
       "      <td>message</td>\n",
       "    </tr>\n",
       "    <tr>\n",
       "      <th>20962</th>\n",
       "      <td>27, 5' 03\" (160 cm)</td>\n",
       "      <td>Hindu, Gupta</td>\n",
       "      <td>Hindi</td>\n",
       "      <td>Non-Working</td>\n",
       "      <td>, Delhi, India</td>\n",
       "      <td>Not Available...Read more</td>\n",
       "    </tr>\n",
       "    <tr>\n",
       "      <th>20964</th>\n",
       "      <td>29, 5' 00\" (152 cm)</td>\n",
       "      <td>Hindu, Gupta</td>\n",
       "      <td>Hindi</td>\n",
       "      <td>Others</td>\n",
       "      <td>, Delhi, India</td>\n",
       "      <td>My Daughter is a smart and dynamic girl brough...</td>\n",
       "    </tr>\n",
       "  </tbody>\n",
       "</table>\n",
       "<p>1088 rows × 6 columns</p>\n",
       "</div>"
      ],
      "text/plain": [
       "                Age_Height  Religion_Caste  Mother_Tongue   Profession  \\\n",
       "41              Age_Height  Religion_Caste  Mother_Tongue   Profession   \n",
       "62              Age_Height  Religion_Caste  Mother_Tongue   Profession   \n",
       "83              Age_Height  Religion_Caste  Mother_Tongue   Profession   \n",
       "104             Age_Height  Religion_Caste  Mother_Tongue   Profession   \n",
       "125             Age_Height  Religion_Caste  Mother_Tongue   Profession   \n",
       "...                    ...             ...            ...          ...   \n",
       "20915           Age_Height  Religion_Caste  Mother_Tongue   Profession   \n",
       "20936           Age_Height  Religion_Caste  Mother_Tongue   Profession   \n",
       "20957           Age_Height  Religion_Caste  Mother_Tongue   Profession   \n",
       "20962  27, 5' 03\" (160 cm)    Hindu, Gupta          Hindi  Non-Working   \n",
       "20964  29, 5' 00\" (152 cm)    Hindu, Gupta          Hindi       Others   \n",
       "\n",
       "             Location                                            message  \n",
       "41           Location                                            message  \n",
       "62           Location                                            message  \n",
       "83           Location                                            message  \n",
       "104          Location                                            message  \n",
       "125          Location                                            message  \n",
       "...               ...                                                ...  \n",
       "20915        Location                                            message  \n",
       "20936        Location                                            message  \n",
       "20957        Location                                            message  \n",
       "20962  , Delhi, India                          Not Available...Read more  \n",
       "20964  , Delhi, India  My Daughter is a smart and dynamic girl brough...  \n",
       "\n",
       "[1088 rows x 6 columns]"
      ]
     },
     "execution_count": 146,
     "metadata": {},
     "output_type": "execute_result"
    }
   ],
   "source": [
    "duplicateRows = data[data.duplicated()]\n",
    "duplicateRows"
   ]
  },
  {
   "cell_type": "code",
   "execution_count": 147,
   "id": "a2d5e4d2",
   "metadata": {},
   "outputs": [],
   "source": [
    "# delete rows with no informations\n",
    "data = data[~data.isin(['Mother_Tongue']).any(axis=1)]\n"
   ]
  },
  {
   "cell_type": "code",
   "execution_count": 148,
   "id": "6d38b7b7",
   "metadata": {},
   "outputs": [
    {
     "data": {
      "text/html": [
       "<div>\n",
       "<style scoped>\n",
       "    .dataframe tbody tr th:only-of-type {\n",
       "        vertical-align: middle;\n",
       "    }\n",
       "\n",
       "    .dataframe tbody tr th {\n",
       "        vertical-align: top;\n",
       "    }\n",
       "\n",
       "    .dataframe thead th {\n",
       "        text-align: right;\n",
       "    }\n",
       "</style>\n",
       "<table border=\"1\" class=\"dataframe\">\n",
       "  <thead>\n",
       "    <tr style=\"text-align: right;\">\n",
       "      <th></th>\n",
       "      <th>Age_Height</th>\n",
       "      <th>Religion_Caste</th>\n",
       "      <th>Mother_Tongue</th>\n",
       "      <th>Profession</th>\n",
       "      <th>Location</th>\n",
       "      <th>message</th>\n",
       "    </tr>\n",
       "  </thead>\n",
       "  <tbody>\n",
       "    <tr>\n",
       "      <th>940</th>\n",
       "      <td>30, 5' 06\" (167 cm)</td>\n",
       "      <td>Hindu, Gounder</td>\n",
       "      <td>Tamil</td>\n",
       "      <td>Not Specified</td>\n",
       "      <td>, Malaysia</td>\n",
       "      <td>I am currently living in malaysia. I am a smar...</td>\n",
       "    </tr>\n",
       "    <tr>\n",
       "      <th>1473</th>\n",
       "      <td>30, 5' 03\" (160 cm)</td>\n",
       "      <td>Hindu, Gupta</td>\n",
       "      <td>Hindi</td>\n",
       "      <td>Others</td>\n",
       "      <td>, Delhi, India</td>\n",
       "      <td>My Daughter is a smart and dynamic girl brough...</td>\n",
       "    </tr>\n",
       "    <tr>\n",
       "      <th>2480</th>\n",
       "      <td>27, 5' 04\" (162 cm)</td>\n",
       "      <td>Hindu, Gupta</td>\n",
       "      <td>Hindi</td>\n",
       "      <td>Non-Working</td>\n",
       "      <td>, Delhi, India</td>\n",
       "      <td>This profile is of my Daughter, who is simple ...</td>\n",
       "    </tr>\n",
       "    <tr>\n",
       "      <th>2992</th>\n",
       "      <td>27, 5' 00\" (152 cm)</td>\n",
       "      <td>Hindu, Gupta</td>\n",
       "      <td>Hindi</td>\n",
       "      <td>Non-Working</td>\n",
       "      <td>, Delhi, India</td>\n",
       "      <td>This profile is of my Daughter, who is simple ...</td>\n",
       "    </tr>\n",
       "    <tr>\n",
       "      <th>3286</th>\n",
       "      <td>28, 5' 00\" (152 cm)</td>\n",
       "      <td>Hindu, Gupta</td>\n",
       "      <td>Hindi</td>\n",
       "      <td>Non-Working</td>\n",
       "      <td>, Delhi, India</td>\n",
       "      <td>My Daughter is a smart and dynamic girl brough...</td>\n",
       "    </tr>\n",
       "    <tr>\n",
       "      <th>...</th>\n",
       "      <td>...</td>\n",
       "      <td>...</td>\n",
       "      <td>...</td>\n",
       "      <td>...</td>\n",
       "      <td>...</td>\n",
       "      <td>...</td>\n",
       "    </tr>\n",
       "    <tr>\n",
       "      <th>20372</th>\n",
       "      <td>32, 5' 05\" (165 cm)</td>\n",
       "      <td>Hindu, Kamma</td>\n",
       "      <td>Telugu</td>\n",
       "      <td>Not Specified</td>\n",
       "      <td>, USA</td>\n",
       "      <td>I am a simple girl with a good personality. I ...</td>\n",
       "    </tr>\n",
       "    <tr>\n",
       "      <th>20476</th>\n",
       "      <td>39, 5' 04\" (162 cm)</td>\n",
       "      <td>Hindu, Brahmin</td>\n",
       "      <td>Marathi</td>\n",
       "      <td>HR, Admin &amp; Managers</td>\n",
       "      <td>, Mumbai, Maharashtra, India</td>\n",
       "      <td>This profile is of my Daughter, who is simple ...</td>\n",
       "    </tr>\n",
       "    <tr>\n",
       "      <th>20580</th>\n",
       "      <td>32, 5' 03\" (160 cm)</td>\n",
       "      <td>Hindu, Gupta</td>\n",
       "      <td>Hindi</td>\n",
       "      <td>Non-Working</td>\n",
       "      <td>, Delhi, India</td>\n",
       "      <td>Not Available...Read more</td>\n",
       "    </tr>\n",
       "    <tr>\n",
       "      <th>20962</th>\n",
       "      <td>27, 5' 03\" (160 cm)</td>\n",
       "      <td>Hindu, Gupta</td>\n",
       "      <td>Hindi</td>\n",
       "      <td>Non-Working</td>\n",
       "      <td>, Delhi, India</td>\n",
       "      <td>Not Available...Read more</td>\n",
       "    </tr>\n",
       "    <tr>\n",
       "      <th>20964</th>\n",
       "      <td>29, 5' 00\" (152 cm)</td>\n",
       "      <td>Hindu, Gupta</td>\n",
       "      <td>Hindi</td>\n",
       "      <td>Others</td>\n",
       "      <td>, Delhi, India</td>\n",
       "      <td>My Daughter is a smart and dynamic girl brough...</td>\n",
       "    </tr>\n",
       "  </tbody>\n",
       "</table>\n",
       "<p>91 rows × 6 columns</p>\n",
       "</div>"
      ],
      "text/plain": [
       "                Age_Height  Religion_Caste Mother_Tongue  \\\n",
       "940    30, 5' 06\" (167 cm)  Hindu, Gounder         Tamil   \n",
       "1473   30, 5' 03\" (160 cm)    Hindu, Gupta         Hindi   \n",
       "2480   27, 5' 04\" (162 cm)    Hindu, Gupta         Hindi   \n",
       "2992   27, 5' 00\" (152 cm)    Hindu, Gupta         Hindi   \n",
       "3286   28, 5' 00\" (152 cm)    Hindu, Gupta         Hindi   \n",
       "...                    ...             ...           ...   \n",
       "20372  32, 5' 05\" (165 cm)    Hindu, Kamma        Telugu   \n",
       "20476  39, 5' 04\" (162 cm)  Hindu, Brahmin       Marathi   \n",
       "20580  32, 5' 03\" (160 cm)    Hindu, Gupta         Hindi   \n",
       "20962  27, 5' 03\" (160 cm)    Hindu, Gupta         Hindi   \n",
       "20964  29, 5' 00\" (152 cm)    Hindu, Gupta         Hindi   \n",
       "\n",
       "                 Profession                      Location  \\\n",
       "940           Not Specified                    , Malaysia   \n",
       "1473                 Others                , Delhi, India   \n",
       "2480            Non-Working                , Delhi, India   \n",
       "2992            Non-Working                , Delhi, India   \n",
       "3286            Non-Working                , Delhi, India   \n",
       "...                     ...                           ...   \n",
       "20372         Not Specified                         , USA   \n",
       "20476  HR, Admin & Managers  , Mumbai, Maharashtra, India   \n",
       "20580           Non-Working                , Delhi, India   \n",
       "20962           Non-Working                , Delhi, India   \n",
       "20964                Others                , Delhi, India   \n",
       "\n",
       "                                                 message  \n",
       "940    I am currently living in malaysia. I am a smar...  \n",
       "1473   My Daughter is a smart and dynamic girl brough...  \n",
       "2480   This profile is of my Daughter, who is simple ...  \n",
       "2992   This profile is of my Daughter, who is simple ...  \n",
       "3286   My Daughter is a smart and dynamic girl brough...  \n",
       "...                                                  ...  \n",
       "20372  I am a simple girl with a good personality. I ...  \n",
       "20476  This profile is of my Daughter, who is simple ...  \n",
       "20580                          Not Available...Read more  \n",
       "20962                          Not Available...Read more  \n",
       "20964  My Daughter is a smart and dynamic girl brough...  \n",
       "\n",
       "[91 rows x 6 columns]"
      ]
     },
     "execution_count": 148,
     "metadata": {},
     "output_type": "execute_result"
    }
   ],
   "source": [
    "duplicateRows = data[data.duplicated()]\n",
    "duplicateRows"
   ]
  },
  {
   "cell_type": "code",
   "execution_count": 149,
   "id": "7c667486",
   "metadata": {},
   "outputs": [
    {
     "data": {
      "text/plain": [
       "Age_Height        0\n",
       "Religion_Caste    0\n",
       "Mother_Tongue     2\n",
       "Profession        0\n",
       "Location          0\n",
       "message           0\n",
       "dtype: int64"
      ]
     },
     "execution_count": 149,
     "metadata": {},
     "output_type": "execute_result"
    }
   ],
   "source": [
    "## Missing data check\n",
    "data.isna().sum()"
   ]
  },
  {
   "cell_type": "code",
   "execution_count": 150,
   "id": "feddaaf3",
   "metadata": {},
   "outputs": [
    {
     "data": {
      "text/html": [
       "<div>\n",
       "<style scoped>\n",
       "    .dataframe tbody tr th:only-of-type {\n",
       "        vertical-align: middle;\n",
       "    }\n",
       "\n",
       "    .dataframe tbody tr th {\n",
       "        vertical-align: top;\n",
       "    }\n",
       "\n",
       "    .dataframe thead th {\n",
       "        text-align: right;\n",
       "    }\n",
       "</style>\n",
       "<table border=\"1\" class=\"dataframe\">\n",
       "  <thead>\n",
       "    <tr style=\"text-align: right;\">\n",
       "      <th></th>\n",
       "      <th>Age_Height</th>\n",
       "      <th>Religion_Caste</th>\n",
       "      <th>Mother_Tongue</th>\n",
       "      <th>Profession</th>\n",
       "      <th>Location</th>\n",
       "      <th>message</th>\n",
       "    </tr>\n",
       "  </thead>\n",
       "  <tbody>\n",
       "    <tr>\n",
       "      <th>17027</th>\n",
       "      <td>23, 6' 00\" (182 cm)</td>\n",
       "      <td>Sikh, Jatt</td>\n",
       "      <td>NaN</td>\n",
       "      <td>Not Specified</td>\n",
       "      <td>, India</td>\n",
       "      <td>I am a \"~CASTE~\" girl, who follows its traditi...</td>\n",
       "    </tr>\n",
       "    <tr>\n",
       "      <th>17781</th>\n",
       "      <td>25, 6' 00\" (182 cm)</td>\n",
       "      <td>Hindu, Agarwal</td>\n",
       "      <td>NaN</td>\n",
       "      <td>Not Specified</td>\n",
       "      <td>, India</td>\n",
       "      <td>I am a beautiful and natural complexioned gir...</td>\n",
       "    </tr>\n",
       "  </tbody>\n",
       "</table>\n",
       "</div>"
      ],
      "text/plain": [
       "                Age_Height  Religion_Caste Mother_Tongue     Profession  \\\n",
       "17027  23, 6' 00\" (182 cm)      Sikh, Jatt           NaN  Not Specified   \n",
       "17781  25, 6' 00\" (182 cm)  Hindu, Agarwal           NaN  Not Specified   \n",
       "\n",
       "      Location                                            message  \n",
       "17027  , India  I am a \"~CASTE~\" girl, who follows its traditi...  \n",
       "17781  , India   I am a beautiful and natural complexioned gir...  "
      ]
     },
     "execution_count": 150,
     "metadata": {},
     "output_type": "execute_result"
    }
   ],
   "source": [
    "data[data.isnull().any(axis=1)]"
   ]
  },
  {
   "cell_type": "code",
   "execution_count": 151,
   "id": "115909a6",
   "metadata": {},
   "outputs": [
    {
     "data": {
      "text/plain": [
       "0    Punjabi\n",
       "dtype: object"
      ]
     },
     "execution_count": 151,
     "metadata": {},
     "output_type": "execute_result"
    }
   ],
   "source": [
    "#to fix Mother Tongue, I check other religion_caste mother tongue\n",
    "df=data[data['Religion_Caste'].str.contains(\"Sikh, Jatt\")] \n",
    "df.Mother_Tongue.mode()\n",
    "#Ifill with pungabi\n"
   ]
  },
  {
   "cell_type": "code",
   "execution_count": 152,
   "id": "828ff0a4",
   "metadata": {},
   "outputs": [],
   "source": [
    "data.Mother_Tongue.loc[[17027]]=data.Mother_Tongue.loc[[17027]].fillna('Punjabi') \n"
   ]
  },
  {
   "cell_type": "code",
   "execution_count": 153,
   "id": "40d83b0c",
   "metadata": {},
   "outputs": [
    {
     "data": {
      "text/html": [
       "<div>\n",
       "<style scoped>\n",
       "    .dataframe tbody tr th:only-of-type {\n",
       "        vertical-align: middle;\n",
       "    }\n",
       "\n",
       "    .dataframe tbody tr th {\n",
       "        vertical-align: top;\n",
       "    }\n",
       "\n",
       "    .dataframe thead th {\n",
       "        text-align: right;\n",
       "    }\n",
       "</style>\n",
       "<table border=\"1\" class=\"dataframe\">\n",
       "  <thead>\n",
       "    <tr style=\"text-align: right;\">\n",
       "      <th></th>\n",
       "      <th>Age_Height</th>\n",
       "      <th>Religion_Caste</th>\n",
       "      <th>Mother_Tongue</th>\n",
       "      <th>Profession</th>\n",
       "      <th>Location</th>\n",
       "      <th>message</th>\n",
       "    </tr>\n",
       "  </thead>\n",
       "  <tbody>\n",
       "    <tr>\n",
       "      <th>17027</th>\n",
       "      <td>23, 6' 00\" (182 cm)</td>\n",
       "      <td>Sikh, Jatt</td>\n",
       "      <td>Punjabi</td>\n",
       "      <td>Not Specified</td>\n",
       "      <td>, India</td>\n",
       "      <td>I am a \"~CASTE~\" girl, who follows its traditi...</td>\n",
       "    </tr>\n",
       "  </tbody>\n",
       "</table>\n",
       "</div>"
      ],
      "text/plain": [
       "                Age_Height Religion_Caste Mother_Tongue     Profession  \\\n",
       "17027  23, 6' 00\" (182 cm)     Sikh, Jatt       Punjabi  Not Specified   \n",
       "\n",
       "      Location                                            message  \n",
       "17027  , India  I am a \"~CASTE~\" girl, who follows its traditi...  "
      ]
     },
     "execution_count": 153,
     "metadata": {},
     "output_type": "execute_result"
    }
   ],
   "source": [
    "data.loc[[17027]]"
   ]
  },
  {
   "cell_type": "code",
   "execution_count": 96,
   "id": "bdb859dc",
   "metadata": {},
   "outputs": [
    {
     "data": {
      "text/plain": [
       "0    Hindi\n",
       "dtype: object"
      ]
     },
     "execution_count": 96,
     "metadata": {},
     "output_type": "execute_result"
    }
   ],
   "source": [
    "#to fix Mother Tongue, I check other religion_caste mother tongue\n",
    "df2=data[data['Religion_Caste'].str.contains(\"Hindu, Agarwal\")] \n",
    "df2.Mother_Tongue.mode()\n",
    "#Ifill with hindi\n"
   ]
  },
  {
   "cell_type": "code",
   "execution_count": 154,
   "id": "7ffd164f",
   "metadata": {},
   "outputs": [],
   "source": [
    "data.Mother_Tongue.loc[[17781]]=data.Mother_Tongue.loc[[17781]].fillna('Hindi') "
   ]
  },
  {
   "cell_type": "code",
   "execution_count": 155,
   "id": "fed1921e",
   "metadata": {},
   "outputs": [
    {
     "data": {
      "text/plain": [
       "Age_Height        0\n",
       "Religion_Caste    0\n",
       "Mother_Tongue     0\n",
       "Profession        0\n",
       "Location          0\n",
       "message           0\n",
       "dtype: int64"
      ]
     },
     "execution_count": 155,
     "metadata": {},
     "output_type": "execute_result"
    }
   ],
   "source": [
    "data.isna().sum()"
   ]
  },
  {
   "cell_type": "code",
   "execution_count": 249,
   "id": "e98360d2",
   "metadata": {},
   "outputs": [
    {
     "data": {
      "text/html": [
       "<div>\n",
       "<style scoped>\n",
       "    .dataframe tbody tr th:only-of-type {\n",
       "        vertical-align: middle;\n",
       "    }\n",
       "\n",
       "    .dataframe tbody tr th {\n",
       "        vertical-align: top;\n",
       "    }\n",
       "\n",
       "    .dataframe thead th {\n",
       "        text-align: right;\n",
       "    }\n",
       "</style>\n",
       "<table border=\"1\" class=\"dataframe\">\n",
       "  <thead>\n",
       "    <tr style=\"text-align: right;\">\n",
       "      <th></th>\n",
       "      <th>Age_Height</th>\n",
       "      <th>Religion_Caste</th>\n",
       "      <th>Mother_Tongue</th>\n",
       "      <th>Profession</th>\n",
       "      <th>Location</th>\n",
       "      <th>message</th>\n",
       "    </tr>\n",
       "  </thead>\n",
       "  <tbody>\n",
       "    <tr>\n",
       "      <th>0</th>\n",
       "      <td>25, 5' 05\" (165 cm)</td>\n",
       "      <td>Christian, Catholic</td>\n",
       "      <td>English</td>\n",
       "      <td>Not Specified</td>\n",
       "      <td>, USA</td>\n",
       "      <td>I am a simple girl with a good personality. I ...</td>\n",
       "    </tr>\n",
       "    <tr>\n",
       "      <th>1</th>\n",
       "      <td>27, 5' 01\" (155 cm)</td>\n",
       "      <td>Sikh, Arora</td>\n",
       "      <td>Punjabi</td>\n",
       "      <td>Government / Defence</td>\n",
       "      <td>, Jaipur, Rajasthan, India</td>\n",
       "      <td>My Daughter is a smart and dynamic girl brough...</td>\n",
       "    </tr>\n",
       "    <tr>\n",
       "      <th>2</th>\n",
       "      <td>24, 5' 03\" (160 cm)</td>\n",
       "      <td>Hindu, Teli</td>\n",
       "      <td>Marathi</td>\n",
       "      <td>Hotels &amp; Travel</td>\n",
       "      <td>, Nagpur, Maharashtra, India</td>\n",
       "      <td>I am a simple girl with a good personality. I ...</td>\n",
       "    </tr>\n",
       "    <tr>\n",
       "      <th>3</th>\n",
       "      <td>24, 5' 02\" (157 cm)</td>\n",
       "      <td>Christian, Roman Catholic</td>\n",
       "      <td>Hindi</td>\n",
       "      <td>Not Specified</td>\n",
       "      <td>, Italy</td>\n",
       "      <td>I belong to \"Roman Catholic\" caste and I am in...</td>\n",
       "    </tr>\n",
       "    <tr>\n",
       "      <th>4</th>\n",
       "      <td>35, 5' 00\" (152 cm)</td>\n",
       "      <td>Muslim, Sunni</td>\n",
       "      <td>Persian</td>\n",
       "      <td>Not Specified</td>\n",
       "      <td>, Australia</td>\n",
       "      <td>I am a simple girl with a good personality. I ...</td>\n",
       "    </tr>\n",
       "    <tr>\n",
       "      <th>...</th>\n",
       "      <td>...</td>\n",
       "      <td>...</td>\n",
       "      <td>...</td>\n",
       "      <td>...</td>\n",
       "      <td>...</td>\n",
       "      <td>...</td>\n",
       "    </tr>\n",
       "    <tr>\n",
       "      <th>20973</th>\n",
       "      <td>23, 5' 07\" (170 cm)</td>\n",
       "      <td>Hindu, Settibalija</td>\n",
       "      <td>Telugu</td>\n",
       "      <td>Not Specified</td>\n",
       "      <td>, Hitoor, Andhra Pradesh, India</td>\n",
       "      <td>I am a simple girl with a good personality. I ...</td>\n",
       "    </tr>\n",
       "    <tr>\n",
       "      <th>20974</th>\n",
       "      <td>22, 5' 05\" (165 cm)</td>\n",
       "      <td>Hindu, Settibalija</td>\n",
       "      <td>Telugu</td>\n",
       "      <td>Not Specified</td>\n",
       "      <td>, Hitoor, Andhra Pradesh, India</td>\n",
       "      <td>I am a simple girl with a good personality. I ...</td>\n",
       "    </tr>\n",
       "    <tr>\n",
       "      <th>20975</th>\n",
       "      <td>22, 5' 05\" (165 cm)</td>\n",
       "      <td>Muslim, Islam</td>\n",
       "      <td>Malayalam</td>\n",
       "      <td>Not Specified</td>\n",
       "      <td>, Thiruvananthapuram, Kerala, India</td>\n",
       "      <td>This profile is of my Daughter, who is simple ...</td>\n",
       "    </tr>\n",
       "    <tr>\n",
       "      <th>20976</th>\n",
       "      <td>24, 5' 03\" (160 cm)</td>\n",
       "      <td>Hindu, Dhangar</td>\n",
       "      <td>Marathi</td>\n",
       "      <td>Not Specified</td>\n",
       "      <td>, Pune, Maharashtra, India</td>\n",
       "      <td>I have made my profile here with the reference...</td>\n",
       "    </tr>\n",
       "    <tr>\n",
       "      <th>20977</th>\n",
       "      <td>25, 5' 01\" (155 cm)</td>\n",
       "      <td>Hindu, Brahmin</td>\n",
       "      <td>Tamil</td>\n",
       "      <td>Non-Working</td>\n",
       "      <td>, Malaysia</td>\n",
       "      <td>Belonging to \"~CASTE~\", I would prefer a guy w...</td>\n",
       "    </tr>\n",
       "  </tbody>\n",
       "</table>\n",
       "<p>19980 rows × 6 columns</p>\n",
       "</div>"
      ],
      "text/plain": [
       "                Age_Height             Religion_Caste Mother_Tongue  \\\n",
       "0      25, 5' 05\" (165 cm)        Christian, Catholic       English   \n",
       "1      27, 5' 01\" (155 cm)                Sikh, Arora       Punjabi   \n",
       "2      24, 5' 03\" (160 cm)                Hindu, Teli       Marathi   \n",
       "3      24, 5' 02\" (157 cm)  Christian, Roman Catholic         Hindi   \n",
       "4      35, 5' 00\" (152 cm)              Muslim, Sunni       Persian   \n",
       "...                    ...                        ...           ...   \n",
       "20973  23, 5' 07\" (170 cm)         Hindu, Settibalija        Telugu   \n",
       "20974  22, 5' 05\" (165 cm)         Hindu, Settibalija        Telugu   \n",
       "20975  22, 5' 05\" (165 cm)              Muslim, Islam     Malayalam   \n",
       "20976  24, 5' 03\" (160 cm)             Hindu, Dhangar       Marathi   \n",
       "20977  25, 5' 01\" (155 cm)             Hindu, Brahmin         Tamil   \n",
       "\n",
       "                 Profession                             Location  \\\n",
       "0             Not Specified                                , USA   \n",
       "1      Government / Defence           , Jaipur, Rajasthan, India   \n",
       "2           Hotels & Travel         , Nagpur, Maharashtra, India   \n",
       "3             Not Specified                              , Italy   \n",
       "4             Not Specified                          , Australia   \n",
       "...                     ...                                  ...   \n",
       "20973         Not Specified      , Hitoor, Andhra Pradesh, India   \n",
       "20974         Not Specified      , Hitoor, Andhra Pradesh, India   \n",
       "20975         Not Specified  , Thiruvananthapuram, Kerala, India   \n",
       "20976         Not Specified           , Pune, Maharashtra, India   \n",
       "20977           Non-Working                           , Malaysia   \n",
       "\n",
       "                                                 message  \n",
       "0      I am a simple girl with a good personality. I ...  \n",
       "1      My Daughter is a smart and dynamic girl brough...  \n",
       "2      I am a simple girl with a good personality. I ...  \n",
       "3      I belong to \"Roman Catholic\" caste and I am in...  \n",
       "4      I am a simple girl with a good personality. I ...  \n",
       "...                                                  ...  \n",
       "20973  I am a simple girl with a good personality. I ...  \n",
       "20974  I am a simple girl with a good personality. I ...  \n",
       "20975  This profile is of my Daughter, who is simple ...  \n",
       "20976  I have made my profile here with the reference...  \n",
       "20977  Belonging to \"~CASTE~\", I would prefer a guy w...  \n",
       "\n",
       "[19980 rows x 6 columns]"
      ]
     },
     "execution_count": 249,
     "metadata": {},
     "output_type": "execute_result"
    }
   ],
   "source": [
    "data"
   ]
  },
  {
   "cell_type": "code",
   "execution_count": 250,
   "id": "5ac75d6c",
   "metadata": {},
   "outputs": [
    {
     "data": {
      "text/html": [
       "<div>\n",
       "<style scoped>\n",
       "    .dataframe tbody tr th:only-of-type {\n",
       "        vertical-align: middle;\n",
       "    }\n",
       "\n",
       "    .dataframe tbody tr th {\n",
       "        vertical-align: top;\n",
       "    }\n",
       "\n",
       "    .dataframe thead th {\n",
       "        text-align: right;\n",
       "    }\n",
       "</style>\n",
       "<table border=\"1\" class=\"dataframe\">\n",
       "  <thead>\n",
       "    <tr style=\"text-align: right;\">\n",
       "      <th></th>\n",
       "      <th>0</th>\n",
       "      <th>1</th>\n",
       "    </tr>\n",
       "  </thead>\n",
       "  <tbody>\n",
       "    <tr>\n",
       "      <th>0</th>\n",
       "      <td>25</td>\n",
       "      <td>5' 05\" (165 cm)</td>\n",
       "    </tr>\n",
       "    <tr>\n",
       "      <th>1</th>\n",
       "      <td>27</td>\n",
       "      <td>5' 01\" (155 cm)</td>\n",
       "    </tr>\n",
       "    <tr>\n",
       "      <th>2</th>\n",
       "      <td>24</td>\n",
       "      <td>5' 03\" (160 cm)</td>\n",
       "    </tr>\n",
       "    <tr>\n",
       "      <th>3</th>\n",
       "      <td>24</td>\n",
       "      <td>5' 02\" (157 cm)</td>\n",
       "    </tr>\n",
       "    <tr>\n",
       "      <th>4</th>\n",
       "      <td>35</td>\n",
       "      <td>5' 00\" (152 cm)</td>\n",
       "    </tr>\n",
       "    <tr>\n",
       "      <th>...</th>\n",
       "      <td>...</td>\n",
       "      <td>...</td>\n",
       "    </tr>\n",
       "    <tr>\n",
       "      <th>20973</th>\n",
       "      <td>23</td>\n",
       "      <td>5' 07\" (170 cm)</td>\n",
       "    </tr>\n",
       "    <tr>\n",
       "      <th>20974</th>\n",
       "      <td>22</td>\n",
       "      <td>5' 05\" (165 cm)</td>\n",
       "    </tr>\n",
       "    <tr>\n",
       "      <th>20975</th>\n",
       "      <td>22</td>\n",
       "      <td>5' 05\" (165 cm)</td>\n",
       "    </tr>\n",
       "    <tr>\n",
       "      <th>20976</th>\n",
       "      <td>24</td>\n",
       "      <td>5' 03\" (160 cm)</td>\n",
       "    </tr>\n",
       "    <tr>\n",
       "      <th>20977</th>\n",
       "      <td>25</td>\n",
       "      <td>5' 01\" (155 cm)</td>\n",
       "    </tr>\n",
       "  </tbody>\n",
       "</table>\n",
       "<p>19980 rows × 2 columns</p>\n",
       "</div>"
      ],
      "text/plain": [
       "        0                 1\n",
       "0      25   5' 05\" (165 cm)\n",
       "1      27   5' 01\" (155 cm)\n",
       "2      24   5' 03\" (160 cm)\n",
       "3      24   5' 02\" (157 cm)\n",
       "4      35   5' 00\" (152 cm)\n",
       "...    ..               ...\n",
       "20973  23   5' 07\" (170 cm)\n",
       "20974  22   5' 05\" (165 cm)\n",
       "20975  22   5' 05\" (165 cm)\n",
       "20976  24   5' 03\" (160 cm)\n",
       "20977  25   5' 01\" (155 cm)\n",
       "\n",
       "[19980 rows x 2 columns]"
      ]
     },
     "execution_count": 250,
     "metadata": {},
     "output_type": "execute_result"
    }
   ],
   "source": [
    "cat =data['Age_Height'].str.split(',').apply(pd.Series).iloc[:,[0,1]]\n",
    "cat"
   ]
  },
  {
   "cell_type": "code",
   "execution_count": 252,
   "id": "8039629c",
   "metadata": {},
   "outputs": [
    {
     "data": {
      "text/html": [
       "<div>\n",
       "<style scoped>\n",
       "    .dataframe tbody tr th:only-of-type {\n",
       "        vertical-align: middle;\n",
       "    }\n",
       "\n",
       "    .dataframe tbody tr th {\n",
       "        vertical-align: top;\n",
       "    }\n",
       "\n",
       "    .dataframe thead th {\n",
       "        text-align: right;\n",
       "    }\n",
       "</style>\n",
       "<table border=\"1\" class=\"dataframe\">\n",
       "  <thead>\n",
       "    <tr style=\"text-align: right;\">\n",
       "      <th></th>\n",
       "      <th>Age</th>\n",
       "      <th>Height</th>\n",
       "    </tr>\n",
       "  </thead>\n",
       "  <tbody>\n",
       "    <tr>\n",
       "      <th>0</th>\n",
       "      <td>25</td>\n",
       "      <td>5' 05\" (165 cm)</td>\n",
       "    </tr>\n",
       "    <tr>\n",
       "      <th>1</th>\n",
       "      <td>27</td>\n",
       "      <td>5' 01\" (155 cm)</td>\n",
       "    </tr>\n",
       "    <tr>\n",
       "      <th>2</th>\n",
       "      <td>24</td>\n",
       "      <td>5' 03\" (160 cm)</td>\n",
       "    </tr>\n",
       "    <tr>\n",
       "      <th>3</th>\n",
       "      <td>24</td>\n",
       "      <td>5' 02\" (157 cm)</td>\n",
       "    </tr>\n",
       "    <tr>\n",
       "      <th>4</th>\n",
       "      <td>35</td>\n",
       "      <td>5' 00\" (152 cm)</td>\n",
       "    </tr>\n",
       "    <tr>\n",
       "      <th>...</th>\n",
       "      <td>...</td>\n",
       "      <td>...</td>\n",
       "    </tr>\n",
       "    <tr>\n",
       "      <th>20973</th>\n",
       "      <td>23</td>\n",
       "      <td>5' 07\" (170 cm)</td>\n",
       "    </tr>\n",
       "    <tr>\n",
       "      <th>20974</th>\n",
       "      <td>22</td>\n",
       "      <td>5' 05\" (165 cm)</td>\n",
       "    </tr>\n",
       "    <tr>\n",
       "      <th>20975</th>\n",
       "      <td>22</td>\n",
       "      <td>5' 05\" (165 cm)</td>\n",
       "    </tr>\n",
       "    <tr>\n",
       "      <th>20976</th>\n",
       "      <td>24</td>\n",
       "      <td>5' 03\" (160 cm)</td>\n",
       "    </tr>\n",
       "    <tr>\n",
       "      <th>20977</th>\n",
       "      <td>25</td>\n",
       "      <td>5' 01\" (155 cm)</td>\n",
       "    </tr>\n",
       "  </tbody>\n",
       "</table>\n",
       "<p>19980 rows × 2 columns</p>\n",
       "</div>"
      ],
      "text/plain": [
       "      Age            Height\n",
       "0      25   5' 05\" (165 cm)\n",
       "1      27   5' 01\" (155 cm)\n",
       "2      24   5' 03\" (160 cm)\n",
       "3      24   5' 02\" (157 cm)\n",
       "4      35   5' 00\" (152 cm)\n",
       "...    ..               ...\n",
       "20973  23   5' 07\" (170 cm)\n",
       "20974  22   5' 05\" (165 cm)\n",
       "20975  22   5' 05\" (165 cm)\n",
       "20976  24   5' 03\" (160 cm)\n",
       "20977  25   5' 01\" (155 cm)\n",
       "\n",
       "[19980 rows x 2 columns]"
      ]
     },
     "execution_count": 252,
     "metadata": {},
     "output_type": "execute_result"
    }
   ],
   "source": [
    "cat=cat.rename(columns={0:'Age', 1: 'Height'})\n",
    "cat"
   ]
  },
  {
   "cell_type": "code",
   "execution_count": 254,
   "id": "76b47ac2",
   "metadata": {},
   "outputs": [
    {
     "data": {
      "text/html": [
       "<div>\n",
       "<style scoped>\n",
       "    .dataframe tbody tr th:only-of-type {\n",
       "        vertical-align: middle;\n",
       "    }\n",
       "\n",
       "    .dataframe tbody tr th {\n",
       "        vertical-align: top;\n",
       "    }\n",
       "\n",
       "    .dataframe thead th {\n",
       "        text-align: right;\n",
       "    }\n",
       "</style>\n",
       "<table border=\"1\" class=\"dataframe\">\n",
       "  <thead>\n",
       "    <tr style=\"text-align: right;\">\n",
       "      <th></th>\n",
       "      <th>Age</th>\n",
       "      <th>Height</th>\n",
       "    </tr>\n",
       "  </thead>\n",
       "  <tbody>\n",
       "    <tr>\n",
       "      <th>0</th>\n",
       "      <td>25</td>\n",
       "      <td>165</td>\n",
       "    </tr>\n",
       "    <tr>\n",
       "      <th>1</th>\n",
       "      <td>27</td>\n",
       "      <td>155</td>\n",
       "    </tr>\n",
       "    <tr>\n",
       "      <th>2</th>\n",
       "      <td>24</td>\n",
       "      <td>160</td>\n",
       "    </tr>\n",
       "    <tr>\n",
       "      <th>3</th>\n",
       "      <td>24</td>\n",
       "      <td>157</td>\n",
       "    </tr>\n",
       "    <tr>\n",
       "      <th>4</th>\n",
       "      <td>35</td>\n",
       "      <td>152</td>\n",
       "    </tr>\n",
       "  </tbody>\n",
       "</table>\n",
       "</div>"
      ],
      "text/plain": [
       "  Age Height\n",
       "0  25   165 \n",
       "1  27   155 \n",
       "2  24   160 \n",
       "3  24   157 \n",
       "4  35   152 "
      ]
     },
     "execution_count": 254,
     "metadata": {},
     "output_type": "execute_result"
    }
   ],
   "source": [
    "cat.Height=cat.Height.str.replace(r\"[^|]*[(]\", '', regex=True) #any caratere before (\n",
    "cat.Height=cat.Height.str.replace(r\"c[^|]*$\", '', regex=True) #any caractere apres c jusqu'a la fin du string $\n",
    "cat.head()"
   ]
  },
  {
   "cell_type": "code",
   "execution_count": null,
   "id": "aa2f1c69",
   "metadata": {},
   "outputs": [],
   "source": [
    "data=data.join(cat)"
   ]
  },
  {
   "cell_type": "code",
   "execution_count": 258,
   "id": "ce1aa33f",
   "metadata": {},
   "outputs": [
    {
     "data": {
      "text/html": [
       "<div>\n",
       "<style scoped>\n",
       "    .dataframe tbody tr th:only-of-type {\n",
       "        vertical-align: middle;\n",
       "    }\n",
       "\n",
       "    .dataframe tbody tr th {\n",
       "        vertical-align: top;\n",
       "    }\n",
       "\n",
       "    .dataframe thead th {\n",
       "        text-align: right;\n",
       "    }\n",
       "</style>\n",
       "<table border=\"1\" class=\"dataframe\">\n",
       "  <thead>\n",
       "    <tr style=\"text-align: right;\">\n",
       "      <th></th>\n",
       "      <th>Age_Height</th>\n",
       "      <th>Religion_Caste</th>\n",
       "      <th>Mother_Tongue</th>\n",
       "      <th>Profession</th>\n",
       "      <th>Location</th>\n",
       "      <th>message</th>\n",
       "      <th>Age</th>\n",
       "      <th>Height</th>\n",
       "    </tr>\n",
       "  </thead>\n",
       "  <tbody>\n",
       "    <tr>\n",
       "      <th>0</th>\n",
       "      <td>25, 5' 05\" (165 cm)</td>\n",
       "      <td>Christian, Catholic</td>\n",
       "      <td>English</td>\n",
       "      <td>Not Specified</td>\n",
       "      <td>, USA</td>\n",
       "      <td>I am a simple girl with a good personality. I ...</td>\n",
       "      <td>25</td>\n",
       "      <td>165</td>\n",
       "    </tr>\n",
       "    <tr>\n",
       "      <th>1</th>\n",
       "      <td>27, 5' 01\" (155 cm)</td>\n",
       "      <td>Sikh, Arora</td>\n",
       "      <td>Punjabi</td>\n",
       "      <td>Government / Defence</td>\n",
       "      <td>, Jaipur, Rajasthan, India</td>\n",
       "      <td>My Daughter is a smart and dynamic girl brough...</td>\n",
       "      <td>27</td>\n",
       "      <td>155</td>\n",
       "    </tr>\n",
       "    <tr>\n",
       "      <th>2</th>\n",
       "      <td>24, 5' 03\" (160 cm)</td>\n",
       "      <td>Hindu, Teli</td>\n",
       "      <td>Marathi</td>\n",
       "      <td>Hotels &amp; Travel</td>\n",
       "      <td>, Nagpur, Maharashtra, India</td>\n",
       "      <td>I am a simple girl with a good personality. I ...</td>\n",
       "      <td>24</td>\n",
       "      <td>160</td>\n",
       "    </tr>\n",
       "  </tbody>\n",
       "</table>\n",
       "</div>"
      ],
      "text/plain": [
       "            Age_Height       Religion_Caste Mother_Tongue  \\\n",
       "0  25, 5' 05\" (165 cm)  Christian, Catholic       English   \n",
       "1  27, 5' 01\" (155 cm)          Sikh, Arora       Punjabi   \n",
       "2  24, 5' 03\" (160 cm)          Hindu, Teli       Marathi   \n",
       "\n",
       "             Profession                      Location  \\\n",
       "0         Not Specified                         , USA   \n",
       "1  Government / Defence    , Jaipur, Rajasthan, India   \n",
       "2       Hotels & Travel  , Nagpur, Maharashtra, India   \n",
       "\n",
       "                                             message Age Height  \n",
       "0  I am a simple girl with a good personality. I ...  25   165   \n",
       "1  My Daughter is a smart and dynamic girl brough...  27   155   \n",
       "2  I am a simple girl with a good personality. I ...  24   160   "
      ]
     },
     "execution_count": 258,
     "metadata": {},
     "output_type": "execute_result"
    }
   ],
   "source": [
    "data.head(3)"
   ]
  },
  {
   "cell_type": "code",
   "execution_count": 263,
   "id": "2ce110a7",
   "metadata": {},
   "outputs": [
    {
     "data": {
      "text/html": [
       "<div>\n",
       "<style scoped>\n",
       "    .dataframe tbody tr th:only-of-type {\n",
       "        vertical-align: middle;\n",
       "    }\n",
       "\n",
       "    .dataframe tbody tr th {\n",
       "        vertical-align: top;\n",
       "    }\n",
       "\n",
       "    .dataframe thead th {\n",
       "        text-align: right;\n",
       "    }\n",
       "</style>\n",
       "<table border=\"1\" class=\"dataframe\">\n",
       "  <thead>\n",
       "    <tr style=\"text-align: right;\">\n",
       "      <th></th>\n",
       "      <th>0</th>\n",
       "      <th>1</th>\n",
       "    </tr>\n",
       "  </thead>\n",
       "  <tbody>\n",
       "    <tr>\n",
       "      <th>0</th>\n",
       "      <td>Christian</td>\n",
       "      <td>Catholic</td>\n",
       "    </tr>\n",
       "    <tr>\n",
       "      <th>1</th>\n",
       "      <td>Sikh</td>\n",
       "      <td>Arora</td>\n",
       "    </tr>\n",
       "    <tr>\n",
       "      <th>2</th>\n",
       "      <td>Hindu</td>\n",
       "      <td>Teli</td>\n",
       "    </tr>\n",
       "    <tr>\n",
       "      <th>3</th>\n",
       "      <td>Christian</td>\n",
       "      <td>Roman Catholic</td>\n",
       "    </tr>\n",
       "    <tr>\n",
       "      <th>4</th>\n",
       "      <td>Muslim</td>\n",
       "      <td>Sunni</td>\n",
       "    </tr>\n",
       "    <tr>\n",
       "      <th>...</th>\n",
       "      <td>...</td>\n",
       "      <td>...</td>\n",
       "    </tr>\n",
       "    <tr>\n",
       "      <th>20973</th>\n",
       "      <td>Hindu</td>\n",
       "      <td>Settibalija</td>\n",
       "    </tr>\n",
       "    <tr>\n",
       "      <th>20974</th>\n",
       "      <td>Hindu</td>\n",
       "      <td>Settibalija</td>\n",
       "    </tr>\n",
       "    <tr>\n",
       "      <th>20975</th>\n",
       "      <td>Muslim</td>\n",
       "      <td>Islam</td>\n",
       "    </tr>\n",
       "    <tr>\n",
       "      <th>20976</th>\n",
       "      <td>Hindu</td>\n",
       "      <td>Dhangar</td>\n",
       "    </tr>\n",
       "    <tr>\n",
       "      <th>20977</th>\n",
       "      <td>Hindu</td>\n",
       "      <td>Brahmin</td>\n",
       "    </tr>\n",
       "  </tbody>\n",
       "</table>\n",
       "<p>19980 rows × 2 columns</p>\n",
       "</div>"
      ],
      "text/plain": [
       "               0                1\n",
       "0      Christian         Catholic\n",
       "1           Sikh            Arora\n",
       "2          Hindu             Teli\n",
       "3      Christian   Roman Catholic\n",
       "4         Muslim            Sunni\n",
       "...          ...              ...\n",
       "20973      Hindu      Settibalija\n",
       "20974      Hindu      Settibalija\n",
       "20975     Muslim            Islam\n",
       "20976      Hindu          Dhangar\n",
       "20977      Hindu          Brahmin\n",
       "\n",
       "[19980 rows x 2 columns]"
      ]
     },
     "execution_count": 263,
     "metadata": {},
     "output_type": "execute_result"
    }
   ],
   "source": [
    "social=data['Religion_Caste'].str.split(',').apply(pd.Series).iloc[:,[0,1]]\n",
    "social"
   ]
  },
  {
   "cell_type": "code",
   "execution_count": 264,
   "id": "52ad8d6c",
   "metadata": {},
   "outputs": [],
   "source": [
    "social=social.rename(columns={0:'Religion', 1: 'Caste'})"
   ]
  },
  {
   "cell_type": "code",
   "execution_count": null,
   "id": "f6387f20",
   "metadata": {},
   "outputs": [],
   "source": [
    "data=data.join(social)"
   ]
  },
  {
   "cell_type": "code",
   "execution_count": 266,
   "id": "6cea42e4",
   "metadata": {},
   "outputs": [
    {
     "data": {
      "text/html": [
       "<div>\n",
       "<style scoped>\n",
       "    .dataframe tbody tr th:only-of-type {\n",
       "        vertical-align: middle;\n",
       "    }\n",
       "\n",
       "    .dataframe tbody tr th {\n",
       "        vertical-align: top;\n",
       "    }\n",
       "\n",
       "    .dataframe thead th {\n",
       "        text-align: right;\n",
       "    }\n",
       "</style>\n",
       "<table border=\"1\" class=\"dataframe\">\n",
       "  <thead>\n",
       "    <tr style=\"text-align: right;\">\n",
       "      <th></th>\n",
       "      <th>Age_Height</th>\n",
       "      <th>Religion_Caste</th>\n",
       "      <th>Mother_Tongue</th>\n",
       "      <th>Profession</th>\n",
       "      <th>Location</th>\n",
       "      <th>message</th>\n",
       "      <th>Age</th>\n",
       "      <th>Height</th>\n",
       "      <th>Religion</th>\n",
       "      <th>Caste</th>\n",
       "    </tr>\n",
       "  </thead>\n",
       "  <tbody>\n",
       "    <tr>\n",
       "      <th>0</th>\n",
       "      <td>25, 5' 05\" (165 cm)</td>\n",
       "      <td>Christian, Catholic</td>\n",
       "      <td>English</td>\n",
       "      <td>Not Specified</td>\n",
       "      <td>, USA</td>\n",
       "      <td>I am a simple girl with a good personality. I ...</td>\n",
       "      <td>25</td>\n",
       "      <td>165</td>\n",
       "      <td>Christian</td>\n",
       "      <td>Catholic</td>\n",
       "    </tr>\n",
       "    <tr>\n",
       "      <th>1</th>\n",
       "      <td>27, 5' 01\" (155 cm)</td>\n",
       "      <td>Sikh, Arora</td>\n",
       "      <td>Punjabi</td>\n",
       "      <td>Government / Defence</td>\n",
       "      <td>, Jaipur, Rajasthan, India</td>\n",
       "      <td>My Daughter is a smart and dynamic girl brough...</td>\n",
       "      <td>27</td>\n",
       "      <td>155</td>\n",
       "      <td>Sikh</td>\n",
       "      <td>Arora</td>\n",
       "    </tr>\n",
       "    <tr>\n",
       "      <th>2</th>\n",
       "      <td>24, 5' 03\" (160 cm)</td>\n",
       "      <td>Hindu, Teli</td>\n",
       "      <td>Marathi</td>\n",
       "      <td>Hotels &amp; Travel</td>\n",
       "      <td>, Nagpur, Maharashtra, India</td>\n",
       "      <td>I am a simple girl with a good personality. I ...</td>\n",
       "      <td>24</td>\n",
       "      <td>160</td>\n",
       "      <td>Hindu</td>\n",
       "      <td>Teli</td>\n",
       "    </tr>\n",
       "    <tr>\n",
       "      <th>3</th>\n",
       "      <td>24, 5' 02\" (157 cm)</td>\n",
       "      <td>Christian, Roman Catholic</td>\n",
       "      <td>Hindi</td>\n",
       "      <td>Not Specified</td>\n",
       "      <td>, Italy</td>\n",
       "      <td>I belong to \"Roman Catholic\" caste and I am in...</td>\n",
       "      <td>24</td>\n",
       "      <td>157</td>\n",
       "      <td>Christian</td>\n",
       "      <td>Roman Catholic</td>\n",
       "    </tr>\n",
       "    <tr>\n",
       "      <th>4</th>\n",
       "      <td>35, 5' 00\" (152 cm)</td>\n",
       "      <td>Muslim, Sunni</td>\n",
       "      <td>Persian</td>\n",
       "      <td>Not Specified</td>\n",
       "      <td>, Australia</td>\n",
       "      <td>I am a simple girl with a good personality. I ...</td>\n",
       "      <td>35</td>\n",
       "      <td>152</td>\n",
       "      <td>Muslim</td>\n",
       "      <td>Sunni</td>\n",
       "    </tr>\n",
       "    <tr>\n",
       "      <th>...</th>\n",
       "      <td>...</td>\n",
       "      <td>...</td>\n",
       "      <td>...</td>\n",
       "      <td>...</td>\n",
       "      <td>...</td>\n",
       "      <td>...</td>\n",
       "      <td>...</td>\n",
       "      <td>...</td>\n",
       "      <td>...</td>\n",
       "      <td>...</td>\n",
       "    </tr>\n",
       "    <tr>\n",
       "      <th>20973</th>\n",
       "      <td>23, 5' 07\" (170 cm)</td>\n",
       "      <td>Hindu, Settibalija</td>\n",
       "      <td>Telugu</td>\n",
       "      <td>Not Specified</td>\n",
       "      <td>, Hitoor, Andhra Pradesh, India</td>\n",
       "      <td>I am a simple girl with a good personality. I ...</td>\n",
       "      <td>23</td>\n",
       "      <td>170</td>\n",
       "      <td>Hindu</td>\n",
       "      <td>Settibalija</td>\n",
       "    </tr>\n",
       "    <tr>\n",
       "      <th>20974</th>\n",
       "      <td>22, 5' 05\" (165 cm)</td>\n",
       "      <td>Hindu, Settibalija</td>\n",
       "      <td>Telugu</td>\n",
       "      <td>Not Specified</td>\n",
       "      <td>, Hitoor, Andhra Pradesh, India</td>\n",
       "      <td>I am a simple girl with a good personality. I ...</td>\n",
       "      <td>22</td>\n",
       "      <td>165</td>\n",
       "      <td>Hindu</td>\n",
       "      <td>Settibalija</td>\n",
       "    </tr>\n",
       "    <tr>\n",
       "      <th>20975</th>\n",
       "      <td>22, 5' 05\" (165 cm)</td>\n",
       "      <td>Muslim, Islam</td>\n",
       "      <td>Malayalam</td>\n",
       "      <td>Not Specified</td>\n",
       "      <td>, Thiruvananthapuram, Kerala, India</td>\n",
       "      <td>This profile is of my Daughter, who is simple ...</td>\n",
       "      <td>22</td>\n",
       "      <td>165</td>\n",
       "      <td>Muslim</td>\n",
       "      <td>Islam</td>\n",
       "    </tr>\n",
       "    <tr>\n",
       "      <th>20976</th>\n",
       "      <td>24, 5' 03\" (160 cm)</td>\n",
       "      <td>Hindu, Dhangar</td>\n",
       "      <td>Marathi</td>\n",
       "      <td>Not Specified</td>\n",
       "      <td>, Pune, Maharashtra, India</td>\n",
       "      <td>I have made my profile here with the reference...</td>\n",
       "      <td>24</td>\n",
       "      <td>160</td>\n",
       "      <td>Hindu</td>\n",
       "      <td>Dhangar</td>\n",
       "    </tr>\n",
       "    <tr>\n",
       "      <th>20977</th>\n",
       "      <td>25, 5' 01\" (155 cm)</td>\n",
       "      <td>Hindu, Brahmin</td>\n",
       "      <td>Tamil</td>\n",
       "      <td>Non-Working</td>\n",
       "      <td>, Malaysia</td>\n",
       "      <td>Belonging to \"~CASTE~\", I would prefer a guy w...</td>\n",
       "      <td>25</td>\n",
       "      <td>155</td>\n",
       "      <td>Hindu</td>\n",
       "      <td>Brahmin</td>\n",
       "    </tr>\n",
       "  </tbody>\n",
       "</table>\n",
       "<p>19980 rows × 10 columns</p>\n",
       "</div>"
      ],
      "text/plain": [
       "                Age_Height             Religion_Caste Mother_Tongue  \\\n",
       "0      25, 5' 05\" (165 cm)        Christian, Catholic       English   \n",
       "1      27, 5' 01\" (155 cm)                Sikh, Arora       Punjabi   \n",
       "2      24, 5' 03\" (160 cm)                Hindu, Teli       Marathi   \n",
       "3      24, 5' 02\" (157 cm)  Christian, Roman Catholic         Hindi   \n",
       "4      35, 5' 00\" (152 cm)              Muslim, Sunni       Persian   \n",
       "...                    ...                        ...           ...   \n",
       "20973  23, 5' 07\" (170 cm)         Hindu, Settibalija        Telugu   \n",
       "20974  22, 5' 05\" (165 cm)         Hindu, Settibalija        Telugu   \n",
       "20975  22, 5' 05\" (165 cm)              Muslim, Islam     Malayalam   \n",
       "20976  24, 5' 03\" (160 cm)             Hindu, Dhangar       Marathi   \n",
       "20977  25, 5' 01\" (155 cm)             Hindu, Brahmin         Tamil   \n",
       "\n",
       "                 Profession                             Location  \\\n",
       "0             Not Specified                                , USA   \n",
       "1      Government / Defence           , Jaipur, Rajasthan, India   \n",
       "2           Hotels & Travel         , Nagpur, Maharashtra, India   \n",
       "3             Not Specified                              , Italy   \n",
       "4             Not Specified                          , Australia   \n",
       "...                     ...                                  ...   \n",
       "20973         Not Specified      , Hitoor, Andhra Pradesh, India   \n",
       "20974         Not Specified      , Hitoor, Andhra Pradesh, India   \n",
       "20975         Not Specified  , Thiruvananthapuram, Kerala, India   \n",
       "20976         Not Specified           , Pune, Maharashtra, India   \n",
       "20977           Non-Working                           , Malaysia   \n",
       "\n",
       "                                                 message Age Height  \\\n",
       "0      I am a simple girl with a good personality. I ...  25   165    \n",
       "1      My Daughter is a smart and dynamic girl brough...  27   155    \n",
       "2      I am a simple girl with a good personality. I ...  24   160    \n",
       "3      I belong to \"Roman Catholic\" caste and I am in...  24   157    \n",
       "4      I am a simple girl with a good personality. I ...  35   152    \n",
       "...                                                  ...  ..    ...   \n",
       "20973  I am a simple girl with a good personality. I ...  23   170    \n",
       "20974  I am a simple girl with a good personality. I ...  22   165    \n",
       "20975  This profile is of my Daughter, who is simple ...  22   165    \n",
       "20976  I have made my profile here with the reference...  24   160    \n",
       "20977  Belonging to \"~CASTE~\", I would prefer a guy w...  25   155    \n",
       "\n",
       "        Religion            Caste  \n",
       "0      Christian         Catholic  \n",
       "1           Sikh            Arora  \n",
       "2          Hindu             Teli  \n",
       "3      Christian   Roman Catholic  \n",
       "4         Muslim            Sunni  \n",
       "...          ...              ...  \n",
       "20973      Hindu      Settibalija  \n",
       "20974      Hindu      Settibalija  \n",
       "20975     Muslim            Islam  \n",
       "20976      Hindu          Dhangar  \n",
       "20977      Hindu          Brahmin  \n",
       "\n",
       "[19980 rows x 10 columns]"
      ]
     },
     "execution_count": 266,
     "metadata": {},
     "output_type": "execute_result"
    }
   ],
   "source": [
    "data"
   ]
  },
  {
   "cell_type": "code",
   "execution_count": 267,
   "id": "62af31f7",
   "metadata": {},
   "outputs": [],
   "source": [
    "del data['Age_Height']\n",
    "del data['Religion_Caste']\n"
   ]
  },
  {
   "cell_type": "code",
   "execution_count": 268,
   "id": "1ff17223",
   "metadata": {},
   "outputs": [
    {
     "data": {
      "text/html": [
       "<div>\n",
       "<style scoped>\n",
       "    .dataframe tbody tr th:only-of-type {\n",
       "        vertical-align: middle;\n",
       "    }\n",
       "\n",
       "    .dataframe tbody tr th {\n",
       "        vertical-align: top;\n",
       "    }\n",
       "\n",
       "    .dataframe thead th {\n",
       "        text-align: right;\n",
       "    }\n",
       "</style>\n",
       "<table border=\"1\" class=\"dataframe\">\n",
       "  <thead>\n",
       "    <tr style=\"text-align: right;\">\n",
       "      <th></th>\n",
       "      <th>Mother_Tongue</th>\n",
       "      <th>Profession</th>\n",
       "      <th>Location</th>\n",
       "      <th>message</th>\n",
       "      <th>Age</th>\n",
       "      <th>Height</th>\n",
       "      <th>Religion</th>\n",
       "      <th>Caste</th>\n",
       "    </tr>\n",
       "  </thead>\n",
       "  <tbody>\n",
       "    <tr>\n",
       "      <th>0</th>\n",
       "      <td>English</td>\n",
       "      <td>Not Specified</td>\n",
       "      <td>, USA</td>\n",
       "      <td>I am a simple girl with a good personality. I ...</td>\n",
       "      <td>25</td>\n",
       "      <td>165</td>\n",
       "      <td>Christian</td>\n",
       "      <td>Catholic</td>\n",
       "    </tr>\n",
       "    <tr>\n",
       "      <th>1</th>\n",
       "      <td>Punjabi</td>\n",
       "      <td>Government / Defence</td>\n",
       "      <td>, Jaipur, Rajasthan, India</td>\n",
       "      <td>My Daughter is a smart and dynamic girl brough...</td>\n",
       "      <td>27</td>\n",
       "      <td>155</td>\n",
       "      <td>Sikh</td>\n",
       "      <td>Arora</td>\n",
       "    </tr>\n",
       "  </tbody>\n",
       "</table>\n",
       "</div>"
      ],
      "text/plain": [
       "  Mother_Tongue            Profession                    Location  \\\n",
       "0       English         Not Specified                       , USA   \n",
       "1       Punjabi  Government / Defence  , Jaipur, Rajasthan, India   \n",
       "\n",
       "                                             message Age Height   Religion  \\\n",
       "0  I am a simple girl with a good personality. I ...  25   165   Christian   \n",
       "1  My Daughter is a smart and dynamic girl brough...  27   155        Sikh   \n",
       "\n",
       "       Caste  \n",
       "0   Catholic  \n",
       "1      Arora  "
      ]
     },
     "execution_count": 268,
     "metadata": {},
     "output_type": "execute_result"
    }
   ],
   "source": [
    "data.head(2)"
   ]
  },
  {
   "cell_type": "code",
   "execution_count": 275,
   "id": "b4ee5e6e",
   "metadata": {},
   "outputs": [
    {
     "data": {
      "text/plain": [
       "Mother_Tongue    object\n",
       "Profession       object\n",
       "Location         object\n",
       "message          object\n",
       "Age              object\n",
       "Height           object\n",
       "Religion         object\n",
       "Caste            object\n",
       "dtype: object"
      ]
     },
     "execution_count": 275,
     "metadata": {},
     "output_type": "execute_result"
    }
   ],
   "source": [
    "data.dtypes"
   ]
  },
  {
   "cell_type": "code",
   "execution_count": 278,
   "id": "258c09cc",
   "metadata": {},
   "outputs": [],
   "source": [
    "data[[\"Age\", \"Height\"]] = data[[\"Age\", \"Height\"]].apply(pd.to_numeric, errors='coerce')"
   ]
  },
  {
   "cell_type": "code",
   "execution_count": 280,
   "id": "321a3e67",
   "metadata": {},
   "outputs": [
    {
     "data": {
      "text/plain": [
       "Mother_Tongue      0\n",
       "Profession         0\n",
       "Location           0\n",
       "message            0\n",
       "Age                0\n",
       "Height           233\n",
       "Religion           0\n",
       "Caste              0\n",
       "dtype: int64"
      ]
     },
     "execution_count": 280,
     "metadata": {},
     "output_type": "execute_result"
    }
   ],
   "source": [
    "data.isna().sum()"
   ]
  },
  {
   "cell_type": "code",
   "execution_count": 281,
   "id": "15a4b060",
   "metadata": {},
   "outputs": [],
   "source": [
    "data = data.dropna()"
   ]
  },
  {
   "cell_type": "code",
   "execution_count": 310,
   "id": "35e367c4",
   "metadata": {},
   "outputs": [
    {
     "data": {
      "text/plain": [
       "<AxesSubplot:>"
      ]
     },
     "execution_count": 310,
     "metadata": {},
     "output_type": "execute_result"
    },
    {
     "data": {
      "image/png": "[encoded data removed]",
      "text/plain": [
       "<Figure size 792x648 with 2 Axes>"
      ]
     },
     "metadata": {
      "needs_background": "light"
     },
     "output_type": "display_data"
    }
   ],
   "source": [
    "# Compute the correlation matrix\n",
    "corr=data.corr()\n",
    "\n",
    "# Set up the matplotlib figure\n",
    "f, ax = plt.subplots(figsize=(11, 9))\n",
    "\n",
    "# Generate a custom diverging colormap\n",
    "cmap = sns.diverging_palette(230, 20, as_cmap=True)\n",
    "\n",
    "# Draw the heatmap with the mask and correct aspect ratio\n",
    "sns.heatmap(corr, cmap=cmap, center=0,\n",
    "            square=True, linewidths=.5, cbar_kws={\"shrink\": .5})"
   ]
  },
  {
   "cell_type": "code",
   "execution_count": 311,
   "id": "f3640d32",
   "metadata": {},
   "outputs": [
    {
     "data": {
      "text/plain": [
       "<AxesSubplot:>"
      ]
     },
     "execution_count": 311,
     "metadata": {},
     "output_type": "execute_result"
    },
    {
     "data": {
      "image/png": "[encoded data removed]",
      "text/plain": [
       "<Figure size 432x288 with 1 Axes>"
      ]
     },
     "metadata": {
      "needs_background": "light"
     },
     "output_type": "display_data"
    }
   ],
   "source": [
    "data['Age'].hist()"
   ]
  },
  {
   "cell_type": "code",
   "execution_count": 312,
   "id": "aa011068",
   "metadata": {},
   "outputs": [
    {
     "data": {
      "text/plain": [
       "<AxesSubplot:>"
      ]
     },
     "execution_count": 312,
     "metadata": {},
     "output_type": "execute_result"
    },
    {
     "data": {
      "image/png": "[encoded data removed]",
      "text/plain": [
       "<Figure size 432x288 with 1 Axes>"
      ]
     },
     "metadata": {
      "needs_background": "light"
     },
     "output_type": "display_data"
    }
   ],
   "source": [
    "data['Height'].hist()"
   ]
  },
  {
   "cell_type": "code",
   "execution_count": 313,
   "id": "c79a191c",
   "metadata": {},
   "outputs": [
    {
     "data": {
      "text/plain": [
       "Hindu             12321\n",
       "Christian          2871\n",
       "Muslim             2427\n",
       "Sikh               1378\n",
       "Jain                256\n",
       "Buddhist            227\n",
       "Other Religion      161\n",
       "Atheist              76\n",
       "Parsi                19\n",
       "Name: Religion, dtype: int64"
      ]
     },
     "execution_count": 313,
     "metadata": {},
     "output_type": "execute_result"
    }
   ],
   "source": [
    "data['Religion'].value_counts()"
   ]
  },
  {
   "cell_type": "code",
   "execution_count": 314,
   "id": "a3fb6304",
   "metadata": {},
   "outputs": [
    {
     "data": {
      "text/plain": [
       "(19575, 8)"
      ]
     },
     "execution_count": 314,
     "metadata": {},
     "output_type": "execute_result"
    }
   ],
   "source": [
    "data = data.drop(data[data['Religion']=='Other'].index)\n",
    "data = data.drop(data[data['Religion']=='Jew'].index)\n",
    "data = data.drop(data[data['Religion']=='Other Religion'].index)\n",
    "data.shape"
   ]
  },
  {
   "cell_type": "code",
   "execution_count": 315,
   "id": "d5c23f75",
   "metadata": {},
   "outputs": [
    {
     "data": {
      "image/png": "[encoded data removed]",
      "text/plain": [
       "<Figure size 576x576 with 1 Axes>"
      ]
     },
     "metadata": {
      "needs_background": "light"
     },
     "output_type": "display_data"
    }
   ],
   "source": [
    "#HISTORAMME SUR 1 COLONNE\n",
    "f, ax = plt.subplots(1, 1, figsize=(8, 8))\n",
    "data.Religion.value_counts().plot(kind='bar', title=\" type\", ax=ax, figsize=(8,8))\n",
    "plt.show()"
   ]
  },
  {
   "cell_type": "code",
   "execution_count": 316,
   "id": "daf95b2a",
   "metadata": {},
   "outputs": [
    {
     "data": {
      "image/png": "[encoded data removed]",
      "text/plain": [
       "<Figure size 1080x576 with 1 Axes>"
      ]
     },
     "metadata": {
      "needs_background": "light"
     },
     "output_type": "display_data"
    }
   ],
   "source": [
    "import seaborn as sns\n",
    "import matplotlib.pyplot as plt\n",
    "f, ax = plt.subplots(1, 1, figsize=(15, 8))\n",
    "ax = sns.barplot(data=data, x=\"Religion\", y=\"Age\")\n",
    "\n",
    "\n",
    "\n",
    "plt.xlabel(\"Religion\")\n",
    "plt.ylabel(\"Age\")\n",
    "plt.title(\"Pourcentage of religion in the sample\") \n",
    "plt.show(ax)"
   ]
  },
  {
   "cell_type": "code",
   "execution_count": 330,
   "id": "ccbcf22c",
   "metadata": {},
   "outputs": [
    {
     "data": {
      "text/plain": [
       "Not Specified                        13197\n",
       "Others                                1257\n",
       "Non-Working                           1161\n",
       "Teacher / Lecturer / Professor         414\n",
       "Medical & Healthcare                   405\n",
       "Doctor                                 389\n",
       "Engineer                               307\n",
       "Computer Professional                  306\n",
       "HR, Admin & Managers                   275\n",
       "Corporate                              269\n",
       "Business / Consultant                  234\n",
       "Student & Sports                       219\n",
       "Banking & Finance                      216\n",
       "Government / Defence                   210\n",
       "CA, CS & Accountant                    151\n",
       "Sales & Marketing                      128\n",
       "Lawyer & Advocate                       66\n",
       "Architect / Interior Designer           65\n",
       "Scientist & Research                    62\n",
       "Front Office & Executive                60\n",
       "Hotels & Travel                         50\n",
       "BPO & Call Centre                       46\n",
       "Artist, Media & Journalist              43\n",
       "Shipping & Airline                      14\n",
       "Telecom                                 12\n",
       "Politics, Social, Public Relation        9\n",
       "Civil & Allied Services                  8\n",
       "Volunteer & Retired Person               2\n",
       "Name: Profession, dtype: int64"
      ]
     },
     "execution_count": 330,
     "metadata": {},
     "output_type": "execute_result"
    }
   ],
   "source": [
    "data.Profession.value_counts()"
   ]
  },
  {
   "cell_type": "code",
   "execution_count": 331,
   "id": "d3f9ced0",
   "metadata": {},
   "outputs": [],
   "source": [
    "data = data.drop(data[data['Profession']=='Volunteer & Retired Person'].index)"
   ]
  },
  {
   "cell_type": "code",
   "execution_count": 340,
   "id": "23fd8754",
   "metadata": {},
   "outputs": [],
   "source": [
    "group_profession = data.groupby(['Profession']).mean().sort_values(by=['Age'])\n",
    "\n",
    "group_profession=group_profession.reset_index()\n"
   ]
  },
  {
   "cell_type": "code",
   "execution_count": 347,
   "id": "419299d4",
   "metadata": {},
   "outputs": [
    {
     "data": {
      "application/vnd.plotly.v1+json": {
       "config": {
        "linkText": "Export to plot.ly",
        "plotlyServerURL": "https://plot.ly",
        "showLink": false
       },
       "data": [
        {
         "hovertemplate": "Age=%{x}<br>Profession=%{y}<extra></extra>",
         "legendgroup": "",
         "marker": {
          "color": "#636efa",
          "symbol": "circle"
         },
         "mode": "markers",
         "name": "",
         "orientation": "h",
         "showlegend": false,
         "type": "scatter",
         "x": [
          24.945205479452056,
          28.401378122308355,
          28.75,
          28.758957654723126,
          28.861538461538462,
          29.08721679169508,
          29.27906976744186,
          29.370860927152318,
          29.53267973856209,
          29.663239074550127,
          29.71996817820207,
          30.244444444444444,
          30.28787878787879,
          30.369565217391305,
          30.71759259259259,
          30.933085501858734,
          31.071428571428573,
          31.112903225806452,
          31.20048309178744,
          31.476363636363637,
          31.6796875,
          31.931623931623932,
          32,
          32.161904761904765,
          32.166666666666664,
          32.55555555555556,
          34.625
         ],
         "xaxis": "x",
         "y": [
          "Student & Sports",
          "Non-Working",
          "Telecom",
          "Engineer",
          "Architect / Interior Designer",
          "Not Specified",
          "Artist, Media & Journalist",
          "CA, CS & Accountant",
          "Computer Professional",
          "Doctor",
          "Others",
          "Medical & Healthcare",
          "Lawyer & Advocate",
          "BPO & Call Centre",
          "Banking & Finance",
          "Corporate",
          "Shipping & Airline",
          "Scientist & Research",
          "Teacher / Lecturer / Professor",
          "HR, Admin & Managers",
          "Sales & Marketing",
          "Business / Consultant",
          "Hotels & Travel",
          "Government / Defence",
          "Front Office & Executive",
          "Politics, Social, Public Relation",
          "Civil & Allied Services"
         ],
         "yaxis": "y"
        }
       ],
       "layout": {
        "legend": {
         "tracegroupgap": 0
        },
        "margin": {
         "t": 60
        },
        "template": {
         "data": {
          "bar": [
           {
            "error_x": {
             "color": "#2a3f5f"
            },
            "error_y": {
             "color": "#2a3f5f"
            },
            "marker": {
             "line": {
              "color": "#E5ECF6",
              "width": 0.5
             },
             "pattern": {
              "fillmode": "overlay",
              "size": 10,
              "solidity": 0.2
             }
            },
            "type": "bar"
           }
          ],
          "barpolar": [
           {
            "marker": {
             "line": {
              "color": "#E5ECF6",
              "width": 0.5
             },
             "pattern": {
              "fillmode": "overlay",
              "size": 10,
              "solidity": 0.2
             }
            },
            "type": "barpolar"
           }
          ],
          "carpet": [
           {
            "aaxis": {
             "endlinecolor": "#2a3f5f",
             "gridcolor": "white",
             "linecolor": "white",
             "minorgridcolor": "white",
             "startlinecolor": "#2a3f5f"
            },
            "baxis": {
             "endlinecolor": "#2a3f5f",
             "gridcolor": "white",
             "linecolor": "white",
             "minorgridcolor": "white",
             "startlinecolor": "#2a3f5f"
            },
            "type": "carpet"
           }
          ],
          "choropleth": [
           {
            "colorbar": {
             "outlinewidth": 0,
             "ticks": ""
            },
            "type": "choropleth"
           }
          ],
          "contour": [
           {
            "colorbar": {
             "outlinewidth": 0,
             "ticks": ""
            },
            "colorscale": [
             [
              0,
              "#0d0887"
             ],
             [
              0.1111111111111111,
              "#46039f"
             ],
             [
              0.2222222222222222,
              "#7201a8"
             ],
             [
              0.3333333333333333,
              "#9c179e"
             ],
             [
              0.4444444444444444,
              "#bd3786"
             ],
             [
              0.5555555555555556,
              "#d8576b"
             ],
             [
              0.6666666666666666,
              "#ed7953"
             ],
             [
              0.7777777777777778,
              "#fb9f3a"
             ],
             [
              0.8888888888888888,
              "#fdca26"
             ],
             [
              1,
              "#f0f921"
             ]
            ],
            "type": "contour"
           }
          ],
          "contourcarpet": [
           {
            "colorbar": {
             "outlinewidth": 0,
             "ticks": ""
            },
            "type": "contourcarpet"
           }
          ],
          "heatmap": [
           {
            "colorbar": {
             "outlinewidth": 0,
             "ticks": ""
            },
            "colorscale": [
             [
              0,
              "#0d0887"
             ],
             [
              0.1111111111111111,
              "#46039f"
             ],
             [
              0.2222222222222222,
              "#7201a8"
             ],
             [
              0.3333333333333333,
              "#9c179e"
             ],
             [
              0.4444444444444444,
              "#bd3786"
             ],
             [
              0.5555555555555556,
              "#d8576b"
             ],
             [
              0.6666666666666666,
              "#ed7953"
             ],
             [
              0.7777777777777778,
              "#fb9f3a"
             ],
             [
              0.8888888888888888,
              "#fdca26"
             ],
             [
              1,
              "#f0f921"
             ]
            ],
            "type": "heatmap"
           }
          ],
          "heatmapgl": [
           {
            "colorbar": {
             "outlinewidth": 0,
             "ticks": ""
            },
            "colorscale": [
             [
              0,
              "#0d0887"
             ],
             [
              0.1111111111111111,
              "#46039f"
             ],
             [
              0.2222222222222222,
              "#7201a8"
             ],
             [
              0.3333333333333333,
              "#9c179e"
             ],
             [
              0.4444444444444444,
              "#bd3786"
             ],
             [
              0.5555555555555556,
              "#d8576b"
             ],
             [
              0.6666666666666666,
              "#ed7953"
             ],
             [
              0.7777777777777778,
              "#fb9f3a"
             ],
             [
              0.8888888888888888,
              "#fdca26"
             ],
             [
              1,
              "#f0f921"
             ]
            ],
            "type": "heatmapgl"
           }
          ],
          "histogram": [
           {
            "marker": {
             "pattern": {
              "fillmode": "overlay",
              "size": 10,
              "solidity": 0.2
             }
            },
            "type": "histogram"
           }
          ],
          "histogram2d": [
           {
            "colorbar": {
             "outlinewidth": 0,
             "ticks": ""
            },
            "colorscale": [
             [
              0,
              "#0d0887"
             ],
             [
              0.1111111111111111,
              "#46039f"
             ],
             [
              0.2222222222222222,
              "#7201a8"
             ],
             [
              0.3333333333333333,
              "#9c179e"
             ],
             [
              0.4444444444444444,
              "#bd3786"
             ],
             [
              0.5555555555555556,
              "#d8576b"
             ],
             [
              0.6666666666666666,
              "#ed7953"
             ],
             [
              0.7777777777777778,
              "#fb9f3a"
             ],
             [
              0.8888888888888888,
              "#fdca26"
             ],
             [
              1,
              "#f0f921"
             ]
            ],
            "type": "histogram2d"
           }
          ],
          "histogram2dcontour": [
           {
            "colorbar": {
             "outlinewidth": 0,
             "ticks": ""
            },
            "colorscale": [
             [
              0,
              "#0d0887"
             ],
             [
              0.1111111111111111,
              "#46039f"
             ],
             [
              0.2222222222222222,
              "#7201a8"
             ],
             [
              0.3333333333333333,
              "#9c179e"
             ],
             [
              0.4444444444444444,
              "#bd3786"
             ],
             [
              0.5555555555555556,
              "#d8576b"
             ],
             [
              0.6666666666666666,
              "#ed7953"
             ],
             [
              0.7777777777777778,
              "#fb9f3a"
             ],
             [
              0.8888888888888888,
              "#fdca26"
             ],
             [
              1,
              "#f0f921"
             ]
            ],
            "type": "histogram2dcontour"
           }
          ],
          "mesh3d": [
           {
            "colorbar": {
             "outlinewidth": 0,
             "ticks": ""
            },
            "type": "mesh3d"
           }
          ],
          "parcoords": [
           {
            "line": {
             "colorbar": {
              "outlinewidth": 0,
              "ticks": ""
             }
            },
            "type": "parcoords"
           }
          ],
          "pie": [
           {
            "automargin": true,
            "type": "pie"
           }
          ],
          "scatter": [
           {
            "marker": {
             "colorbar": {
              "outlinewidth": 0,
              "ticks": ""
             }
            },
            "type": "scatter"
           }
          ],
          "scatter3d": [
           {
            "line": {
             "colorbar": {
              "outlinewidth": 0,
              "ticks": ""
             }
            },
            "marker": {
             "colorbar": {
              "outlinewidth": 0,
              "ticks": ""
             }
            },
            "type": "scatter3d"
           }
          ],
          "scattercarpet": [
           {
            "marker": {
             "colorbar": {
              "outlinewidth": 0,
              "ticks": ""
             }
            },
            "type": "scattercarpet"
           }
          ],
          "scattergeo": [
           {
            "marker": {
             "colorbar": {
              "outlinewidth": 0,
              "ticks": ""
             }
            },
            "type": "scattergeo"
           }
          ],
          "scattergl": [
           {
            "marker": {
             "colorbar": {
              "outlinewidth": 0,
              "ticks": ""
             }
            },
            "type": "scattergl"
           }
          ],
          "scattermapbox": [
           {
            "marker": {
             "colorbar": {
              "outlinewidth": 0,
              "ticks": ""
             }
            },
            "type": "scattermapbox"
           }
          ],
          "scatterpolar": [
           {
            "marker": {
             "colorbar": {
              "outlinewidth": 0,
              "ticks": ""
             }
            },
            "type": "scatterpolar"
           }
          ],
          "scatterpolargl": [
           {
            "marker": {
             "colorbar": {
              "outlinewidth": 0,
              "ticks": ""
             }
            },
            "type": "scatterpolargl"
           }
          ],
          "scatterternary": [
           {
            "marker": {
             "colorbar": {
              "outlinewidth": 0,
              "ticks": ""
             }
            },
            "type": "scatterternary"
           }
          ],
          "surface": [
           {
            "colorbar": {
             "outlinewidth": 0,
             "ticks": ""
            },
            "colorscale": [
             [
              0,
              "#0d0887"
             ],
             [
              0.1111111111111111,
              "#46039f"
             ],
             [
              0.2222222222222222,
              "#7201a8"
             ],
             [
              0.3333333333333333,
              "#9c179e"
             ],
             [
              0.4444444444444444,
              "#bd3786"
             ],
             [
              0.5555555555555556,
              "#d8576b"
             ],
             [
              0.6666666666666666,
              "#ed7953"
             ],
             [
              0.7777777777777778,
              "#fb9f3a"
             ],
             [
              0.8888888888888888,
              "#fdca26"
             ],
             [
              1,
              "#f0f921"
             ]
            ],
            "type": "surface"
           }
          ],
          "table": [
           {
            "cells": {
             "fill": {
              "color": "#EBF0F8"
             },
             "line": {
              "color": "white"
             }
            },
            "header": {
             "fill": {
              "color": "#C8D4E3"
             },
             "line": {
              "color": "white"
             }
            },
            "type": "table"
           }
          ]
         },
         "layout": {
          "annotationdefaults": {
           "arrowcolor": "#2a3f5f",
           "arrowhead": 0,
           "arrowwidth": 1
          },
          "autotypenumbers": "strict",
          "coloraxis": {
           "colorbar": {
            "outlinewidth": 0,
            "ticks": ""
           }
          },
          "colorscale": {
           "diverging": [
            [
             0,
             "#8e0152"
            ],
            [
             0.1,
             "#c51b7d"
            ],
            [
             0.2,
             "#de77ae"
            ],
            [
             0.3,
             "#f1b6da"
            ],
            [
             0.4,
             "#fde0ef"
            ],
            [
             0.5,
             "#f7f7f7"
            ],
            [
             0.6,
             "#e6f5d0"
            ],
            [
             0.7,
             "#b8e186"
            ],
            [
             0.8,
             "#7fbc41"
            ],
            [
             0.9,
             "#4d9221"
            ],
            [
             1,
             "#276419"
            ]
           ],
           "sequential": [
            [
             0,
             "#0d0887"
            ],
            [
             0.1111111111111111,
             "#46039f"
            ],
            [
             0.2222222222222222,
             "#7201a8"
            ],
            [
             0.3333333333333333,
             "#9c179e"
            ],
            [
             0.4444444444444444,
             "#bd3786"
            ],
            [
             0.5555555555555556,
             "#d8576b"
            ],
            [
             0.6666666666666666,
             "#ed7953"
            ],
            [
             0.7777777777777778,
             "#fb9f3a"
            ],
            [
             0.8888888888888888,
             "#fdca26"
            ],
            [
             1,
             "#f0f921"
            ]
           ],
           "sequentialminus": [
            [
             0,
             "#0d0887"
            ],
            [
             0.1111111111111111,
             "#46039f"
            ],
            [
             0.2222222222222222,
             "#7201a8"
            ],
            [
             0.3333333333333333,
             "#9c179e"
            ],
            [
             0.4444444444444444,
             "#bd3786"
            ],
            [
             0.5555555555555556,
             "#d8576b"
            ],
            [
             0.6666666666666666,
             "#ed7953"
            ],
            [
             0.7777777777777778,
             "#fb9f3a"
            ],
            [
             0.8888888888888888,
             "#fdca26"
            ],
            [
             1,
             "#f0f921"
            ]
           ]
          },
          "colorway": [
           "#636efa",
           "#EF553B",
           "#00cc96",
           "#ab63fa",
           "#FFA15A",
           "#19d3f3",
           "#FF6692",
           "#B6E880",
           "#FF97FF",
           "#FECB52"
          ],
          "font": {
           "color": "#2a3f5f"
          },
          "geo": {
           "bgcolor": "white",
           "lakecolor": "white",
           "landcolor": "#E5ECF6",
           "showlakes": true,
           "showland": true,
           "subunitcolor": "white"
          },
          "hoverlabel": {
           "align": "left"
          },
          "hovermode": "closest",
          "mapbox": {
           "style": "light"
          },
          "paper_bgcolor": "white",
          "plot_bgcolor": "#E5ECF6",
          "polar": {
           "angularaxis": {
            "gridcolor": "white",
            "linecolor": "white",
            "ticks": ""
           },
           "bgcolor": "#E5ECF6",
           "radialaxis": {
            "gridcolor": "white",
            "linecolor": "white",
            "ticks": ""
           }
          },
          "scene": {
           "xaxis": {
            "backgroundcolor": "#E5ECF6",
            "gridcolor": "white",
            "gridwidth": 2,
            "linecolor": "white",
            "showbackground": true,
            "ticks": "",
            "zerolinecolor": "white"
           },
           "yaxis": {
            "backgroundcolor": "#E5ECF6",
            "gridcolor": "white",
            "gridwidth": 2,
            "linecolor": "white",
            "showbackground": true,
            "ticks": "",
            "zerolinecolor": "white"
           },
           "zaxis": {
            "backgroundcolor": "#E5ECF6",
            "gridcolor": "white",
            "gridwidth": 2,
            "linecolor": "white",
            "showbackground": true,
            "ticks": "",
            "zerolinecolor": "white"
           }
          },
          "shapedefaults": {
           "line": {
            "color": "#2a3f5f"
           }
          },
          "ternary": {
           "aaxis": {
            "gridcolor": "white",
            "linecolor": "white",
            "ticks": ""
           },
           "baxis": {
            "gridcolor": "white",
            "linecolor": "white",
            "ticks": ""
           },
           "bgcolor": "#E5ECF6",
           "caxis": {
            "gridcolor": "white",
            "linecolor": "white",
            "ticks": ""
           }
          },
          "title": {
           "x": 0.05
          },
          "xaxis": {
           "automargin": true,
           "gridcolor": "white",
           "linecolor": "white",
           "ticks": "",
           "title": {
            "standoff": 15
           },
           "zerolinecolor": "white",
           "zerolinewidth": 2
          },
          "yaxis": {
           "automargin": true,
           "gridcolor": "white",
           "linecolor": "white",
           "ticks": "",
           "title": {
            "standoff": 15
           },
           "zerolinecolor": "white",
           "zerolinewidth": 2
          }
         }
        },
        "xaxis": {
         "anchor": "y",
         "domain": [
          0,
          1
         ],
         "title": {
          "text": "Age"
         }
        },
        "yaxis": {
         "anchor": "x",
         "domain": [
          0,
          1
         ],
         "title": {
          "text": "Profession"
         }
        }
       }
      },
      "text/html": [
       "<div>                            <div id=\"10a30f51-119c-4558-9b5c-ca8f55b17ec5\" class=\"plotly-graph-div\" style=\"height:525px; width:100%;\"></div>            <script type=\"text/javascript\">                require([\"plotly\"], function(Plotly) {                    window.PLOTLYENV=window.PLOTLYENV || {};                                    if (document.getElementById(\"10a30f51-119c-4558-9b5c-ca8f55b17ec5\")) {                    Plotly.newPlot(                        \"10a30f51-119c-4558-9b5c-ca8f55b17ec5\",                        [{\"hovertemplate\":\"Age=%{x}<br>Profession=%{y}<extra></extra>\",\"legendgroup\":\"\",\"marker\":{\"color\":\"#636efa\",\"symbol\":\"circle\"},\"mode\":\"markers\",\"name\":\"\",\"orientation\":\"h\",\"showlegend\":false,\"x\":[24.945205479452056,28.401378122308355,28.75,28.758957654723126,28.861538461538462,29.08721679169508,29.27906976744186,29.370860927152318,29.53267973856209,29.663239074550127,29.71996817820207,30.244444444444444,30.28787878787879,30.369565217391305,30.71759259259259,30.933085501858734,31.071428571428573,31.112903225806452,31.20048309178744,31.476363636363637,31.6796875,31.931623931623932,32.0,32.161904761904765,32.166666666666664,32.55555555555556,34.625],\"xaxis\":\"x\",\"y\":[\"Student & Sports\",\"Non-Working\",\"Telecom\",\"Engineer\",\"Architect / Interior Designer\",\"Not Specified\",\"Artist, Media & Journalist\",\"CA, CS & Accountant\",\"Computer Professional\",\"Doctor\",\"Others\",\"Medical & Healthcare\",\"Lawyer & Advocate\",\"BPO & Call Centre\",\"Banking & Finance\",\"Corporate\",\"Shipping & Airline\",\"Scientist & Research\",\"Teacher / Lecturer / Professor\",\"HR, Admin & Managers\",\"Sales & Marketing\",\"Business / Consultant\",\"Hotels & Travel\",\"Government / Defence\",\"Front Office & Executive\",\"Politics, Social, Public Relation\",\"Civil & Allied Services\"],\"yaxis\":\"y\",\"type\":\"scatter\"}],                        {\"legend\":{\"tracegroupgap\":0},\"margin\":{\"t\":60},\"template\":{\"data\":{\"barpolar\":[{\"marker\":{\"line\":{\"color\":\"#E5ECF6\",\"width\":0.5},\"pattern\":{\"fillmode\":\"overlay\",\"size\":10,\"solidity\":0.2}},\"type\":\"barpolar\"}],\"bar\":[{\"error_x\":{\"color\":\"#2a3f5f\"},\"error_y\":{\"color\":\"#2a3f5f\"},\"marker\":{\"line\":{\"color\":\"#E5ECF6\",\"width\":0.5},\"pattern\":{\"fillmode\":\"overlay\",\"size\":10,\"solidity\":0.2}},\"type\":\"bar\"}],\"carpet\":[{\"aaxis\":{\"endlinecolor\":\"#2a3f5f\",\"gridcolor\":\"white\",\"linecolor\":\"white\",\"minorgridcolor\":\"white\",\"startlinecolor\":\"#2a3f5f\"},\"baxis\":{\"endlinecolor\":\"#2a3f5f\",\"gridcolor\":\"white\",\"linecolor\":\"white\",\"minorgridcolor\":\"white\",\"startlinecolor\":\"#2a3f5f\"},\"type\":\"carpet\"}],\"choropleth\":[{\"colorbar\":{\"outlinewidth\":0,\"ticks\":\"\"},\"type\":\"choropleth\"}],\"contourcarpet\":[{\"colorbar\":{\"outlinewidth\":0,\"ticks\":\"\"},\"type\":\"contourcarpet\"}],\"contour\":[{\"colorbar\":{\"outlinewidth\":0,\"ticks\":\"\"},\"colorscale\":[[0.0,\"#0d0887\"],[0.1111111111111111,\"#46039f\"],[0.2222222222222222,\"#7201a8\"],[0.3333333333333333,\"#9c179e\"],[0.4444444444444444,\"#bd3786\"],[0.5555555555555556,\"#d8576b\"],[0.6666666666666666,\"#ed7953\"],[0.7777777777777778,\"#fb9f3a\"],[0.8888888888888888,\"#fdca26\"],[1.0,\"#f0f921\"]],\"type\":\"contour\"}],\"heatmapgl\":[{\"colorbar\":{\"outlinewidth\":0,\"ticks\":\"\"},\"colorscale\":[[0.0,\"#0d0887\"],[0.1111111111111111,\"#46039f\"],[0.2222222222222222,\"#7201a8\"],[0.3333333333333333,\"#9c179e\"],[0.4444444444444444,\"#bd3786\"],[0.5555555555555556,\"#d8576b\"],[0.6666666666666666,\"#ed7953\"],[0.7777777777777778,\"#fb9f3a\"],[0.8888888888888888,\"#fdca26\"],[1.0,\"#f0f921\"]],\"type\":\"heatmapgl\"}],\"heatmap\":[{\"colorbar\":{\"outlinewidth\":0,\"ticks\":\"\"},\"colorscale\":[[0.0,\"#0d0887\"],[0.1111111111111111,\"#46039f\"],[0.2222222222222222,\"#7201a8\"],[0.3333333333333333,\"#9c179e\"],[0.4444444444444444,\"#bd3786\"],[0.5555555555555556,\"#d8576b\"],[0.6666666666666666,\"#ed7953\"],[0.7777777777777778,\"#fb9f3a\"],[0.8888888888888888,\"#fdca26\"],[1.0,\"#f0f921\"]],\"type\":\"heatmap\"}],\"histogram2dcontour\":[{\"colorbar\":{\"outlinewidth\":0,\"ticks\":\"\"},\"colorscale\":[[0.0,\"#0d0887\"],[0.1111111111111111,\"#46039f\"],[0.2222222222222222,\"#7201a8\"],[0.3333333333333333,\"#9c179e\"],[0.4444444444444444,\"#bd3786\"],[0.5555555555555556,\"#d8576b\"],[0.6666666666666666,\"#ed7953\"],[0.7777777777777778,\"#fb9f3a\"],[0.8888888888888888,\"#fdca26\"],[1.0,\"#f0f921\"]],\"type\":\"histogram2dcontour\"}],\"histogram2d\":[{\"colorbar\":{\"outlinewidth\":0,\"ticks\":\"\"},\"colorscale\":[[0.0,\"#0d0887\"],[0.1111111111111111,\"#46039f\"],[0.2222222222222222,\"#7201a8\"],[0.3333333333333333,\"#9c179e\"],[0.4444444444444444,\"#bd3786\"],[0.5555555555555556,\"#d8576b\"],[0.6666666666666666,\"#ed7953\"],[0.7777777777777778,\"#fb9f3a\"],[0.8888888888888888,\"#fdca26\"],[1.0,\"#f0f921\"]],\"type\":\"histogram2d\"}],\"histogram\":[{\"marker\":{\"pattern\":{\"fillmode\":\"overlay\",\"size\":10,\"solidity\":0.2}},\"type\":\"histogram\"}],\"mesh3d\":[{\"colorbar\":{\"outlinewidth\":0,\"ticks\":\"\"},\"type\":\"mesh3d\"}],\"parcoords\":[{\"line\":{\"colorbar\":{\"outlinewidth\":0,\"ticks\":\"\"}},\"type\":\"parcoords\"}],\"pie\":[{\"automargin\":true,\"type\":\"pie\"}],\"scatter3d\":[{\"line\":{\"colorbar\":{\"outlinewidth\":0,\"ticks\":\"\"}},\"marker\":{\"colorbar\":{\"outlinewidth\":0,\"ticks\":\"\"}},\"type\":\"scatter3d\"}],\"scattercarpet\":[{\"marker\":{\"colorbar\":{\"outlinewidth\":0,\"ticks\":\"\"}},\"type\":\"scattercarpet\"}],\"scattergeo\":[{\"marker\":{\"colorbar\":{\"outlinewidth\":0,\"ticks\":\"\"}},\"type\":\"scattergeo\"}],\"scattergl\":[{\"marker\":{\"colorbar\":{\"outlinewidth\":0,\"ticks\":\"\"}},\"type\":\"scattergl\"}],\"scattermapbox\":[{\"marker\":{\"colorbar\":{\"outlinewidth\":0,\"ticks\":\"\"}},\"type\":\"scattermapbox\"}],\"scatterpolargl\":[{\"marker\":{\"colorbar\":{\"outlinewidth\":0,\"ticks\":\"\"}},\"type\":\"scatterpolargl\"}],\"scatterpolar\":[{\"marker\":{\"colorbar\":{\"outlinewidth\":0,\"ticks\":\"\"}},\"type\":\"scatterpolar\"}],\"scatter\":[{\"marker\":{\"colorbar\":{\"outlinewidth\":0,\"ticks\":\"\"}},\"type\":\"scatter\"}],\"scatterternary\":[{\"marker\":{\"colorbar\":{\"outlinewidth\":0,\"ticks\":\"\"}},\"type\":\"scatterternary\"}],\"surface\":[{\"colorbar\":{\"outlinewidth\":0,\"ticks\":\"\"},\"colorscale\":[[0.0,\"#0d0887\"],[0.1111111111111111,\"#46039f\"],[0.2222222222222222,\"#7201a8\"],[0.3333333333333333,\"#9c179e\"],[0.4444444444444444,\"#bd3786\"],[0.5555555555555556,\"#d8576b\"],[0.6666666666666666,\"#ed7953\"],[0.7777777777777778,\"#fb9f3a\"],[0.8888888888888888,\"#fdca26\"],[1.0,\"#f0f921\"]],\"type\":\"surface\"}],\"table\":[{\"cells\":{\"fill\":{\"color\":\"#EBF0F8\"},\"line\":{\"color\":\"white\"}},\"header\":{\"fill\":{\"color\":\"#C8D4E3\"},\"line\":{\"color\":\"white\"}},\"type\":\"table\"}]},\"layout\":{\"annotationdefaults\":{\"arrowcolor\":\"#2a3f5f\",\"arrowhead\":0,\"arrowwidth\":1},\"autotypenumbers\":\"strict\",\"coloraxis\":{\"colorbar\":{\"outlinewidth\":0,\"ticks\":\"\"}},\"colorscale\":{\"diverging\":[[0,\"#8e0152\"],[0.1,\"#c51b7d\"],[0.2,\"#de77ae\"],[0.3,\"#f1b6da\"],[0.4,\"#fde0ef\"],[0.5,\"#f7f7f7\"],[0.6,\"#e6f5d0\"],[0.7,\"#b8e186\"],[0.8,\"#7fbc41\"],[0.9,\"#4d9221\"],[1,\"#276419\"]],\"sequential\":[[0.0,\"#0d0887\"],[0.1111111111111111,\"#46039f\"],[0.2222222222222222,\"#7201a8\"],[0.3333333333333333,\"#9c179e\"],[0.4444444444444444,\"#bd3786\"],[0.5555555555555556,\"#d8576b\"],[0.6666666666666666,\"#ed7953\"],[0.7777777777777778,\"#fb9f3a\"],[0.8888888888888888,\"#fdca26\"],[1.0,\"#f0f921\"]],\"sequentialminus\":[[0.0,\"#0d0887\"],[0.1111111111111111,\"#46039f\"],[0.2222222222222222,\"#7201a8\"],[0.3333333333333333,\"#9c179e\"],[0.4444444444444444,\"#bd3786\"],[0.5555555555555556,\"#d8576b\"],[0.6666666666666666,\"#ed7953\"],[0.7777777777777778,\"#fb9f3a\"],[0.8888888888888888,\"#fdca26\"],[1.0,\"#f0f921\"]]},\"colorway\":[\"#636efa\",\"#EF553B\",\"#00cc96\",\"#ab63fa\",\"#FFA15A\",\"#19d3f3\",\"#FF6692\",\"#B6E880\",\"#FF97FF\",\"#FECB52\"],\"font\":{\"color\":\"#2a3f5f\"},\"geo\":{\"bgcolor\":\"white\",\"lakecolor\":\"white\",\"landcolor\":\"#E5ECF6\",\"showlakes\":true,\"showland\":true,\"subunitcolor\":\"white\"},\"hoverlabel\":{\"align\":\"left\"},\"hovermode\":\"closest\",\"mapbox\":{\"style\":\"light\"},\"paper_bgcolor\":\"white\",\"plot_bgcolor\":\"#E5ECF6\",\"polar\":{\"angularaxis\":{\"gridcolor\":\"white\",\"linecolor\":\"white\",\"ticks\":\"\"},\"bgcolor\":\"#E5ECF6\",\"radialaxis\":{\"gridcolor\":\"white\",\"linecolor\":\"white\",\"ticks\":\"\"}},\"scene\":{\"xaxis\":{\"backgroundcolor\":\"#E5ECF6\",\"gridcolor\":\"white\",\"gridwidth\":2,\"linecolor\":\"white\",\"showbackground\":true,\"ticks\":\"\",\"zerolinecolor\":\"white\"},\"yaxis\":{\"backgroundcolor\":\"#E5ECF6\",\"gridcolor\":\"white\",\"gridwidth\":2,\"linecolor\":\"white\",\"showbackground\":true,\"ticks\":\"\",\"zerolinecolor\":\"white\"},\"zaxis\":{\"backgroundcolor\":\"#E5ECF6\",\"gridcolor\":\"white\",\"gridwidth\":2,\"linecolor\":\"white\",\"showbackground\":true,\"ticks\":\"\",\"zerolinecolor\":\"white\"}},\"shapedefaults\":{\"line\":{\"color\":\"#2a3f5f\"}},\"ternary\":{\"aaxis\":{\"gridcolor\":\"white\",\"linecolor\":\"white\",\"ticks\":\"\"},\"baxis\":{\"gridcolor\":\"white\",\"linecolor\":\"white\",\"ticks\":\"\"},\"bgcolor\":\"#E5ECF6\",\"caxis\":{\"gridcolor\":\"white\",\"linecolor\":\"white\",\"ticks\":\"\"}},\"title\":{\"x\":0.05},\"xaxis\":{\"automargin\":true,\"gridcolor\":\"white\",\"linecolor\":\"white\",\"ticks\":\"\",\"title\":{\"standoff\":15},\"zerolinecolor\":\"white\",\"zerolinewidth\":2},\"yaxis\":{\"automargin\":true,\"gridcolor\":\"white\",\"linecolor\":\"white\",\"ticks\":\"\",\"title\":{\"standoff\":15},\"zerolinecolor\":\"white\",\"zerolinewidth\":2}}},\"xaxis\":{\"anchor\":\"y\",\"domain\":[0.0,1.0],\"title\":{\"text\":\"Age\"}},\"yaxis\":{\"anchor\":\"x\",\"domain\":[0.0,1.0],\"title\":{\"text\":\"Profession\"}}},                        {\"responsive\": true}                    ).then(function(){\n",
       "                            \n",
       "var gd = document.getElementById('10a30f51-119c-4558-9b5c-ca8f55b17ec5');\n",
       "var x = new MutationObserver(function (mutations, observer) {{\n",
       "        var display = window.getComputedStyle(gd).display;\n",
       "        if (!display || display === 'none') {{\n",
       "            console.log([gd, 'removed!']);\n",
       "            Plotly.purge(gd);\n",
       "            observer.disconnect();\n",
       "        }}\n",
       "}});\n",
       "\n",
       "// Listen for the removal of the full notebook cells\n",
       "var notebookContainer = gd.closest('#notebook-container');\n",
       "if (notebookContainer) {{\n",
       "    x.observe(notebookContainer, {childList: true});\n",
       "}}\n",
       "\n",
       "// Listen for the clearing of the current output cell\n",
       "var outputEl = gd.closest('.output');\n",
       "if (outputEl) {{\n",
       "    x.observe(outputEl, {childList: true});\n",
       "}}\n",
       "\n",
       "                        })                };                });            </script>        </div>"
      ]
     },
     "metadata": {},
     "output_type": "display_data"
    }
   ],
   "source": [
    "import plotly.graph_objs as go\n",
    "import plotly.offline as py\n",
    "# Traces\n",
    "traces = px.scatter(group_profession, x='Age',y='Profession')\n",
    "\n",
    "# Layout \n",
    "layout = go.Layout(width=700, height=900)\n",
    "# Plot\n",
    "py.iplot(go.Figure(data=traces, layout=layout));"
   ]
  },
  {
   "cell_type": "code",
   "execution_count": 358,
   "id": "505899b4",
   "metadata": {},
   "outputs": [
    {
     "data": {
      "text/html": [
       "<div>\n",
       "<style scoped>\n",
       "    .dataframe tbody tr th:only-of-type {\n",
       "        vertical-align: middle;\n",
       "    }\n",
       "\n",
       "    .dataframe tbody tr th {\n",
       "        vertical-align: top;\n",
       "    }\n",
       "\n",
       "    .dataframe thead th {\n",
       "        text-align: right;\n",
       "    }\n",
       "</style>\n",
       "<table border=\"1\" class=\"dataframe\">\n",
       "  <thead>\n",
       "    <tr style=\"text-align: right;\">\n",
       "      <th>Religion</th>\n",
       "      <th>Atheist</th>\n",
       "      <th>Buddhist</th>\n",
       "      <th>Christian</th>\n",
       "      <th>Hindu</th>\n",
       "      <th>Jain</th>\n",
       "      <th>Muslim</th>\n",
       "      <th>Parsi</th>\n",
       "      <th>Sikh</th>\n",
       "    </tr>\n",
       "    <tr>\n",
       "      <th>Profession</th>\n",
       "      <th></th>\n",
       "      <th></th>\n",
       "      <th></th>\n",
       "      <th></th>\n",
       "      <th></th>\n",
       "      <th></th>\n",
       "      <th></th>\n",
       "      <th></th>\n",
       "    </tr>\n",
       "  </thead>\n",
       "  <tbody>\n",
       "    <tr>\n",
       "      <th>Architect / Interior Designer</th>\n",
       "      <td>NaN</td>\n",
       "      <td>33.0</td>\n",
       "      <td>33.0</td>\n",
       "      <td>28.0</td>\n",
       "      <td>NaN</td>\n",
       "      <td>28.0</td>\n",
       "      <td>NaN</td>\n",
       "      <td>28.0</td>\n",
       "    </tr>\n",
       "    <tr>\n",
       "      <th>Artist, Media &amp; Journalist</th>\n",
       "      <td>30.0</td>\n",
       "      <td>NaN</td>\n",
       "      <td>31.0</td>\n",
       "      <td>30.0</td>\n",
       "      <td>25.0</td>\n",
       "      <td>28.0</td>\n",
       "      <td>NaN</td>\n",
       "      <td>26.0</td>\n",
       "    </tr>\n",
       "    <tr>\n",
       "      <th>BPO &amp; Call Centre</th>\n",
       "      <td>27.0</td>\n",
       "      <td>26.0</td>\n",
       "      <td>30.0</td>\n",
       "      <td>31.0</td>\n",
       "      <td>NaN</td>\n",
       "      <td>30.0</td>\n",
       "      <td>NaN</td>\n",
       "      <td>NaN</td>\n",
       "    </tr>\n",
       "    <tr>\n",
       "      <th>Banking &amp; Finance</th>\n",
       "      <td>27.0</td>\n",
       "      <td>28.0</td>\n",
       "      <td>31.0</td>\n",
       "      <td>31.0</td>\n",
       "      <td>33.0</td>\n",
       "      <td>31.0</td>\n",
       "      <td>28.0</td>\n",
       "      <td>29.0</td>\n",
       "    </tr>\n",
       "    <tr>\n",
       "      <th>Business / Consultant</th>\n",
       "      <td>31.0</td>\n",
       "      <td>44.0</td>\n",
       "      <td>33.0</td>\n",
       "      <td>31.0</td>\n",
       "      <td>37.0</td>\n",
       "      <td>30.0</td>\n",
       "      <td>NaN</td>\n",
       "      <td>32.0</td>\n",
       "    </tr>\n",
       "    <tr>\n",
       "      <th>CA, CS &amp; Accountant</th>\n",
       "      <td>30.0</td>\n",
       "      <td>39.0</td>\n",
       "      <td>29.0</td>\n",
       "      <td>29.0</td>\n",
       "      <td>34.0</td>\n",
       "      <td>24.0</td>\n",
       "      <td>NaN</td>\n",
       "      <td>29.0</td>\n",
       "    </tr>\n",
       "    <tr>\n",
       "      <th>Civil &amp; Allied Services</th>\n",
       "      <td>NaN</td>\n",
       "      <td>NaN</td>\n",
       "      <td>40.0</td>\n",
       "      <td>31.0</td>\n",
       "      <td>NaN</td>\n",
       "      <td>NaN</td>\n",
       "      <td>NaN</td>\n",
       "      <td>NaN</td>\n",
       "    </tr>\n",
       "    <tr>\n",
       "      <th>Computer Professional</th>\n",
       "      <td>27.0</td>\n",
       "      <td>NaN</td>\n",
       "      <td>30.0</td>\n",
       "      <td>29.0</td>\n",
       "      <td>29.0</td>\n",
       "      <td>29.0</td>\n",
       "      <td>NaN</td>\n",
       "      <td>29.0</td>\n",
       "    </tr>\n",
       "    <tr>\n",
       "      <th>Corporate</th>\n",
       "      <td>NaN</td>\n",
       "      <td>32.0</td>\n",
       "      <td>31.0</td>\n",
       "      <td>31.0</td>\n",
       "      <td>33.0</td>\n",
       "      <td>30.0</td>\n",
       "      <td>NaN</td>\n",
       "      <td>30.0</td>\n",
       "    </tr>\n",
       "    <tr>\n",
       "      <th>Doctor</th>\n",
       "      <td>34.0</td>\n",
       "      <td>31.0</td>\n",
       "      <td>31.0</td>\n",
       "      <td>29.0</td>\n",
       "      <td>29.0</td>\n",
       "      <td>28.0</td>\n",
       "      <td>NaN</td>\n",
       "      <td>32.0</td>\n",
       "    </tr>\n",
       "    <tr>\n",
       "      <th>Engineer</th>\n",
       "      <td>NaN</td>\n",
       "      <td>32.0</td>\n",
       "      <td>30.0</td>\n",
       "      <td>29.0</td>\n",
       "      <td>28.0</td>\n",
       "      <td>28.0</td>\n",
       "      <td>NaN</td>\n",
       "      <td>30.0</td>\n",
       "    </tr>\n",
       "    <tr>\n",
       "      <th>Front Office &amp; Executive</th>\n",
       "      <td>NaN</td>\n",
       "      <td>33.0</td>\n",
       "      <td>32.0</td>\n",
       "      <td>31.0</td>\n",
       "      <td>NaN</td>\n",
       "      <td>38.0</td>\n",
       "      <td>NaN</td>\n",
       "      <td>31.0</td>\n",
       "    </tr>\n",
       "    <tr>\n",
       "      <th>Government / Defence</th>\n",
       "      <td>NaN</td>\n",
       "      <td>42.0</td>\n",
       "      <td>32.0</td>\n",
       "      <td>32.0</td>\n",
       "      <td>NaN</td>\n",
       "      <td>33.0</td>\n",
       "      <td>NaN</td>\n",
       "      <td>31.0</td>\n",
       "    </tr>\n",
       "    <tr>\n",
       "      <th>HR, Admin &amp; Managers</th>\n",
       "      <td>NaN</td>\n",
       "      <td>33.0</td>\n",
       "      <td>31.0</td>\n",
       "      <td>32.0</td>\n",
       "      <td>31.0</td>\n",
       "      <td>29.0</td>\n",
       "      <td>NaN</td>\n",
       "      <td>30.0</td>\n",
       "    </tr>\n",
       "    <tr>\n",
       "      <th>Hotels &amp; Travel</th>\n",
       "      <td>NaN</td>\n",
       "      <td>40.0</td>\n",
       "      <td>34.0</td>\n",
       "      <td>31.0</td>\n",
       "      <td>NaN</td>\n",
       "      <td>30.0</td>\n",
       "      <td>NaN</td>\n",
       "      <td>33.0</td>\n",
       "    </tr>\n",
       "    <tr>\n",
       "      <th>Lawyer &amp; Advocate</th>\n",
       "      <td>NaN</td>\n",
       "      <td>34.0</td>\n",
       "      <td>28.0</td>\n",
       "      <td>31.0</td>\n",
       "      <td>32.0</td>\n",
       "      <td>28.0</td>\n",
       "      <td>NaN</td>\n",
       "      <td>30.0</td>\n",
       "    </tr>\n",
       "    <tr>\n",
       "      <th>Medical &amp; Healthcare</th>\n",
       "      <td>35.0</td>\n",
       "      <td>37.0</td>\n",
       "      <td>30.0</td>\n",
       "      <td>30.0</td>\n",
       "      <td>35.0</td>\n",
       "      <td>30.0</td>\n",
       "      <td>34.0</td>\n",
       "      <td>30.0</td>\n",
       "    </tr>\n",
       "    <tr>\n",
       "      <th>Non-Working</th>\n",
       "      <td>27.0</td>\n",
       "      <td>29.0</td>\n",
       "      <td>29.0</td>\n",
       "      <td>28.0</td>\n",
       "      <td>31.0</td>\n",
       "      <td>27.0</td>\n",
       "      <td>NaN</td>\n",
       "      <td>31.0</td>\n",
       "    </tr>\n",
       "    <tr>\n",
       "      <th>Not Specified</th>\n",
       "      <td>30.0</td>\n",
       "      <td>30.0</td>\n",
       "      <td>31.0</td>\n",
       "      <td>29.0</td>\n",
       "      <td>29.0</td>\n",
       "      <td>28.0</td>\n",
       "      <td>30.0</td>\n",
       "      <td>30.0</td>\n",
       "    </tr>\n",
       "    <tr>\n",
       "      <th>Others</th>\n",
       "      <td>28.0</td>\n",
       "      <td>31.0</td>\n",
       "      <td>31.0</td>\n",
       "      <td>30.0</td>\n",
       "      <td>27.0</td>\n",
       "      <td>29.0</td>\n",
       "      <td>30.0</td>\n",
       "      <td>30.0</td>\n",
       "    </tr>\n",
       "    <tr>\n",
       "      <th>Politics, Social, Public Relation</th>\n",
       "      <td>NaN</td>\n",
       "      <td>44.0</td>\n",
       "      <td>37.0</td>\n",
       "      <td>29.0</td>\n",
       "      <td>NaN</td>\n",
       "      <td>22.0</td>\n",
       "      <td>NaN</td>\n",
       "      <td>NaN</td>\n",
       "    </tr>\n",
       "    <tr>\n",
       "      <th>Sales &amp; Marketing</th>\n",
       "      <td>23.0</td>\n",
       "      <td>34.0</td>\n",
       "      <td>34.0</td>\n",
       "      <td>31.0</td>\n",
       "      <td>31.0</td>\n",
       "      <td>32.0</td>\n",
       "      <td>NaN</td>\n",
       "      <td>30.0</td>\n",
       "    </tr>\n",
       "    <tr>\n",
       "      <th>Scientist &amp; Research</th>\n",
       "      <td>32.0</td>\n",
       "      <td>45.0</td>\n",
       "      <td>29.0</td>\n",
       "      <td>30.0</td>\n",
       "      <td>32.0</td>\n",
       "      <td>33.0</td>\n",
       "      <td>NaN</td>\n",
       "      <td>30.0</td>\n",
       "    </tr>\n",
       "    <tr>\n",
       "      <th>Shipping &amp; Airline</th>\n",
       "      <td>NaN</td>\n",
       "      <td>NaN</td>\n",
       "      <td>33.0</td>\n",
       "      <td>30.0</td>\n",
       "      <td>NaN</td>\n",
       "      <td>32.0</td>\n",
       "      <td>NaN</td>\n",
       "      <td>NaN</td>\n",
       "    </tr>\n",
       "    <tr>\n",
       "      <th>Student &amp; Sports</th>\n",
       "      <td>NaN</td>\n",
       "      <td>28.0</td>\n",
       "      <td>25.0</td>\n",
       "      <td>25.0</td>\n",
       "      <td>24.0</td>\n",
       "      <td>24.0</td>\n",
       "      <td>NaN</td>\n",
       "      <td>23.0</td>\n",
       "    </tr>\n",
       "    <tr>\n",
       "      <th>Teacher / Lecturer / Professor</th>\n",
       "      <td>31.0</td>\n",
       "      <td>30.0</td>\n",
       "      <td>32.0</td>\n",
       "      <td>31.0</td>\n",
       "      <td>28.0</td>\n",
       "      <td>31.0</td>\n",
       "      <td>NaN</td>\n",
       "      <td>32.0</td>\n",
       "    </tr>\n",
       "    <tr>\n",
       "      <th>Telecom</th>\n",
       "      <td>NaN</td>\n",
       "      <td>NaN</td>\n",
       "      <td>28.0</td>\n",
       "      <td>29.0</td>\n",
       "      <td>NaN</td>\n",
       "      <td>NaN</td>\n",
       "      <td>NaN</td>\n",
       "      <td>NaN</td>\n",
       "    </tr>\n",
       "  </tbody>\n",
       "</table>\n",
       "</div>"
      ],
      "text/plain": [
       "Religion                           Atheist  Buddhist  Christian  Hindu  Jain  \\\n",
       "Profession                                                                     \n",
       "Architect / Interior Designer          NaN      33.0       33.0   28.0   NaN   \n",
       "Artist, Media & Journalist            30.0       NaN       31.0   30.0  25.0   \n",
       "BPO & Call Centre                     27.0      26.0       30.0   31.0   NaN   \n",
       "Banking & Finance                     27.0      28.0       31.0   31.0  33.0   \n",
       "Business / Consultant                 31.0      44.0       33.0   31.0  37.0   \n",
       "CA, CS & Accountant                   30.0      39.0       29.0   29.0  34.0   \n",
       "Civil & Allied Services                NaN       NaN       40.0   31.0   NaN   \n",
       "Computer Professional                 27.0       NaN       30.0   29.0  29.0   \n",
       "Corporate                              NaN      32.0       31.0   31.0  33.0   \n",
       "Doctor                                34.0      31.0       31.0   29.0  29.0   \n",
       "Engineer                               NaN      32.0       30.0   29.0  28.0   \n",
       "Front Office & Executive               NaN      33.0       32.0   31.0   NaN   \n",
       "Government / Defence                   NaN      42.0       32.0   32.0   NaN   \n",
       "HR, Admin & Managers                   NaN      33.0       31.0   32.0  31.0   \n",
       "Hotels & Travel                        NaN      40.0       34.0   31.0   NaN   \n",
       "Lawyer & Advocate                      NaN      34.0       28.0   31.0  32.0   \n",
       "Medical & Healthcare                  35.0      37.0       30.0   30.0  35.0   \n",
       "Non-Working                           27.0      29.0       29.0   28.0  31.0   \n",
       "Not Specified                         30.0      30.0       31.0   29.0  29.0   \n",
       "Others                                28.0      31.0       31.0   30.0  27.0   \n",
       "Politics, Social, Public Relation      NaN      44.0       37.0   29.0   NaN   \n",
       "Sales & Marketing                     23.0      34.0       34.0   31.0  31.0   \n",
       "Scientist & Research                  32.0      45.0       29.0   30.0  32.0   \n",
       "Shipping & Airline                     NaN       NaN       33.0   30.0   NaN   \n",
       "Student & Sports                       NaN      28.0       25.0   25.0  24.0   \n",
       "Teacher / Lecturer / Professor        31.0      30.0       32.0   31.0  28.0   \n",
       "Telecom                                NaN       NaN       28.0   29.0   NaN   \n",
       "\n",
       "Religion                           Muslim  Parsi  Sikh  \n",
       "Profession                                              \n",
       "Architect / Interior Designer        28.0    NaN  28.0  \n",
       "Artist, Media & Journalist           28.0    NaN  26.0  \n",
       "BPO & Call Centre                    30.0    NaN   NaN  \n",
       "Banking & Finance                    31.0   28.0  29.0  \n",
       "Business / Consultant                30.0    NaN  32.0  \n",
       "CA, CS & Accountant                  24.0    NaN  29.0  \n",
       "Civil & Allied Services               NaN    NaN   NaN  \n",
       "Computer Professional                29.0    NaN  29.0  \n",
       "Corporate                            30.0    NaN  30.0  \n",
       "Doctor                               28.0    NaN  32.0  \n",
       "Engineer                             28.0    NaN  30.0  \n",
       "Front Office & Executive             38.0    NaN  31.0  \n",
       "Government / Defence                 33.0    NaN  31.0  \n",
       "HR, Admin & Managers                 29.0    NaN  30.0  \n",
       "Hotels & Travel                      30.0    NaN  33.0  \n",
       "Lawyer & Advocate                    28.0    NaN  30.0  \n",
       "Medical & Healthcare                 30.0   34.0  30.0  \n",
       "Non-Working                          27.0    NaN  31.0  \n",
       "Not Specified                        28.0   30.0  30.0  \n",
       "Others                               29.0   30.0  30.0  \n",
       "Politics, Social, Public Relation    22.0    NaN   NaN  \n",
       "Sales & Marketing                    32.0    NaN  30.0  \n",
       "Scientist & Research                 33.0    NaN  30.0  \n",
       "Shipping & Airline                   32.0    NaN   NaN  \n",
       "Student & Sports                     24.0    NaN  23.0  \n",
       "Teacher / Lecturer / Professor       31.0    NaN  32.0  \n",
       "Telecom                               NaN    NaN   NaN  "
      ]
     },
     "execution_count": 358,
     "metadata": {},
     "output_type": "execute_result"
    }
   ],
   "source": [
    "databis = data.pivot_table(index='Profession', columns='Religion', values='Age' , aggfunc='mean');\n",
    "databis.round()"
   ]
  },
  {
   "cell_type": "code",
   "execution_count": 369,
   "id": "e175e74a",
   "metadata": {},
   "outputs": [
    {
     "data": {
      "image/png": "[encoded data removed]",
      "text/plain": [
       "<Figure size 720x360 with 1 Axes>"
      ]
     },
     "metadata": {
      "needs_background": "light"
     },
     "output_type": "display_data"
    }
   ],
   "source": [
    "fig, ax = plt.subplots(figsize=(10, 5))\n",
    "sns.barplot(x='Religion', y='Age', data=data)\n",
    "ax.bar_label(ax.containers[0])\n",
    "ax.set_title('Average age by religion')\n",
    "\n",
    "plt.show()"
   ]
  },
  {
   "cell_type": "code",
   "execution_count": 368,
   "id": "b5b5d4c3",
   "metadata": {},
   "outputs": [
    {
     "data": {
      "image/png": "[encoded data removed]",
      "text/plain": [
       "<Figure size 720x1440 with 1 Axes>"
      ]
     },
     "metadata": {
      "needs_background": "light"
     },
     "output_type": "display_data"
    }
   ],
   "source": [
    "fig, ax = plt.subplots(figsize=(10, 20))\n",
    "sns.barplot(x='Age', y='Profession', data=data)\n",
    "ax.bar_label(ax.containers[0])\n",
    "ax.set_title('Average age by Profession')\n",
    "\n",
    "plt.show()"
   ]
  },
  {
   "cell_type": "code",
   "execution_count": 363,
   "id": "eb146c81",
   "metadata": {},
   "outputs": [
    {
     "data": {
      "application/vnd.plotly.v1+json": {
       "config": {
        "plotlyServerURL": "https://plot.ly"
       },
       "data": [
        {
         "alignmentgroup": "True",
         "hovertemplate": "variable=Atheist<br>Profession=%{x}<br>value=%{y}<extra></extra>",
         "legendgroup": "Atheist",
         "marker": {
          "color": "#636efa",
          "pattern": {
           "shape": ""
          }
         },
         "name": "Atheist",
         "offsetgroup": "Atheist",
         "orientation": "v",
         "showlegend": true,
         "textposition": "auto",
         "type": "bar",
         "x": [
          "Architect / Interior Designer",
          "Artist, Media & Journalist",
          "BPO & Call Centre",
          "Banking & Finance",
          "Business / Consultant",
          "CA, CS & Accountant",
          "Civil & Allied Services",
          "Computer Professional",
          "Corporate",
          "Doctor",
          "Engineer",
          "Front Office & Executive",
          "Government / Defence",
          "HR, Admin & Managers",
          "Hotels & Travel",
          "Lawyer & Advocate",
          "Medical & Healthcare",
          "Non-Working",
          "Not Specified",
          "Others",
          "Politics, Social, Public Relation",
          "Sales & Marketing",
          "Scientist & Research",
          "Shipping & Airline",
          "Student & Sports",
          "Teacher / Lecturer / Professor",
          "Telecom"
         ],
         "xaxis": "x",
         "y": [
          null,
          30,
          27,
          27,
          31,
          30,
          null,
          27,
          null,
          33.5,
          null,
          null,
          null,
          null,
          null,
          null,
          35.333333333333336,
          27.25,
          30.057692307692307,
          27.5,
          null,
          23,
          32,
          null,
          null,
          30.75,
          null
         ],
         "yaxis": "y"
        },
        {
         "alignmentgroup": "True",
         "hovertemplate": "variable=Buddhist<br>Profession=%{x}<br>value=%{y}<extra></extra>",
         "legendgroup": "Buddhist",
         "marker": {
          "color": "#EF553B",
          "pattern": {
           "shape": ""
          }
         },
         "name": "Buddhist",
         "offsetgroup": "Buddhist",
         "orientation": "v",
         "showlegend": true,
         "textposition": "auto",
         "type": "bar",
         "x": [
          "Architect / Interior Designer",
          "Artist, Media & Journalist",
          "BPO & Call Centre",
          "Banking & Finance",
          "Business / Consultant",
          "CA, CS & Accountant",
          "Civil & Allied Services",
          "Computer Professional",
          "Corporate",
          "Doctor",
          "Engineer",
          "Front Office & Executive",
          "Government / Defence",
          "HR, Admin & Managers",
          "Hotels & Travel",
          "Lawyer & Advocate",
          "Medical & Healthcare",
          "Non-Working",
          "Not Specified",
          "Others",
          "Politics, Social, Public Relation",
          "Sales & Marketing",
          "Scientist & Research",
          "Shipping & Airline",
          "Student & Sports",
          "Teacher / Lecturer / Professor",
          "Telecom"
         ],
         "xaxis": "x",
         "y": [
          33.333333333333336,
          null,
          26,
          28,
          44.333333333333336,
          39,
          null,
          null,
          31.5,
          31.375,
          32,
          33,
          42,
          32.75,
          40,
          34,
          36.8,
          28.88888888888889,
          30.10625,
          31.272727272727273,
          44,
          34,
          44.666666666666664,
          null,
          28,
          30.5,
          null
         ],
         "yaxis": "y"
        },
        {
         "alignmentgroup": "True",
         "hovertemplate": "variable=Christian<br>Profession=%{x}<br>value=%{y}<extra></extra>",
         "legendgroup": "Christian",
         "marker": {
          "color": "#00cc96",
          "pattern": {
           "shape": ""
          }
         },
         "name": "Christian",
         "offsetgroup": "Christian",
         "orientation": "v",
         "showlegend": true,
         "textposition": "auto",
         "type": "bar",
         "x": [
          "Architect / Interior Designer",
          "Artist, Media & Journalist",
          "BPO & Call Centre",
          "Banking & Finance",
          "Business / Consultant",
          "CA, CS & Accountant",
          "Civil & Allied Services",
          "Computer Professional",
          "Corporate",
          "Doctor",
          "Engineer",
          "Front Office & Executive",
          "Government / Defence",
          "HR, Admin & Managers",
          "Hotels & Travel",
          "Lawyer & Advocate",
          "Medical & Healthcare",
          "Non-Working",
          "Not Specified",
          "Others",
          "Politics, Social, Public Relation",
          "Sales & Marketing",
          "Scientist & Research",
          "Shipping & Airline",
          "Student & Sports",
          "Teacher / Lecturer / Professor",
          "Telecom"
         ],
         "xaxis": "x",
         "y": [
          32.84615384615385,
          31,
          29.833333333333332,
          30.73076923076923,
          33.421052631578945,
          29.25,
          40,
          30.5,
          31.19047619047619,
          30.636363636363637,
          29.72093023255814,
          32.166666666666664,
          31.928571428571427,
          30.93846153846154,
          33.54545454545455,
          28.166666666666668,
          30.261744966442954,
          28.686046511627907,
          30.598049281314168,
          30.603896103896105,
          37,
          34.25,
          28.857142857142858,
          33.25,
          25.105263157894736,
          31.955223880597014,
          28.5
         ],
         "yaxis": "y"
        },
        {
         "alignmentgroup": "True",
         "hovertemplate": "variable=Hindu<br>Profession=%{x}<br>value=%{y}<extra></extra>",
         "legendgroup": "Hindu",
         "marker": {
          "color": "#ab63fa",
          "pattern": {
           "shape": ""
          }
         },
         "name": "Hindu",
         "offsetgroup": "Hindu",
         "orientation": "v",
         "showlegend": true,
         "textposition": "auto",
         "type": "bar",
         "x": [
          "Architect / Interior Designer",
          "Artist, Media & Journalist",
          "BPO & Call Centre",
          "Banking & Finance",
          "Business / Consultant",
          "CA, CS & Accountant",
          "Civil & Allied Services",
          "Computer Professional",
          "Corporate",
          "Doctor",
          "Engineer",
          "Front Office & Executive",
          "Government / Defence",
          "HR, Admin & Managers",
          "Hotels & Travel",
          "Lawyer & Advocate",
          "Medical & Healthcare",
          "Non-Working",
          "Not Specified",
          "Others",
          "Politics, Social, Public Relation",
          "Sales & Marketing",
          "Scientist & Research",
          "Shipping & Airline",
          "Student & Sports",
          "Teacher / Lecturer / Professor",
          "Telecom"
         ],
         "xaxis": "x",
         "y": [
          27.512820512820515,
          29.517241379310345,
          30.818181818181817,
          30.7248322147651,
          31.464052287581698,
          29.269565217391303,
          31.4,
          29.409302325581397,
          30.968911917098445,
          29.283898305084747,
          28.586666666666666,
          31.210526315789473,
          32.18421052631579,
          32.08641975308642,
          31.096774193548388,
          30.755102040816325,
          29.875,
          28.353689567430024,
          28.82245752277764,
          29.673278879813303,
          29,
          31.243589743589745,
          30.477272727272727,
          30,
          25.238709677419354,
          30.973384030418252,
          28.8
         ],
         "yaxis": "y"
        },
        {
         "alignmentgroup": "True",
         "hovertemplate": "variable=Jain<br>Profession=%{x}<br>value=%{y}<extra></extra>",
         "legendgroup": "Jain",
         "marker": {
          "color": "#FFA15A",
          "pattern": {
           "shape": ""
          }
         },
         "name": "Jain",
         "offsetgroup": "Jain",
         "orientation": "v",
         "showlegend": true,
         "textposition": "auto",
         "type": "bar",
         "x": [
          "Architect / Interior Designer",
          "Artist, Media & Journalist",
          "BPO & Call Centre",
          "Banking & Finance",
          "Business / Consultant",
          "CA, CS & Accountant",
          "Civil & Allied Services",
          "Computer Professional",
          "Corporate",
          "Doctor",
          "Engineer",
          "Front Office & Executive",
          "Government / Defence",
          "HR, Admin & Managers",
          "Hotels & Travel",
          "Lawyer & Advocate",
          "Medical & Healthcare",
          "Non-Working",
          "Not Specified",
          "Others",
          "Politics, Social, Public Relation",
          "Sales & Marketing",
          "Scientist & Research",
          "Shipping & Airline",
          "Student & Sports",
          "Teacher / Lecturer / Professor",
          "Telecom"
         ],
         "xaxis": "x",
         "y": [
          null,
          25,
          null,
          33.44444444444444,
          36.9,
          33.57142857142857,
          null,
          28.857142857142858,
          33,
          28.571428571428573,
          28.25,
          null,
          null,
          31.2,
          null,
          32,
          35.25,
          31.363636363636363,
          29.428571428571427,
          27.4,
          null,
          31,
          32,
          null,
          24,
          28.333333333333332,
          null
         ],
         "yaxis": "y"
        },
        {
         "alignmentgroup": "True",
         "hovertemplate": "variable=Muslim<br>Profession=%{x}<br>value=%{y}<extra></extra>",
         "legendgroup": "Muslim",
         "marker": {
          "color": "#19d3f3",
          "pattern": {
           "shape": ""
          }
         },
         "name": "Muslim",
         "offsetgroup": "Muslim",
         "orientation": "v",
         "showlegend": true,
         "textposition": "auto",
         "type": "bar",
         "x": [
          "Architect / Interior Designer",
          "Artist, Media & Journalist",
          "BPO & Call Centre",
          "Banking & Finance",
          "Business / Consultant",
          "CA, CS & Accountant",
          "Civil & Allied Services",
          "Computer Professional",
          "Corporate",
          "Doctor",
          "Engineer",
          "Front Office & Executive",
          "Government / Defence",
          "HR, Admin & Managers",
          "Hotels & Travel",
          "Lawyer & Advocate",
          "Medical & Healthcare",
          "Non-Working",
          "Not Specified",
          "Others",
          "Politics, Social, Public Relation",
          "Sales & Marketing",
          "Scientist & Research",
          "Shipping & Airline",
          "Student & Sports",
          "Teacher / Lecturer / Professor",
          "Telecom"
         ],
         "xaxis": "x",
         "y": [
          27.571428571428573,
          27.666666666666668,
          29.6,
          30.7,
          29.923076923076923,
          24.4,
          null,
          29.48,
          29.823529411764707,
          28.285714285714285,
          28.08,
          38.333333333333336,
          32.88235294117647,
          29.285714285714285,
          30,
          27.666666666666668,
          29.727272727272727,
          27.097826086956523,
          28.157719977863863,
          28.884615384615383,
          22,
          31.7,
          32.666666666666664,
          32,
          23.676470588235293,
          31.114285714285714,
          null
         ],
         "yaxis": "y"
        },
        {
         "alignmentgroup": "True",
         "hovertemplate": "variable=Parsi<br>Profession=%{x}<br>value=%{y}<extra></extra>",
         "legendgroup": "Parsi",
         "marker": {
          "color": "#FF6692",
          "pattern": {
           "shape": ""
          }
         },
         "name": "Parsi",
         "offsetgroup": "Parsi",
         "orientation": "v",
         "showlegend": true,
         "textposition": "auto",
         "type": "bar",
         "x": [
          "Architect / Interior Designer",
          "Artist, Media & Journalist",
          "BPO & Call Centre",
          "Banking & Finance",
          "Business / Consultant",
          "CA, CS & Accountant",
          "Civil & Allied Services",
          "Computer Professional",
          "Corporate",
          "Doctor",
          "Engineer",
          "Front Office & Executive",
          "Government / Defence",
          "HR, Admin & Managers",
          "Hotels & Travel",
          "Lawyer & Advocate",
          "Medical & Healthcare",
          "Non-Working",
          "Not Specified",
          "Others",
          "Politics, Social, Public Relation",
          "Sales & Marketing",
          "Scientist & Research",
          "Shipping & Airline",
          "Student & Sports",
          "Teacher / Lecturer / Professor",
          "Telecom"
         ],
         "xaxis": "x",
         "y": [
          null,
          null,
          null,
          28,
          null,
          null,
          null,
          null,
          null,
          null,
          null,
          null,
          null,
          null,
          null,
          null,
          34,
          null,
          30.375,
          30,
          null,
          null,
          null,
          null,
          null,
          null,
          null
         ],
         "yaxis": "y"
        },
        {
         "alignmentgroup": "True",
         "hovertemplate": "variable=Sikh<br>Profession=%{x}<br>value=%{y}<extra></extra>",
         "legendgroup": "Sikh",
         "marker": {
          "color": "#B6E880",
          "pattern": {
           "shape": ""
          }
         },
         "name": "Sikh",
         "offsetgroup": "Sikh",
         "orientation": "v",
         "showlegend": true,
         "textposition": "auto",
         "type": "bar",
         "x": [
          "Architect / Interior Designer",
          "Artist, Media & Journalist",
          "BPO & Call Centre",
          "Banking & Finance",
          "Business / Consultant",
          "CA, CS & Accountant",
          "Civil & Allied Services",
          "Computer Professional",
          "Corporate",
          "Doctor",
          "Engineer",
          "Front Office & Executive",
          "Government / Defence",
          "HR, Admin & Managers",
          "Hotels & Travel",
          "Lawyer & Advocate",
          "Medical & Healthcare",
          "Non-Working",
          "Not Specified",
          "Others",
          "Politics, Social, Public Relation",
          "Sales & Marketing",
          "Scientist & Research",
          "Shipping & Airline",
          "Student & Sports",
          "Teacher / Lecturer / Professor",
          "Telecom"
         ],
         "xaxis": "x",
         "y": [
          27.666666666666668,
          26.333333333333332,
          null,
          28.88888888888889,
          32.42857142857143,
          29.166666666666668,
          null,
          28.75,
          30.454545454545453,
          32.142857142857146,
          29.714285714285715,
          31,
          30.583333333333332,
          30.27777777777778,
          32.833333333333336,
          29.5,
          30.22641509433962,
          31.123456790123456,
          29.73160173160173,
          29.728813559322035,
          null,
          30.076923076923077,
          30,
          null,
          23.4,
          31.8,
          null
         ],
         "yaxis": "y"
        }
       ],
       "layout": {
        "barmode": "relative",
        "legend": {
         "title": {
          "text": "variable"
         },
         "tracegroupgap": 0
        },
        "margin": {
         "t": 60
        },
        "template": {
         "data": {
          "bar": [
           {
            "error_x": {
             "color": "#2a3f5f"
            },
            "error_y": {
             "color": "#2a3f5f"
            },
            "marker": {
             "line": {
              "color": "#E5ECF6",
              "width": 0.5
             },
             "pattern": {
              "fillmode": "overlay",
              "size": 10,
              "solidity": 0.2
             }
            },
            "type": "bar"
           }
          ],
          "barpolar": [
           {
            "marker": {
             "line": {
              "color": "#E5ECF6",
              "width": 0.5
             },
             "pattern": {
              "fillmode": "overlay",
              "size": 10,
              "solidity": 0.2
             }
            },
            "type": "barpolar"
           }
          ],
          "carpet": [
           {
            "aaxis": {
             "endlinecolor": "#2a3f5f",
             "gridcolor": "white",
             "linecolor": "white",
             "minorgridcolor": "white",
             "startlinecolor": "#2a3f5f"
            },
            "baxis": {
             "endlinecolor": "#2a3f5f",
             "gridcolor": "white",
             "linecolor": "white",
             "minorgridcolor": "white",
             "startlinecolor": "#2a3f5f"
            },
            "type": "carpet"
           }
          ],
          "choropleth": [
           {
            "colorbar": {
             "outlinewidth": 0,
             "ticks": ""
            },
            "type": "choropleth"
           }
          ],
          "contour": [
           {
            "colorbar": {
             "outlinewidth": 0,
             "ticks": ""
            },
            "colorscale": [
             [
              0,
              "#0d0887"
             ],
             [
              0.1111111111111111,
              "#46039f"
             ],
             [
              0.2222222222222222,
              "#7201a8"
             ],
             [
              0.3333333333333333,
              "#9c179e"
             ],
             [
              0.4444444444444444,
              "#bd3786"
             ],
             [
              0.5555555555555556,
              "#d8576b"
             ],
             [
              0.6666666666666666,
              "#ed7953"
             ],
             [
              0.7777777777777778,
              "#fb9f3a"
             ],
             [
              0.8888888888888888,
              "#fdca26"
             ],
             [
              1,
              "#f0f921"
             ]
            ],
            "type": "contour"
           }
          ],
          "contourcarpet": [
           {
            "colorbar": {
             "outlinewidth": 0,
             "ticks": ""
            },
            "type": "contourcarpet"
           }
          ],
          "heatmap": [
           {
            "colorbar": {
             "outlinewidth": 0,
             "ticks": ""
            },
            "colorscale": [
             [
              0,
              "#0d0887"
             ],
             [
              0.1111111111111111,
              "#46039f"
             ],
             [
              0.2222222222222222,
              "#7201a8"
             ],
             [
              0.3333333333333333,
              "#9c179e"
             ],
             [
              0.4444444444444444,
              "#bd3786"
             ],
             [
              0.5555555555555556,
              "#d8576b"
             ],
             [
              0.6666666666666666,
              "#ed7953"
             ],
             [
              0.7777777777777778,
              "#fb9f3a"
             ],
             [
              0.8888888888888888,
              "#fdca26"
             ],
             [
              1,
              "#f0f921"
             ]
            ],
            "type": "heatmap"
           }
          ],
          "heatmapgl": [
           {
            "colorbar": {
             "outlinewidth": 0,
             "ticks": ""
            },
            "colorscale": [
             [
              0,
              "#0d0887"
             ],
             [
              0.1111111111111111,
              "#46039f"
             ],
             [
              0.2222222222222222,
              "#7201a8"
             ],
             [
              0.3333333333333333,
              "#9c179e"
             ],
             [
              0.4444444444444444,
              "#bd3786"
             ],
             [
              0.5555555555555556,
              "#d8576b"
             ],
             [
              0.6666666666666666,
              "#ed7953"
             ],
             [
              0.7777777777777778,
              "#fb9f3a"
             ],
             [
              0.8888888888888888,
              "#fdca26"
             ],
             [
              1,
              "#f0f921"
             ]
            ],
            "type": "heatmapgl"
           }
          ],
          "histogram": [
           {
            "marker": {
             "pattern": {
              "fillmode": "overlay",
              "size": 10,
              "solidity": 0.2
             }
            },
            "type": "histogram"
           }
          ],
          "histogram2d": [
           {
            "colorbar": {
             "outlinewidth": 0,
             "ticks": ""
            },
            "colorscale": [
             [
              0,
              "#0d0887"
             ],
             [
              0.1111111111111111,
              "#46039f"
             ],
             [
              0.2222222222222222,
              "#7201a8"
             ],
             [
              0.3333333333333333,
              "#9c179e"
             ],
             [
              0.4444444444444444,
              "#bd3786"
             ],
             [
              0.5555555555555556,
              "#d8576b"
             ],
             [
              0.6666666666666666,
              "#ed7953"
             ],
             [
              0.7777777777777778,
              "#fb9f3a"
             ],
             [
              0.8888888888888888,
              "#fdca26"
             ],
             [
              1,
              "#f0f921"
             ]
            ],
            "type": "histogram2d"
           }
          ],
          "histogram2dcontour": [
           {
            "colorbar": {
             "outlinewidth": 0,
             "ticks": ""
            },
            "colorscale": [
             [
              0,
              "#0d0887"
             ],
             [
              0.1111111111111111,
              "#46039f"
             ],
             [
              0.2222222222222222,
              "#7201a8"
             ],
             [
              0.3333333333333333,
              "#9c179e"
             ],
             [
              0.4444444444444444,
              "#bd3786"
             ],
             [
              0.5555555555555556,
              "#d8576b"
             ],
             [
              0.6666666666666666,
              "#ed7953"
             ],
             [
              0.7777777777777778,
              "#fb9f3a"
             ],
             [
              0.8888888888888888,
              "#fdca26"
             ],
             [
              1,
              "#f0f921"
             ]
            ],
            "type": "histogram2dcontour"
           }
          ],
          "mesh3d": [
           {
            "colorbar": {
             "outlinewidth": 0,
             "ticks": ""
            },
            "type": "mesh3d"
           }
          ],
          "parcoords": [
           {
            "line": {
             "colorbar": {
              "outlinewidth": 0,
              "ticks": ""
             }
            },
            "type": "parcoords"
           }
          ],
          "pie": [
           {
            "automargin": true,
            "type": "pie"
           }
          ],
          "scatter": [
           {
            "marker": {
             "colorbar": {
              "outlinewidth": 0,
              "ticks": ""
             }
            },
            "type": "scatter"
           }
          ],
          "scatter3d": [
           {
            "line": {
             "colorbar": {
              "outlinewidth": 0,
              "ticks": ""
             }
            },
            "marker": {
             "colorbar": {
              "outlinewidth": 0,
              "ticks": ""
             }
            },
            "type": "scatter3d"
           }
          ],
          "scattercarpet": [
           {
            "marker": {
             "colorbar": {
              "outlinewidth": 0,
              "ticks": ""
             }
            },
            "type": "scattercarpet"
           }
          ],
          "scattergeo": [
           {
            "marker": {
             "colorbar": {
              "outlinewidth": 0,
              "ticks": ""
             }
            },
            "type": "scattergeo"
           }
          ],
          "scattergl": [
           {
            "marker": {
             "colorbar": {
              "outlinewidth": 0,
              "ticks": ""
             }
            },
            "type": "scattergl"
           }
          ],
          "scattermapbox": [
           {
            "marker": {
             "colorbar": {
              "outlinewidth": 0,
              "ticks": ""
             }
            },
            "type": "scattermapbox"
           }
          ],
          "scatterpolar": [
           {
            "marker": {
             "colorbar": {
              "outlinewidth": 0,
              "ticks": ""
             }
            },
            "type": "scatterpolar"
           }
          ],
          "scatterpolargl": [
           {
            "marker": {
             "colorbar": {
              "outlinewidth": 0,
              "ticks": ""
             }
            },
            "type": "scatterpolargl"
           }
          ],
          "scatterternary": [
           {
            "marker": {
             "colorbar": {
              "outlinewidth": 0,
              "ticks": ""
             }
            },
            "type": "scatterternary"
           }
          ],
          "surface": [
           {
            "colorbar": {
             "outlinewidth": 0,
             "ticks": ""
            },
            "colorscale": [
             [
              0,
              "#0d0887"
             ],
             [
              0.1111111111111111,
              "#46039f"
             ],
             [
              0.2222222222222222,
              "#7201a8"
             ],
             [
              0.3333333333333333,
              "#9c179e"
             ],
             [
              0.4444444444444444,
              "#bd3786"
             ],
             [
              0.5555555555555556,
              "#d8576b"
             ],
             [
              0.6666666666666666,
              "#ed7953"
             ],
             [
              0.7777777777777778,
              "#fb9f3a"
             ],
             [
              0.8888888888888888,
              "#fdca26"
             ],
             [
              1,
              "#f0f921"
             ]
            ],
            "type": "surface"
           }
          ],
          "table": [
           {
            "cells": {
             "fill": {
              "color": "#EBF0F8"
             },
             "line": {
              "color": "white"
             }
            },
            "header": {
             "fill": {
              "color": "#C8D4E3"
             },
             "line": {
              "color": "white"
             }
            },
            "type": "table"
           }
          ]
         },
         "layout": {
          "annotationdefaults": {
           "arrowcolor": "#2a3f5f",
           "arrowhead": 0,
           "arrowwidth": 1
          },
          "autotypenumbers": "strict",
          "coloraxis": {
           "colorbar": {
            "outlinewidth": 0,
            "ticks": ""
           }
          },
          "colorscale": {
           "diverging": [
            [
             0,
             "#8e0152"
            ],
            [
             0.1,
             "#c51b7d"
            ],
            [
             0.2,
             "#de77ae"
            ],
            [
             0.3,
             "#f1b6da"
            ],
            [
             0.4,
             "#fde0ef"
            ],
            [
             0.5,
             "#f7f7f7"
            ],
            [
             0.6,
             "#e6f5d0"
            ],
            [
             0.7,
             "#b8e186"
            ],
            [
             0.8,
             "#7fbc41"
            ],
            [
             0.9,
             "#4d9221"
            ],
            [
             1,
             "#276419"
            ]
           ],
           "sequential": [
            [
             0,
             "#0d0887"
            ],
            [
             0.1111111111111111,
             "#46039f"
            ],
            [
             0.2222222222222222,
             "#7201a8"
            ],
            [
             0.3333333333333333,
             "#9c179e"
            ],
            [
             0.4444444444444444,
             "#bd3786"
            ],
            [
             0.5555555555555556,
             "#d8576b"
            ],
            [
             0.6666666666666666,
             "#ed7953"
            ],
            [
             0.7777777777777778,
             "#fb9f3a"
            ],
            [
             0.8888888888888888,
             "#fdca26"
            ],
            [
             1,
             "#f0f921"
            ]
           ],
           "sequentialminus": [
            [
             0,
             "#0d0887"
            ],
            [
             0.1111111111111111,
             "#46039f"
            ],
            [
             0.2222222222222222,
             "#7201a8"
            ],
            [
             0.3333333333333333,
             "#9c179e"
            ],
            [
             0.4444444444444444,
             "#bd3786"
            ],
            [
             0.5555555555555556,
             "#d8576b"
            ],
            [
             0.6666666666666666,
             "#ed7953"
            ],
            [
             0.7777777777777778,
             "#fb9f3a"
            ],
            [
             0.8888888888888888,
             "#fdca26"
            ],
            [
             1,
             "#f0f921"
            ]
           ]
          },
          "colorway": [
           "#636efa",
           "#EF553B",
           "#00cc96",
           "#ab63fa",
           "#FFA15A",
           "#19d3f3",
           "#FF6692",
           "#B6E880",
           "#FF97FF",
           "#FECB52"
          ],
          "font": {
           "color": "#2a3f5f"
          },
          "geo": {
           "bgcolor": "white",
           "lakecolor": "white",
           "landcolor": "#E5ECF6",
           "showlakes": true,
           "showland": true,
           "subunitcolor": "white"
          },
          "hoverlabel": {
           "align": "left"
          },
          "hovermode": "closest",
          "mapbox": {
           "style": "light"
          },
          "paper_bgcolor": "white",
          "plot_bgcolor": "#E5ECF6",
          "polar": {
           "angularaxis": {
            "gridcolor": "white",
            "linecolor": "white",
            "ticks": ""
           },
           "bgcolor": "#E5ECF6",
           "radialaxis": {
            "gridcolor": "white",
            "linecolor": "white",
            "ticks": ""
           }
          },
          "scene": {
           "xaxis": {
            "backgroundcolor": "#E5ECF6",
            "gridcolor": "white",
            "gridwidth": 2,
            "linecolor": "white",
            "showbackground": true,
            "ticks": "",
            "zerolinecolor": "white"
           },
           "yaxis": {
            "backgroundcolor": "#E5ECF6",
            "gridcolor": "white",
            "gridwidth": 2,
            "linecolor": "white",
            "showbackground": true,
            "ticks": "",
            "zerolinecolor": "white"
           },
           "zaxis": {
            "backgroundcolor": "#E5ECF6",
            "gridcolor": "white",
            "gridwidth": 2,
            "linecolor": "white",
            "showbackground": true,
            "ticks": "",
            "zerolinecolor": "white"
           }
          },
          "shapedefaults": {
           "line": {
            "color": "#2a3f5f"
           }
          },
          "ternary": {
           "aaxis": {
            "gridcolor": "white",
            "linecolor": "white",
            "ticks": ""
           },
           "baxis": {
            "gridcolor": "white",
            "linecolor": "white",
            "ticks": ""
           },
           "bgcolor": "#E5ECF6",
           "caxis": {
            "gridcolor": "white",
            "linecolor": "white",
            "ticks": ""
           }
          },
          "title": {
           "x": 0.05
          },
          "xaxis": {
           "automargin": true,
           "gridcolor": "white",
           "linecolor": "white",
           "ticks": "",
           "title": {
            "standoff": 15
           },
           "zerolinecolor": "white",
           "zerolinewidth": 2
          },
          "yaxis": {
           "automargin": true,
           "gridcolor": "white",
           "linecolor": "white",
           "ticks": "",
           "title": {
            "standoff": 15
           },
           "zerolinecolor": "white",
           "zerolinewidth": 2
          }
         }
        },
        "xaxis": {
         "anchor": "y",
         "domain": [
          0,
          1
         ],
         "title": {
          "text": "Profession"
         }
        },
        "yaxis": {
         "anchor": "x",
         "domain": [
          0,
          1
         ],
         "title": {
          "text": "value"
         }
        }
       }
      },
      "text/html": [
       "<div>                            <div id=\"44935266-7760-4381-b1f5-f49f84d36fa9\" class=\"plotly-graph-div\" style=\"height:525px; width:100%;\"></div>            <script type=\"text/javascript\">                require([\"plotly\"], function(Plotly) {                    window.PLOTLYENV=window.PLOTLYENV || {};                                    if (document.getElementById(\"44935266-7760-4381-b1f5-f49f84d36fa9\")) {                    Plotly.newPlot(                        \"44935266-7760-4381-b1f5-f49f84d36fa9\",                        [{\"alignmentgroup\":\"True\",\"hovertemplate\":\"variable=Atheist<br>Profession=%{x}<br>value=%{y}<extra></extra>\",\"legendgroup\":\"Atheist\",\"marker\":{\"color\":\"#636efa\",\"pattern\":{\"shape\":\"\"}},\"name\":\"Atheist\",\"offsetgroup\":\"Atheist\",\"orientation\":\"v\",\"showlegend\":true,\"textposition\":\"auto\",\"x\":[\"Architect / Interior Designer\",\"Artist, Media & Journalist\",\"BPO & Call Centre\",\"Banking & Finance\",\"Business / Consultant\",\"CA, CS & Accountant\",\"Civil & Allied Services\",\"Computer Professional\",\"Corporate\",\"Doctor\",\"Engineer\",\"Front Office & Executive\",\"Government / Defence\",\"HR, Admin & Managers\",\"Hotels & Travel\",\"Lawyer & Advocate\",\"Medical & Healthcare\",\"Non-Working\",\"Not Specified\",\"Others\",\"Politics, Social, Public Relation\",\"Sales & Marketing\",\"Scientist & Research\",\"Shipping & Airline\",\"Student & Sports\",\"Teacher / Lecturer / Professor\",\"Telecom\"],\"xaxis\":\"x\",\"y\":[null,30.0,27.0,27.0,31.0,30.0,null,27.0,null,33.5,null,null,null,null,null,null,35.333333333333336,27.25,30.057692307692307,27.5,null,23.0,32.0,null,null,30.75,null],\"yaxis\":\"y\",\"type\":\"bar\"},{\"alignmentgroup\":\"True\",\"hovertemplate\":\"variable=Buddhist<br>Profession=%{x}<br>value=%{y}<extra></extra>\",\"legendgroup\":\"Buddhist\",\"marker\":{\"color\":\"#EF553B\",\"pattern\":{\"shape\":\"\"}},\"name\":\"Buddhist\",\"offsetgroup\":\"Buddhist\",\"orientation\":\"v\",\"showlegend\":true,\"textposition\":\"auto\",\"x\":[\"Architect / Interior Designer\",\"Artist, Media & Journalist\",\"BPO & Call Centre\",\"Banking & Finance\",\"Business / Consultant\",\"CA, CS & Accountant\",\"Civil & Allied Services\",\"Computer Professional\",\"Corporate\",\"Doctor\",\"Engineer\",\"Front Office & Executive\",\"Government / Defence\",\"HR, Admin & Managers\",\"Hotels & Travel\",\"Lawyer & Advocate\",\"Medical & Healthcare\",\"Non-Working\",\"Not Specified\",\"Others\",\"Politics, Social, Public Relation\",\"Sales & Marketing\",\"Scientist & Research\",\"Shipping & Airline\",\"Student & Sports\",\"Teacher / Lecturer / Professor\",\"Telecom\"],\"xaxis\":\"x\",\"y\":[33.333333333333336,null,26.0,28.0,44.333333333333336,39.0,null,null,31.5,31.375,32.0,33.0,42.0,32.75,40.0,34.0,36.8,28.88888888888889,30.10625,31.272727272727273,44.0,34.0,44.666666666666664,null,28.0,30.5,null],\"yaxis\":\"y\",\"type\":\"bar\"},{\"alignmentgroup\":\"True\",\"hovertemplate\":\"variable=Christian<br>Profession=%{x}<br>value=%{y}<extra></extra>\",\"legendgroup\":\"Christian\",\"marker\":{\"color\":\"#00cc96\",\"pattern\":{\"shape\":\"\"}},\"name\":\"Christian\",\"offsetgroup\":\"Christian\",\"orientation\":\"v\",\"showlegend\":true,\"textposition\":\"auto\",\"x\":[\"Architect / Interior Designer\",\"Artist, Media & Journalist\",\"BPO & Call Centre\",\"Banking & Finance\",\"Business / Consultant\",\"CA, CS & Accountant\",\"Civil & Allied Services\",\"Computer Professional\",\"Corporate\",\"Doctor\",\"Engineer\",\"Front Office & Executive\",\"Government / Defence\",\"HR, Admin & Managers\",\"Hotels & Travel\",\"Lawyer & Advocate\",\"Medical & Healthcare\",\"Non-Working\",\"Not Specified\",\"Others\",\"Politics, Social, Public Relation\",\"Sales & Marketing\",\"Scientist & Research\",\"Shipping & Airline\",\"Student & Sports\",\"Teacher / Lecturer / Professor\",\"Telecom\"],\"xaxis\":\"x\",\"y\":[32.84615384615385,31.0,29.833333333333332,30.73076923076923,33.421052631578945,29.25,40.0,30.5,31.19047619047619,30.636363636363637,29.72093023255814,32.166666666666664,31.928571428571427,30.93846153846154,33.54545454545455,28.166666666666668,30.261744966442954,28.686046511627907,30.598049281314168,30.603896103896105,37.0,34.25,28.857142857142858,33.25,25.105263157894736,31.955223880597014,28.5],\"yaxis\":\"y\",\"type\":\"bar\"},{\"alignmentgroup\":\"True\",\"hovertemplate\":\"variable=Hindu<br>Profession=%{x}<br>value=%{y}<extra></extra>\",\"legendgroup\":\"Hindu\",\"marker\":{\"color\":\"#ab63fa\",\"pattern\":{\"shape\":\"\"}},\"name\":\"Hindu\",\"offsetgroup\":\"Hindu\",\"orientation\":\"v\",\"showlegend\":true,\"textposition\":\"auto\",\"x\":[\"Architect / Interior Designer\",\"Artist, Media & Journalist\",\"BPO & Call Centre\",\"Banking & Finance\",\"Business / Consultant\",\"CA, CS & Accountant\",\"Civil & Allied Services\",\"Computer Professional\",\"Corporate\",\"Doctor\",\"Engineer\",\"Front Office & Executive\",\"Government / Defence\",\"HR, Admin & Managers\",\"Hotels & Travel\",\"Lawyer & Advocate\",\"Medical & Healthcare\",\"Non-Working\",\"Not Specified\",\"Others\",\"Politics, Social, Public Relation\",\"Sales & Marketing\",\"Scientist & Research\",\"Shipping & Airline\",\"Student & Sports\",\"Teacher / Lecturer / Professor\",\"Telecom\"],\"xaxis\":\"x\",\"y\":[27.512820512820515,29.517241379310345,30.818181818181817,30.7248322147651,31.464052287581698,29.269565217391303,31.4,29.409302325581397,30.968911917098445,29.283898305084747,28.586666666666666,31.210526315789473,32.18421052631579,32.08641975308642,31.096774193548388,30.755102040816325,29.875,28.353689567430024,28.82245752277764,29.673278879813303,29.0,31.243589743589745,30.477272727272727,30.0,25.238709677419354,30.973384030418252,28.8],\"yaxis\":\"y\",\"type\":\"bar\"},{\"alignmentgroup\":\"True\",\"hovertemplate\":\"variable=Jain<br>Profession=%{x}<br>value=%{y}<extra></extra>\",\"legendgroup\":\"Jain\",\"marker\":{\"color\":\"#FFA15A\",\"pattern\":{\"shape\":\"\"}},\"name\":\"Jain\",\"offsetgroup\":\"Jain\",\"orientation\":\"v\",\"showlegend\":true,\"textposition\":\"auto\",\"x\":[\"Architect / Interior Designer\",\"Artist, Media & Journalist\",\"BPO & Call Centre\",\"Banking & Finance\",\"Business / Consultant\",\"CA, CS & Accountant\",\"Civil & Allied Services\",\"Computer Professional\",\"Corporate\",\"Doctor\",\"Engineer\",\"Front Office & Executive\",\"Government / Defence\",\"HR, Admin & Managers\",\"Hotels & Travel\",\"Lawyer & Advocate\",\"Medical & Healthcare\",\"Non-Working\",\"Not Specified\",\"Others\",\"Politics, Social, Public Relation\",\"Sales & Marketing\",\"Scientist & Research\",\"Shipping & Airline\",\"Student & Sports\",\"Teacher / Lecturer / Professor\",\"Telecom\"],\"xaxis\":\"x\",\"y\":[null,25.0,null,33.44444444444444,36.9,33.57142857142857,null,28.857142857142858,33.0,28.571428571428573,28.25,null,null,31.2,null,32.0,35.25,31.363636363636363,29.428571428571427,27.4,null,31.0,32.0,null,24.0,28.333333333333332,null],\"yaxis\":\"y\",\"type\":\"bar\"},{\"alignmentgroup\":\"True\",\"hovertemplate\":\"variable=Muslim<br>Profession=%{x}<br>value=%{y}<extra></extra>\",\"legendgroup\":\"Muslim\",\"marker\":{\"color\":\"#19d3f3\",\"pattern\":{\"shape\":\"\"}},\"name\":\"Muslim\",\"offsetgroup\":\"Muslim\",\"orientation\":\"v\",\"showlegend\":true,\"textposition\":\"auto\",\"x\":[\"Architect / Interior Designer\",\"Artist, Media & Journalist\",\"BPO & Call Centre\",\"Banking & Finance\",\"Business / Consultant\",\"CA, CS & Accountant\",\"Civil & Allied Services\",\"Computer Professional\",\"Corporate\",\"Doctor\",\"Engineer\",\"Front Office & Executive\",\"Government / Defence\",\"HR, Admin & Managers\",\"Hotels & Travel\",\"Lawyer & Advocate\",\"Medical & Healthcare\",\"Non-Working\",\"Not Specified\",\"Others\",\"Politics, Social, Public Relation\",\"Sales & Marketing\",\"Scientist & Research\",\"Shipping & Airline\",\"Student & Sports\",\"Teacher / Lecturer / Professor\",\"Telecom\"],\"xaxis\":\"x\",\"y\":[27.571428571428573,27.666666666666668,29.6,30.7,29.923076923076923,24.4,null,29.48,29.823529411764707,28.285714285714285,28.08,38.333333333333336,32.88235294117647,29.285714285714285,30.0,27.666666666666668,29.727272727272727,27.097826086956523,28.157719977863863,28.884615384615383,22.0,31.7,32.666666666666664,32.0,23.676470588235293,31.114285714285714,null],\"yaxis\":\"y\",\"type\":\"bar\"},{\"alignmentgroup\":\"True\",\"hovertemplate\":\"variable=Parsi<br>Profession=%{x}<br>value=%{y}<extra></extra>\",\"legendgroup\":\"Parsi\",\"marker\":{\"color\":\"#FF6692\",\"pattern\":{\"shape\":\"\"}},\"name\":\"Parsi\",\"offsetgroup\":\"Parsi\",\"orientation\":\"v\",\"showlegend\":true,\"textposition\":\"auto\",\"x\":[\"Architect / Interior Designer\",\"Artist, Media & Journalist\",\"BPO & Call Centre\",\"Banking & Finance\",\"Business / Consultant\",\"CA, CS & Accountant\",\"Civil & Allied Services\",\"Computer Professional\",\"Corporate\",\"Doctor\",\"Engineer\",\"Front Office & Executive\",\"Government / Defence\",\"HR, Admin & Managers\",\"Hotels & Travel\",\"Lawyer & Advocate\",\"Medical & Healthcare\",\"Non-Working\",\"Not Specified\",\"Others\",\"Politics, Social, Public Relation\",\"Sales & Marketing\",\"Scientist & Research\",\"Shipping & Airline\",\"Student & Sports\",\"Teacher / Lecturer / Professor\",\"Telecom\"],\"xaxis\":\"x\",\"y\":[null,null,null,28.0,null,null,null,null,null,null,null,null,null,null,null,null,34.0,null,30.375,30.0,null,null,null,null,null,null,null],\"yaxis\":\"y\",\"type\":\"bar\"},{\"alignmentgroup\":\"True\",\"hovertemplate\":\"variable=Sikh<br>Profession=%{x}<br>value=%{y}<extra></extra>\",\"legendgroup\":\"Sikh\",\"marker\":{\"color\":\"#B6E880\",\"pattern\":{\"shape\":\"\"}},\"name\":\"Sikh\",\"offsetgroup\":\"Sikh\",\"orientation\":\"v\",\"showlegend\":true,\"textposition\":\"auto\",\"x\":[\"Architect / Interior Designer\",\"Artist, Media & Journalist\",\"BPO & Call Centre\",\"Banking & Finance\",\"Business / Consultant\",\"CA, CS & Accountant\",\"Civil & Allied Services\",\"Computer Professional\",\"Corporate\",\"Doctor\",\"Engineer\",\"Front Office & Executive\",\"Government / Defence\",\"HR, Admin & Managers\",\"Hotels & Travel\",\"Lawyer & Advocate\",\"Medical & Healthcare\",\"Non-Working\",\"Not Specified\",\"Others\",\"Politics, Social, Public Relation\",\"Sales & Marketing\",\"Scientist & Research\",\"Shipping & Airline\",\"Student & Sports\",\"Teacher / Lecturer / Professor\",\"Telecom\"],\"xaxis\":\"x\",\"y\":[27.666666666666668,26.333333333333332,null,28.88888888888889,32.42857142857143,29.166666666666668,null,28.75,30.454545454545453,32.142857142857146,29.714285714285715,31.0,30.583333333333332,30.27777777777778,32.833333333333336,29.5,30.22641509433962,31.123456790123456,29.73160173160173,29.728813559322035,null,30.076923076923077,30.0,null,23.4,31.8,null],\"yaxis\":\"y\",\"type\":\"bar\"}],                        {\"template\":{\"data\":{\"bar\":[{\"error_x\":{\"color\":\"#2a3f5f\"},\"error_y\":{\"color\":\"#2a3f5f\"},\"marker\":{\"line\":{\"color\":\"#E5ECF6\",\"width\":0.5},\"pattern\":{\"fillmode\":\"overlay\",\"size\":10,\"solidity\":0.2}},\"type\":\"bar\"}],\"barpolar\":[{\"marker\":{\"line\":{\"color\":\"#E5ECF6\",\"width\":0.5},\"pattern\":{\"fillmode\":\"overlay\",\"size\":10,\"solidity\":0.2}},\"type\":\"barpolar\"}],\"carpet\":[{\"aaxis\":{\"endlinecolor\":\"#2a3f5f\",\"gridcolor\":\"white\",\"linecolor\":\"white\",\"minorgridcolor\":\"white\",\"startlinecolor\":\"#2a3f5f\"},\"baxis\":{\"endlinecolor\":\"#2a3f5f\",\"gridcolor\":\"white\",\"linecolor\":\"white\",\"minorgridcolor\":\"white\",\"startlinecolor\":\"#2a3f5f\"},\"type\":\"carpet\"}],\"choropleth\":[{\"colorbar\":{\"outlinewidth\":0,\"ticks\":\"\"},\"type\":\"choropleth\"}],\"contour\":[{\"colorbar\":{\"outlinewidth\":0,\"ticks\":\"\"},\"colorscale\":[[0.0,\"#0d0887\"],[0.1111111111111111,\"#46039f\"],[0.2222222222222222,\"#7201a8\"],[0.3333333333333333,\"#9c179e\"],[0.4444444444444444,\"#bd3786\"],[0.5555555555555556,\"#d8576b\"],[0.6666666666666666,\"#ed7953\"],[0.7777777777777778,\"#fb9f3a\"],[0.8888888888888888,\"#fdca26\"],[1.0,\"#f0f921\"]],\"type\":\"contour\"}],\"contourcarpet\":[{\"colorbar\":{\"outlinewidth\":0,\"ticks\":\"\"},\"type\":\"contourcarpet\"}],\"heatmap\":[{\"colorbar\":{\"outlinewidth\":0,\"ticks\":\"\"},\"colorscale\":[[0.0,\"#0d0887\"],[0.1111111111111111,\"#46039f\"],[0.2222222222222222,\"#7201a8\"],[0.3333333333333333,\"#9c179e\"],[0.4444444444444444,\"#bd3786\"],[0.5555555555555556,\"#d8576b\"],[0.6666666666666666,\"#ed7953\"],[0.7777777777777778,\"#fb9f3a\"],[0.8888888888888888,\"#fdca26\"],[1.0,\"#f0f921\"]],\"type\":\"heatmap\"}],\"heatmapgl\":[{\"colorbar\":{\"outlinewidth\":0,\"ticks\":\"\"},\"colorscale\":[[0.0,\"#0d0887\"],[0.1111111111111111,\"#46039f\"],[0.2222222222222222,\"#7201a8\"],[0.3333333333333333,\"#9c179e\"],[0.4444444444444444,\"#bd3786\"],[0.5555555555555556,\"#d8576b\"],[0.6666666666666666,\"#ed7953\"],[0.7777777777777778,\"#fb9f3a\"],[0.8888888888888888,\"#fdca26\"],[1.0,\"#f0f921\"]],\"type\":\"heatmapgl\"}],\"histogram\":[{\"marker\":{\"pattern\":{\"fillmode\":\"overlay\",\"size\":10,\"solidity\":0.2}},\"type\":\"histogram\"}],\"histogram2d\":[{\"colorbar\":{\"outlinewidth\":0,\"ticks\":\"\"},\"colorscale\":[[0.0,\"#0d0887\"],[0.1111111111111111,\"#46039f\"],[0.2222222222222222,\"#7201a8\"],[0.3333333333333333,\"#9c179e\"],[0.4444444444444444,\"#bd3786\"],[0.5555555555555556,\"#d8576b\"],[0.6666666666666666,\"#ed7953\"],[0.7777777777777778,\"#fb9f3a\"],[0.8888888888888888,\"#fdca26\"],[1.0,\"#f0f921\"]],\"type\":\"histogram2d\"}],\"histogram2dcontour\":[{\"colorbar\":{\"outlinewidth\":0,\"ticks\":\"\"},\"colorscale\":[[0.0,\"#0d0887\"],[0.1111111111111111,\"#46039f\"],[0.2222222222222222,\"#7201a8\"],[0.3333333333333333,\"#9c179e\"],[0.4444444444444444,\"#bd3786\"],[0.5555555555555556,\"#d8576b\"],[0.6666666666666666,\"#ed7953\"],[0.7777777777777778,\"#fb9f3a\"],[0.8888888888888888,\"#fdca26\"],[1.0,\"#f0f921\"]],\"type\":\"histogram2dcontour\"}],\"mesh3d\":[{\"colorbar\":{\"outlinewidth\":0,\"ticks\":\"\"},\"type\":\"mesh3d\"}],\"parcoords\":[{\"line\":{\"colorbar\":{\"outlinewidth\":0,\"ticks\":\"\"}},\"type\":\"parcoords\"}],\"pie\":[{\"automargin\":true,\"type\":\"pie\"}],\"scatter\":[{\"marker\":{\"colorbar\":{\"outlinewidth\":0,\"ticks\":\"\"}},\"type\":\"scatter\"}],\"scatter3d\":[{\"line\":{\"colorbar\":{\"outlinewidth\":0,\"ticks\":\"\"}},\"marker\":{\"colorbar\":{\"outlinewidth\":0,\"ticks\":\"\"}},\"type\":\"scatter3d\"}],\"scattercarpet\":[{\"marker\":{\"colorbar\":{\"outlinewidth\":0,\"ticks\":\"\"}},\"type\":\"scattercarpet\"}],\"scattergeo\":[{\"marker\":{\"colorbar\":{\"outlinewidth\":0,\"ticks\":\"\"}},\"type\":\"scattergeo\"}],\"scattergl\":[{\"marker\":{\"colorbar\":{\"outlinewidth\":0,\"ticks\":\"\"}},\"type\":\"scattergl\"}],\"scattermapbox\":[{\"marker\":{\"colorbar\":{\"outlinewidth\":0,\"ticks\":\"\"}},\"type\":\"scattermapbox\"}],\"scatterpolar\":[{\"marker\":{\"colorbar\":{\"outlinewidth\":0,\"ticks\":\"\"}},\"type\":\"scatterpolar\"}],\"scatterpolargl\":[{\"marker\":{\"colorbar\":{\"outlinewidth\":0,\"ticks\":\"\"}},\"type\":\"scatterpolargl\"}],\"scatterternary\":[{\"marker\":{\"colorbar\":{\"outlinewidth\":0,\"ticks\":\"\"}},\"type\":\"scatterternary\"}],\"surface\":[{\"colorbar\":{\"outlinewidth\":0,\"ticks\":\"\"},\"colorscale\":[[0.0,\"#0d0887\"],[0.1111111111111111,\"#46039f\"],[0.2222222222222222,\"#7201a8\"],[0.3333333333333333,\"#9c179e\"],[0.4444444444444444,\"#bd3786\"],[0.5555555555555556,\"#d8576b\"],[0.6666666666666666,\"#ed7953\"],[0.7777777777777778,\"#fb9f3a\"],[0.8888888888888888,\"#fdca26\"],[1.0,\"#f0f921\"]],\"type\":\"surface\"}],\"table\":[{\"cells\":{\"fill\":{\"color\":\"#EBF0F8\"},\"line\":{\"color\":\"white\"}},\"header\":{\"fill\":{\"color\":\"#C8D4E3\"},\"line\":{\"color\":\"white\"}},\"type\":\"table\"}]},\"layout\":{\"annotationdefaults\":{\"arrowcolor\":\"#2a3f5f\",\"arrowhead\":0,\"arrowwidth\":1},\"autotypenumbers\":\"strict\",\"coloraxis\":{\"colorbar\":{\"outlinewidth\":0,\"ticks\":\"\"}},\"colorscale\":{\"diverging\":[[0,\"#8e0152\"],[0.1,\"#c51b7d\"],[0.2,\"#de77ae\"],[0.3,\"#f1b6da\"],[0.4,\"#fde0ef\"],[0.5,\"#f7f7f7\"],[0.6,\"#e6f5d0\"],[0.7,\"#b8e186\"],[0.8,\"#7fbc41\"],[0.9,\"#4d9221\"],[1,\"#276419\"]],\"sequential\":[[0.0,\"#0d0887\"],[0.1111111111111111,\"#46039f\"],[0.2222222222222222,\"#7201a8\"],[0.3333333333333333,\"#9c179e\"],[0.4444444444444444,\"#bd3786\"],[0.5555555555555556,\"#d8576b\"],[0.6666666666666666,\"#ed7953\"],[0.7777777777777778,\"#fb9f3a\"],[0.8888888888888888,\"#fdca26\"],[1.0,\"#f0f921\"]],\"sequentialminus\":[[0.0,\"#0d0887\"],[0.1111111111111111,\"#46039f\"],[0.2222222222222222,\"#7201a8\"],[0.3333333333333333,\"#9c179e\"],[0.4444444444444444,\"#bd3786\"],[0.5555555555555556,\"#d8576b\"],[0.6666666666666666,\"#ed7953\"],[0.7777777777777778,\"#fb9f3a\"],[0.8888888888888888,\"#fdca26\"],[1.0,\"#f0f921\"]]},\"colorway\":[\"#636efa\",\"#EF553B\",\"#00cc96\",\"#ab63fa\",\"#FFA15A\",\"#19d3f3\",\"#FF6692\",\"#B6E880\",\"#FF97FF\",\"#FECB52\"],\"font\":{\"color\":\"#2a3f5f\"},\"geo\":{\"bgcolor\":\"white\",\"lakecolor\":\"white\",\"landcolor\":\"#E5ECF6\",\"showlakes\":true,\"showland\":true,\"subunitcolor\":\"white\"},\"hoverlabel\":{\"align\":\"left\"},\"hovermode\":\"closest\",\"mapbox\":{\"style\":\"light\"},\"paper_bgcolor\":\"white\",\"plot_bgcolor\":\"#E5ECF6\",\"polar\":{\"angularaxis\":{\"gridcolor\":\"white\",\"linecolor\":\"white\",\"ticks\":\"\"},\"bgcolor\":\"#E5ECF6\",\"radialaxis\":{\"gridcolor\":\"white\",\"linecolor\":\"white\",\"ticks\":\"\"}},\"scene\":{\"xaxis\":{\"backgroundcolor\":\"#E5ECF6\",\"gridcolor\":\"white\",\"gridwidth\":2,\"linecolor\":\"white\",\"showbackground\":true,\"ticks\":\"\",\"zerolinecolor\":\"white\"},\"yaxis\":{\"backgroundcolor\":\"#E5ECF6\",\"gridcolor\":\"white\",\"gridwidth\":2,\"linecolor\":\"white\",\"showbackground\":true,\"ticks\":\"\",\"zerolinecolor\":\"white\"},\"zaxis\":{\"backgroundcolor\":\"#E5ECF6\",\"gridcolor\":\"white\",\"gridwidth\":2,\"linecolor\":\"white\",\"showbackground\":true,\"ticks\":\"\",\"zerolinecolor\":\"white\"}},\"shapedefaults\":{\"line\":{\"color\":\"#2a3f5f\"}},\"ternary\":{\"aaxis\":{\"gridcolor\":\"white\",\"linecolor\":\"white\",\"ticks\":\"\"},\"baxis\":{\"gridcolor\":\"white\",\"linecolor\":\"white\",\"ticks\":\"\"},\"bgcolor\":\"#E5ECF6\",\"caxis\":{\"gridcolor\":\"white\",\"linecolor\":\"white\",\"ticks\":\"\"}},\"title\":{\"x\":0.05},\"xaxis\":{\"automargin\":true,\"gridcolor\":\"white\",\"linecolor\":\"white\",\"ticks\":\"\",\"title\":{\"standoff\":15},\"zerolinecolor\":\"white\",\"zerolinewidth\":2},\"yaxis\":{\"automargin\":true,\"gridcolor\":\"white\",\"linecolor\":\"white\",\"ticks\":\"\",\"title\":{\"standoff\":15},\"zerolinecolor\":\"white\",\"zerolinewidth\":2}}},\"xaxis\":{\"anchor\":\"y\",\"domain\":[0.0,1.0],\"title\":{\"text\":\"Profession\"}},\"yaxis\":{\"anchor\":\"x\",\"domain\":[0.0,1.0],\"title\":{\"text\":\"value\"}},\"legend\":{\"title\":{\"text\":\"variable\"},\"tracegroupgap\":0},\"margin\":{\"t\":60},\"barmode\":\"relative\"},                        {\"responsive\": true}                    ).then(function(){\n",
       "                            \n",
       "var gd = document.getElementById('44935266-7760-4381-b1f5-f49f84d36fa9');\n",
       "var x = new MutationObserver(function (mutations, observer) {{\n",
       "        var display = window.getComputedStyle(gd).display;\n",
       "        if (!display || display === 'none') {{\n",
       "            console.log([gd, 'removed!']);\n",
       "            Plotly.purge(gd);\n",
       "            observer.disconnect();\n",
       "        }}\n",
       "}});\n",
       "\n",
       "// Listen for the removal of the full notebook cells\n",
       "var notebookContainer = gd.closest('#notebook-container');\n",
       "if (notebookContainer) {{\n",
       "    x.observe(notebookContainer, {childList: true});\n",
       "}}\n",
       "\n",
       "// Listen for the clearing of the current output cell\n",
       "var outputEl = gd.closest('.output');\n",
       "if (outputEl) {{\n",
       "    x.observe(outputEl, {childList: true});\n",
       "}}\n",
       "\n",
       "                        })                };                });            </script>        </div>"
      ]
     },
     "metadata": {},
     "output_type": "display_data"
    }
   ],
   "source": [
    "import plotly.graph_objects as go\n",
    "import plotly_express as px\n",
    "import seaborn as sn\n",
    "import matplotlib as mpl\n",
    "import matplotlib.pyplot as plt\n",
    "%matplotlib inline\n",
    "fig=px.bar(databis, x=databis.index, y=['Atheist', 'Buddhist', 'Christian', 'Hindu', 'Jain', 'Muslim', 'Parsi','Sikh'])\n",
    "\n",
    "\n",
    "fig.show()"
   ]
  },
  {
   "cell_type": "markdown",
   "id": "d7ac5928",
   "metadata": {},
   "source": [
    "# WORDCLOUD MESSAGE"
   ]
  },
  {
   "cell_type": "code",
   "execution_count": 39,
   "id": "a0580261",
   "metadata": {},
   "outputs": [
    {
     "data": {
      "text/plain": [
       "2     I am a simple girl with a good personality. I ...\n",
       "3     I belong to \"Roman Catholic\" caste and I am in...\n",
       "4     I am a simple girl with a good personality. I ...\n",
       "5     I am a simple girl with a good personality. I ...\n",
       "6     My Sister is a smart and dynamic girl brought ...\n",
       "7     My Daughter is a smart and dynamic girl brough...\n",
       "8     I am currently living in usa. I am a smart and...\n",
       "9     My Relative is a smart and dynamic girl brough...\n",
       "10    I am Jennifer Williams a Nice Looking Girl I a...\n",
       "11    My Relative is a smart and dynamic girl brough...\n",
       "12    I am a simple girl with a good personality. I ...\n",
       "13    This profile is of my Daughter, who is simple ...\n",
       "14    My Friend is a smart and dynamic girl brought ...\n",
       "15    My Daughter is a smart and dynamic girl brough...\n",
       "16    My Sister is a smart and dynamic girl brought ...\n",
       "17    This profile is of my Daughter, who is simple ...\n",
       "18    I am a simple girl with a good personality. I ...\n",
       "19    I am a simple girl with a good personality. I ...\n",
       "Name: message, dtype: object"
      ]
     },
     "execution_count": 39,
     "metadata": {},
     "output_type": "execute_result"
    }
   ],
   "source": [
    "\n",
    "data.message[2:20]"
   ]
  },
  {
   "cell_type": "code",
   "execution_count": 40,
   "id": "d3d4045b",
   "metadata": {},
   "outputs": [
    {
     "name": "stderr",
     "output_type": "stream",
     "text": [
      "[nltk_data] Downloading package punkt to\n",
      "[nltk_data]     C:\\Users\\sandr\\AppData\\Roaming\\nltk_data...\n",
      "[nltk_data]   Package punkt is already up-to-date!\n"
     ]
    },
    {
     "name": "stdout",
     "output_type": "stream",
     "text": [
      "['simple', 'girl', 'good', 'personality', 'reside', 'beautiful', 'city', 'read', 'daughter', 'smart', 'dynamic', 'girl', 'brought', 'well', 'nurtured', 'value', 'read', 'simple', 'girl', 'good', 'personality', 'reside', 'beautiful', 'city', 'read', 'belong', 'roman', 'catholic', 'caste', 'search', 'caring', 'kin', 'read', 'simple', 'girl', 'good', 'personality', 'reside', 'beautiful', 'city', 'read', 'simple', 'girl', 'good', 'personality', 'reside', 'beautiful', 'city', 'read', 'sister', 'smart', 'dynamic', 'girl', 'brought', 'well', 'nurtured', 'values', 'read', 'daughter', 'smart', 'dynamic', 'girl', 'brought', 'well', 'nurtured', 'value', 'read', 'currently', 'living', 'usa', 'smart', 'dynamic', 'girl', 'respects', 'read', 'relative', 'smart', 'dynamic', 'girl', 'brought', 'well', 'nurtured', 'value', 'read', 'jennifer', 'williams', 'nice', 'looking', 'girl', 'meet', 'friends', 'read', 'relative', 'smart', 'dynamic', 'girl', 'brought', 'well', 'nurtured', 'value']\n"
     ]
    },
    {
     "name": "stderr",
     "output_type": "stream",
     "text": [
      "[nltk_data] Downloading package stopwords to\n",
      "[nltk_data]     C:\\Users\\sandr\\AppData\\Roaming\\nltk_data...\n",
      "[nltk_data]   Package stopwords is already up-to-date!\n"
     ]
    }
   ],
   "source": [
    "# join all quote, in one text  \n",
    "all_words_female = ' '.join(data.message)\n",
    "\n",
    "# split into words\n",
    "import nltk\n",
    "nltk.download('punkt')\n",
    "from nltk.tokenize import word_tokenize\n",
    "tokens = word_tokenize(all_words_female)\n",
    "\n",
    "# convert to lower case\n",
    "tokens = [w.lower() for w in tokens]\n",
    "\n",
    "# remove punctuation from each word\n",
    "import string\n",
    "table = str.maketrans('', '', string.punctuation)\n",
    "stripped = [w.translate(table) for w in tokens]\n",
    "\n",
    "# remove remaining tokens that are not alphabetic\n",
    "words = [word for word in stripped if word.isalpha()]\n",
    "\n",
    "# filter out stop words\n",
    "import nltk\n",
    "nltk.download('stopwords')\n",
    "from nltk.corpus import stopwords\n",
    "stop_words = set(stopwords.words('english'))\n",
    "words = [w for w in words if not w in stop_words]\n",
    "print(words[:100])"
   ]
  },
  {
   "cell_type": "code",
   "execution_count": 63,
   "id": "d0320e18",
   "metadata": {},
   "outputs": [
    {
     "data": {
      "text/plain": [
       "<wordcloud.wordcloud.WordCloud at 0x21fa1652670>"
      ]
     },
     "execution_count": 63,
     "metadata": {},
     "output_type": "execute_result"
    }
   ],
   "source": [
    "from wordcloud import WordCloud\n",
    "\n",
    "stopword=[ 'see', 'dear', 'most', 'un','profile', 'living', 'reside', 'girl', 'mother', 'brought', 'well']\n",
    "wordcloud = WordCloud(stopwords=stopword, collocations=True, \n",
    "                        width = 800, height = 800,\n",
    "                        background_color='white').generate(' '.join(words))\n",
    "wordcloud"
   ]
  },
  {
   "cell_type": "code",
   "execution_count": 64,
   "id": "1726ee7d",
   "metadata": {},
   "outputs": [
    {
     "data": {
      "image/png": "[encoded data removed]",
      "text/plain": [
       "<Figure size 432x288 with 1 Axes>"
      ]
     },
     "metadata": {
      "needs_background": "light"
     },
     "output_type": "display_data"
    }
   ],
   "source": [
    "plt.imshow(wordcloud)\n",
    "plt.axis(\"off\")\n",
    "plt.show()"
   ]
  },
  {
   "cell_type": "code",
   "execution_count": 65,
   "id": "db76659c",
   "metadata": {},
   "outputs": [],
   "source": [
    "words\n",
    "stopword=[ 'see', 'dear', 'most', 'un','profile', 'living', 'reside', 'girl', 'mother', 'brought', 'well']\n",
    "for word in list(words):  # iterating on a copy since removing will mess things up\n",
    "    if word in stopword:\n",
    "        words.remove(word)\n",
    "        \n",
    "# find message with read inside   : data[data['message'].str.contains(\"read\")] "
   ]
  },
  {
   "cell_type": "code",
   "execution_count": 66,
   "id": "09888746",
   "metadata": {},
   "outputs": [
    {
     "data": {
      "text/html": [
       "<div>\n",
       "<style scoped>\n",
       "    .dataframe tbody tr th:only-of-type {\n",
       "        vertical-align: middle;\n",
       "    }\n",
       "\n",
       "    .dataframe tbody tr th {\n",
       "        vertical-align: top;\n",
       "    }\n",
       "\n",
       "    .dataframe thead th {\n",
       "        text-align: right;\n",
       "    }\n",
       "</style>\n",
       "<table border=\"1\" class=\"dataframe\">\n",
       "  <thead>\n",
       "    <tr style=\"text-align: right;\">\n",
       "      <th></th>\n",
       "      <th>word</th>\n",
       "      <th>count</th>\n",
       "    </tr>\n",
       "  </thead>\n",
       "  <tbody>\n",
       "    <tr>\n",
       "      <th>0</th>\n",
       "      <td>simple</td>\n",
       "      <td>9237</td>\n",
       "    </tr>\n",
       "    <tr>\n",
       "      <th>6</th>\n",
       "      <td>smart</td>\n",
       "      <td>9016</td>\n",
       "    </tr>\n",
       "    <tr>\n",
       "      <th>1</th>\n",
       "      <td>good</td>\n",
       "      <td>8994</td>\n",
       "    </tr>\n",
       "    <tr>\n",
       "      <th>7</th>\n",
       "      <td>dynamic</td>\n",
       "      <td>8987</td>\n",
       "    </tr>\n",
       "    <tr>\n",
       "      <th>26</th>\n",
       "      <td>looking</td>\n",
       "      <td>5229</td>\n",
       "    </tr>\n",
       "    <tr>\n",
       "      <th>...</th>\n",
       "      <td>...</td>\n",
       "      <td>...</td>\n",
       "    </tr>\n",
       "    <tr>\n",
       "      <th>1562</th>\n",
       "      <td>course</td>\n",
       "      <td>1</td>\n",
       "    </tr>\n",
       "    <tr>\n",
       "      <th>1560</th>\n",
       "      <td>pauli</td>\n",
       "      <td>1</td>\n",
       "    </tr>\n",
       "    <tr>\n",
       "      <th>1558</th>\n",
       "      <td>soulmate</td>\n",
       "      <td>1</td>\n",
       "    </tr>\n",
       "    <tr>\n",
       "      <th>1556</th>\n",
       "      <td>amina</td>\n",
       "      <td>1</td>\n",
       "    </tr>\n",
       "    <tr>\n",
       "      <th>2862</th>\n",
       "      <td>busy</td>\n",
       "      <td>1</td>\n",
       "    </tr>\n",
       "  </tbody>\n",
       "</table>\n",
       "<p>2863 rows × 2 columns</p>\n",
       "</div>"
      ],
      "text/plain": [
       "          word  count\n",
       "0       simple   9237\n",
       "6        smart   9016\n",
       "1         good   8994\n",
       "7      dynamic   8987\n",
       "26     looking   5229\n",
       "...        ...    ...\n",
       "1562    course      1\n",
       "1560     pauli      1\n",
       "1558  soulmate      1\n",
       "1556     amina      1\n",
       "2862      busy      1\n",
       "\n",
       "[2863 rows x 2 columns]"
      ]
     },
     "execution_count": 66,
     "metadata": {},
     "output_type": "execute_result"
    }
   ],
   "source": [
    "from nltk import FreqDist\n",
    "fdist = FreqDist(words)\n",
    "\n",
    "words_df = pd.DataFrame({'word':list(fdist.keys()), 'count':list(fdist.values())})\n",
    "words_df= words_df.sort_values(by='count', ascending=False)\n",
    "words_df"
   ]
  },
  {
   "cell_type": "code",
   "execution_count": 67,
   "id": "35c93e80",
   "metadata": {},
   "outputs": [
    {
     "data": {
      "text/html": [
       "<div>\n",
       "<style scoped>\n",
       "    .dataframe tbody tr th:only-of-type {\n",
       "        vertical-align: middle;\n",
       "    }\n",
       "\n",
       "    .dataframe tbody tr th {\n",
       "        vertical-align: top;\n",
       "    }\n",
       "\n",
       "    .dataframe thead th {\n",
       "        text-align: right;\n",
       "    }\n",
       "</style>\n",
       "<table border=\"1\" class=\"dataframe\">\n",
       "  <thead>\n",
       "    <tr style=\"text-align: right;\">\n",
       "      <th></th>\n",
       "      <th>word</th>\n",
       "      <th>count</th>\n",
       "      <th>freq_rel</th>\n",
       "    </tr>\n",
       "  </thead>\n",
       "  <tbody>\n",
       "    <tr>\n",
       "      <th>0</th>\n",
       "      <td>simple</td>\n",
       "      <td>9237</td>\n",
       "      <td>0.145572</td>\n",
       "    </tr>\n",
       "    <tr>\n",
       "      <th>6</th>\n",
       "      <td>smart</td>\n",
       "      <td>9016</td>\n",
       "      <td>0.142089</td>\n",
       "    </tr>\n",
       "    <tr>\n",
       "      <th>1</th>\n",
       "      <td>good</td>\n",
       "      <td>8994</td>\n",
       "      <td>0.141743</td>\n",
       "    </tr>\n",
       "    <tr>\n",
       "      <th>7</th>\n",
       "      <td>dynamic</td>\n",
       "      <td>8987</td>\n",
       "      <td>0.141632</td>\n",
       "    </tr>\n",
       "    <tr>\n",
       "      <th>26</th>\n",
       "      <td>looking</td>\n",
       "      <td>5229</td>\n",
       "      <td>0.082407</td>\n",
       "    </tr>\n",
       "    <tr>\n",
       "      <th>8</th>\n",
       "      <td>nurtured</td>\n",
       "      <td>5226</td>\n",
       "      <td>0.082360</td>\n",
       "    </tr>\n",
       "    <tr>\n",
       "      <th>5</th>\n",
       "      <td>daughter</td>\n",
       "      <td>5134</td>\n",
       "      <td>0.080910</td>\n",
       "    </tr>\n",
       "    <tr>\n",
       "      <th>17</th>\n",
       "      <td>sister</td>\n",
       "      <td>3919</td>\n",
       "      <td>0.061762</td>\n",
       "    </tr>\n",
       "    <tr>\n",
       "      <th>19</th>\n",
       "      <td>currently</td>\n",
       "      <td>3861</td>\n",
       "      <td>0.060848</td>\n",
       "    </tr>\n",
       "    <tr>\n",
       "      <th>2</th>\n",
       "      <td>personality</td>\n",
       "      <td>3850</td>\n",
       "      <td>0.060675</td>\n",
       "    </tr>\n",
       "  </tbody>\n",
       "</table>\n",
       "</div>"
      ],
      "text/plain": [
       "           word  count  freq_rel\n",
       "0        simple   9237  0.145572\n",
       "6         smart   9016  0.142089\n",
       "1          good   8994  0.141743\n",
       "7       dynamic   8987  0.141632\n",
       "26      looking   5229  0.082407\n",
       "8      nurtured   5226  0.082360\n",
       "5      daughter   5134  0.080910\n",
       "17       sister   3919  0.061762\n",
       "19    currently   3861  0.060848\n",
       "2   personality   3850  0.060675"
      ]
     },
     "execution_count": 67,
     "metadata": {},
     "output_type": "execute_result"
    }
   ],
   "source": [
    "d = words_df.nlargest(columns=\"count\", n=10)\n",
    "d = d.sort_values(by='count', ascending=False)\n",
    "d['freq_rel'] = d['count']/(sum(d['count']))\n",
    "d\n"
   ]
  },
  {
   "cell_type": "code",
   "execution_count": 68,
   "id": "4e418221",
   "metadata": {},
   "outputs": [
    {
     "data": {
      "text/html": [
       "<div>\n",
       "<style scoped>\n",
       "    .dataframe tbody tr th:only-of-type {\n",
       "        vertical-align: middle;\n",
       "    }\n",
       "\n",
       "    .dataframe tbody tr th {\n",
       "        vertical-align: top;\n",
       "    }\n",
       "\n",
       "    .dataframe thead th {\n",
       "        text-align: right;\n",
       "    }\n",
       "</style>\n",
       "<table border=\"1\" class=\"dataframe\">\n",
       "  <thead>\n",
       "    <tr style=\"text-align: right;\">\n",
       "      <th></th>\n",
       "      <th>Age_Height</th>\n",
       "      <th>Religion_Caste</th>\n",
       "      <th>Mother_Tongue</th>\n",
       "      <th>Profession</th>\n",
       "      <th>Location</th>\n",
       "      <th>message</th>\n",
       "    </tr>\n",
       "  </thead>\n",
       "  <tbody>\n",
       "    <tr>\n",
       "      <th>13</th>\n",
       "      <td>24, 5' 03\" (160 cm)</td>\n",
       "      <td>Hindu, Prajapati</td>\n",
       "      <td>Haryanvi</td>\n",
       "      <td>Not Specified</td>\n",
       "      <td>, Amritsar, Punjab, India</td>\n",
       "      <td>This profile is of my Daughter, who is simple ...</td>\n",
       "    </tr>\n",
       "    <tr>\n",
       "      <th>17</th>\n",
       "      <td>23, 5' 05\" (165 cm)</td>\n",
       "      <td>Muslim, Other</td>\n",
       "      <td>Urdu</td>\n",
       "      <td>Corporate</td>\n",
       "      <td>, UK</td>\n",
       "      <td>This profile is of my Daughter, who is simple ...</td>\n",
       "    </tr>\n",
       "    <tr>\n",
       "      <th>25</th>\n",
       "      <td>27, 5' 03\" (160 cm)</td>\n",
       "      <td>Hindu, Nair</td>\n",
       "      <td>Malayalam</td>\n",
       "      <td>Computer Professional</td>\n",
       "      <td>, USA</td>\n",
       "      <td>This profile is of my Daughter, who is simple ...</td>\n",
       "    </tr>\n",
       "    <tr>\n",
       "      <th>32</th>\n",
       "      <td>30, 5' 01\" (155 cm)</td>\n",
       "      <td>Hindu, Brahmin Dhiman</td>\n",
       "      <td>English</td>\n",
       "      <td>Medical &amp; Healthcare</td>\n",
       "      <td>, Bangalore, Karnataka, India</td>\n",
       "      <td>This profile is of my Relative, who is simple ...</td>\n",
       "    </tr>\n",
       "    <tr>\n",
       "      <th>37</th>\n",
       "      <td>27, 5' 03\" (160 cm)</td>\n",
       "      <td>Sikh, Ramgharia</td>\n",
       "      <td>Punjabi</td>\n",
       "      <td>Teacher / Lecturer / Professor</td>\n",
       "      <td>, Moga, Punjab, India</td>\n",
       "      <td>This profile is of my Sister, who is simple an...</td>\n",
       "    </tr>\n",
       "    <tr>\n",
       "      <th>...</th>\n",
       "      <td>...</td>\n",
       "      <td>...</td>\n",
       "      <td>...</td>\n",
       "      <td>...</td>\n",
       "      <td>...</td>\n",
       "      <td>...</td>\n",
       "    </tr>\n",
       "    <tr>\n",
       "      <th>20961</th>\n",
       "      <td>32, 5' 05\" (165 cm)</td>\n",
       "      <td>Muslim, Sunni</td>\n",
       "      <td>Urdu</td>\n",
       "      <td>Corporate</td>\n",
       "      <td>, acknowlede, New Zealand</td>\n",
       "      <td>This profile is of my Sister, who is simple an...</td>\n",
       "    </tr>\n",
       "    <tr>\n",
       "      <th>20968</th>\n",
       "      <td>28, 5' 04\" (162 cm)</td>\n",
       "      <td>Hindu, Brahmin Saryuparin</td>\n",
       "      <td>Hindi</td>\n",
       "      <td>HR, Admin &amp; Managers</td>\n",
       "      <td>, Delhi, India</td>\n",
       "      <td>This profile is of my Daughter, who is simple ...</td>\n",
       "    </tr>\n",
       "    <tr>\n",
       "      <th>20969</th>\n",
       "      <td>26, 5' 05\" (165 cm)</td>\n",
       "      <td>Hindu, Agarwal</td>\n",
       "      <td>Hindi</td>\n",
       "      <td>Not Specified</td>\n",
       "      <td>, Australia</td>\n",
       "      <td>This profile is of my Daughter, who is simple ...</td>\n",
       "    </tr>\n",
       "    <tr>\n",
       "      <th>20972</th>\n",
       "      <td>24, 5' 05\" (165 cm)</td>\n",
       "      <td>Hindu, Vellalar</td>\n",
       "      <td>Tamil</td>\n",
       "      <td>Not Specified</td>\n",
       "      <td>, Coimbatore, Tamil Nadu, India</td>\n",
       "      <td>This profile is of my Sister, who is simple an...</td>\n",
       "    </tr>\n",
       "    <tr>\n",
       "      <th>20975</th>\n",
       "      <td>22, 5' 05\" (165 cm)</td>\n",
       "      <td>Muslim, Islam</td>\n",
       "      <td>Malayalam</td>\n",
       "      <td>Not Specified</td>\n",
       "      <td>, Thiruvananthapuram, Kerala, India</td>\n",
       "      <td>This profile is of my Daughter, who is simple ...</td>\n",
       "    </tr>\n",
       "  </tbody>\n",
       "</table>\n",
       "<p>4965 rows × 6 columns</p>\n",
       "</div>"
      ],
      "text/plain": [
       "                Age_Height             Religion_Caste Mother_Tongue  \\\n",
       "13     24, 5' 03\" (160 cm)           Hindu, Prajapati      Haryanvi   \n",
       "17     23, 5' 05\" (165 cm)              Muslim, Other          Urdu   \n",
       "25     27, 5' 03\" (160 cm)                Hindu, Nair     Malayalam   \n",
       "32     30, 5' 01\" (155 cm)      Hindu, Brahmin Dhiman       English   \n",
       "37     27, 5' 03\" (160 cm)            Sikh, Ramgharia       Punjabi   \n",
       "...                    ...                        ...           ...   \n",
       "20961  32, 5' 05\" (165 cm)              Muslim, Sunni          Urdu   \n",
       "20968  28, 5' 04\" (162 cm)  Hindu, Brahmin Saryuparin         Hindi   \n",
       "20969  26, 5' 05\" (165 cm)             Hindu, Agarwal         Hindi   \n",
       "20972  24, 5' 05\" (165 cm)            Hindu, Vellalar         Tamil   \n",
       "20975  22, 5' 05\" (165 cm)              Muslim, Islam     Malayalam   \n",
       "\n",
       "                           Profession                             Location  \\\n",
       "13                      Not Specified            , Amritsar, Punjab, India   \n",
       "17                          Corporate                                 , UK   \n",
       "25              Computer Professional                                , USA   \n",
       "32               Medical & Healthcare        , Bangalore, Karnataka, India   \n",
       "37     Teacher / Lecturer / Professor                , Moga, Punjab, India   \n",
       "...                               ...                                  ...   \n",
       "20961                       Corporate            , acknowlede, New Zealand   \n",
       "20968            HR, Admin & Managers                       , Delhi, India   \n",
       "20969                   Not Specified                          , Australia   \n",
       "20972                   Not Specified      , Coimbatore, Tamil Nadu, India   \n",
       "20975                   Not Specified  , Thiruvananthapuram, Kerala, India   \n",
       "\n",
       "                                                 message  \n",
       "13     This profile is of my Daughter, who is simple ...  \n",
       "17     This profile is of my Daughter, who is simple ...  \n",
       "25     This profile is of my Daughter, who is simple ...  \n",
       "32     This profile is of my Relative, who is simple ...  \n",
       "37     This profile is of my Sister, who is simple an...  \n",
       "...                                                  ...  \n",
       "20961  This profile is of my Sister, who is simple an...  \n",
       "20968  This profile is of my Daughter, who is simple ...  \n",
       "20969  This profile is of my Daughter, who is simple ...  \n",
       "20972  This profile is of my Sister, who is simple an...  \n",
       "20975  This profile is of my Daughter, who is simple ...  \n",
       "\n",
       "[4965 rows x 6 columns]"
      ]
     },
     "execution_count": 68,
     "metadata": {},
     "output_type": "execute_result"
    }
   ],
   "source": [
    "# find message with mother inside   : \n",
    "data[data['message'].str.contains(\"mother\")]"
   ]
  },
  {
   "cell_type": "code",
   "execution_count": 69,
   "id": "ede404db",
   "metadata": {},
   "outputs": [
    {
     "data": {
      "application/vnd.plotly.v1+json": {
       "config": {
        "plotlyServerURL": "https://plot.ly"
       },
       "data": [
        {
         "alignmentgroup": "True",
         "hovertemplate": "x=%{x}<br>y=%{y}<extra></extra>",
         "legendgroup": "",
         "marker": {
          "color": "#636efa",
          "pattern": {
           "shape": ""
          }
         },
         "name": "",
         "offsetgroup": "",
         "orientation": "h",
         "showlegend": false,
         "textposition": "auto",
         "type": "bar",
         "x": [
          0.14557231336579832,
          0.14208942051597245,
          0.14174270720060517,
          0.14163238932753378,
          0.08240745118434116,
          0.08236017209588199,
          0.08091028004980064,
          0.06176224922383496,
          0.06084818684695759,
          0.06067483018927395
         ],
         "xaxis": "x",
         "y": [
          "simple",
          "smart",
          "good",
          "dynamic",
          "looking",
          "nurtured",
          "daughter",
          "sister",
          "currently",
          "personality"
         ],
         "yaxis": "y"
        }
       ],
       "layout": {
        "barmode": "relative",
        "legend": {
         "tracegroupgap": 0
        },
        "margin": {
         "t": 60
        },
        "template": {
         "data": {
          "bar": [
           {
            "error_x": {
             "color": "#2a3f5f"
            },
            "error_y": {
             "color": "#2a3f5f"
            },
            "marker": {
             "line": {
              "color": "#E5ECF6",
              "width": 0.5
             },
             "pattern": {
              "fillmode": "overlay",
              "size": 10,
              "solidity": 0.2
             }
            },
            "type": "bar"
           }
          ],
          "barpolar": [
           {
            "marker": {
             "line": {
              "color": "#E5ECF6",
              "width": 0.5
             },
             "pattern": {
              "fillmode": "overlay",
              "size": 10,
              "solidity": 0.2
             }
            },
            "type": "barpolar"
           }
          ],
          "carpet": [
           {
            "aaxis": {
             "endlinecolor": "#2a3f5f",
             "gridcolor": "white",
             "linecolor": "white",
             "minorgridcolor": "white",
             "startlinecolor": "#2a3f5f"
            },
            "baxis": {
             "endlinecolor": "#2a3f5f",
             "gridcolor": "white",
             "linecolor": "white",
             "minorgridcolor": "white",
             "startlinecolor": "#2a3f5f"
            },
            "type": "carpet"
           }
          ],
          "choropleth": [
           {
            "colorbar": {
             "outlinewidth": 0,
             "ticks": ""
            },
            "type": "choropleth"
           }
          ],
          "contour": [
           {
            "colorbar": {
             "outlinewidth": 0,
             "ticks": ""
            },
            "colorscale": [
             [
              0,
              "#0d0887"
             ],
             [
              0.1111111111111111,
              "#46039f"
             ],
             [
              0.2222222222222222,
              "#7201a8"
             ],
             [
              0.3333333333333333,
              "#9c179e"
             ],
             [
              0.4444444444444444,
              "#bd3786"
             ],
             [
              0.5555555555555556,
              "#d8576b"
             ],
             [
              0.6666666666666666,
              "#ed7953"
             ],
             [
              0.7777777777777778,
              "#fb9f3a"
             ],
             [
              0.8888888888888888,
              "#fdca26"
             ],
             [
              1,
              "#f0f921"
             ]
            ],
            "type": "contour"
           }
          ],
          "contourcarpet": [
           {
            "colorbar": {
             "outlinewidth": 0,
             "ticks": ""
            },
            "type": "contourcarpet"
           }
          ],
          "heatmap": [
           {
            "colorbar": {
             "outlinewidth": 0,
             "ticks": ""
            },
            "colorscale": [
             [
              0,
              "#0d0887"
             ],
             [
              0.1111111111111111,
              "#46039f"
             ],
             [
              0.2222222222222222,
              "#7201a8"
             ],
             [
              0.3333333333333333,
              "#9c179e"
             ],
             [
              0.4444444444444444,
              "#bd3786"
             ],
             [
              0.5555555555555556,
              "#d8576b"
             ],
             [
              0.6666666666666666,
              "#ed7953"
             ],
             [
              0.7777777777777778,
              "#fb9f3a"
             ],
             [
              0.8888888888888888,
              "#fdca26"
             ],
             [
              1,
              "#f0f921"
             ]
            ],
            "type": "heatmap"
           }
          ],
          "heatmapgl": [
           {
            "colorbar": {
             "outlinewidth": 0,
             "ticks": ""
            },
            "colorscale": [
             [
              0,
              "#0d0887"
             ],
             [
              0.1111111111111111,
              "#46039f"
             ],
             [
              0.2222222222222222,
              "#7201a8"
             ],
             [
              0.3333333333333333,
              "#9c179e"
             ],
             [
              0.4444444444444444,
              "#bd3786"
             ],
             [
              0.5555555555555556,
              "#d8576b"
             ],
             [
              0.6666666666666666,
              "#ed7953"
             ],
             [
              0.7777777777777778,
              "#fb9f3a"
             ],
             [
              0.8888888888888888,
              "#fdca26"
             ],
             [
              1,
              "#f0f921"
             ]
            ],
            "type": "heatmapgl"
           }
          ],
          "histogram": [
           {
            "marker": {
             "pattern": {
              "fillmode": "overlay",
              "size": 10,
              "solidity": 0.2
             }
            },
            "type": "histogram"
           }
          ],
          "histogram2d": [
           {
            "colorbar": {
             "outlinewidth": 0,
             "ticks": ""
            },
            "colorscale": [
             [
              0,
              "#0d0887"
             ],
             [
              0.1111111111111111,
              "#46039f"
             ],
             [
              0.2222222222222222,
              "#7201a8"
             ],
             [
              0.3333333333333333,
              "#9c179e"
             ],
             [
              0.4444444444444444,
              "#bd3786"
             ],
             [
              0.5555555555555556,
              "#d8576b"
             ],
             [
              0.6666666666666666,
              "#ed7953"
             ],
             [
              0.7777777777777778,
              "#fb9f3a"
             ],
             [
              0.8888888888888888,
              "#fdca26"
             ],
             [
              1,
              "#f0f921"
             ]
            ],
            "type": "histogram2d"
           }
          ],
          "histogram2dcontour": [
           {
            "colorbar": {
             "outlinewidth": 0,
             "ticks": ""
            },
            "colorscale": [
             [
              0,
              "#0d0887"
             ],
             [
              0.1111111111111111,
              "#46039f"
             ],
             [
              0.2222222222222222,
              "#7201a8"
             ],
             [
              0.3333333333333333,
              "#9c179e"
             ],
             [
              0.4444444444444444,
              "#bd3786"
             ],
             [
              0.5555555555555556,
              "#d8576b"
             ],
             [
              0.6666666666666666,
              "#ed7953"
             ],
             [
              0.7777777777777778,
              "#fb9f3a"
             ],
             [
              0.8888888888888888,
              "#fdca26"
             ],
             [
              1,
              "#f0f921"
             ]
            ],
            "type": "histogram2dcontour"
           }
          ],
          "mesh3d": [
           {
            "colorbar": {
             "outlinewidth": 0,
             "ticks": ""
            },
            "type": "mesh3d"
           }
          ],
          "parcoords": [
           {
            "line": {
             "colorbar": {
              "outlinewidth": 0,
              "ticks": ""
             }
            },
            "type": "parcoords"
           }
          ],
          "pie": [
           {
            "automargin": true,
            "type": "pie"
           }
          ],
          "scatter": [
           {
            "marker": {
             "colorbar": {
              "outlinewidth": 0,
              "ticks": ""
             }
            },
            "type": "scatter"
           }
          ],
          "scatter3d": [
           {
            "line": {
             "colorbar": {
              "outlinewidth": 0,
              "ticks": ""
             }
            },
            "marker": {
             "colorbar": {
              "outlinewidth": 0,
              "ticks": ""
             }
            },
            "type": "scatter3d"
           }
          ],
          "scattercarpet": [
           {
            "marker": {
             "colorbar": {
              "outlinewidth": 0,
              "ticks": ""
             }
            },
            "type": "scattercarpet"
           }
          ],
          "scattergeo": [
           {
            "marker": {
             "colorbar": {
              "outlinewidth": 0,
              "ticks": ""
             }
            },
            "type": "scattergeo"
           }
          ],
          "scattergl": [
           {
            "marker": {
             "colorbar": {
              "outlinewidth": 0,
              "ticks": ""
             }
            },
            "type": "scattergl"
           }
          ],
          "scattermapbox": [
           {
            "marker": {
             "colorbar": {
              "outlinewidth": 0,
              "ticks": ""
             }
            },
            "type": "scattermapbox"
           }
          ],
          "scatterpolar": [
           {
            "marker": {
             "colorbar": {
              "outlinewidth": 0,
              "ticks": ""
             }
            },
            "type": "scatterpolar"
           }
          ],
          "scatterpolargl": [
           {
            "marker": {
             "colorbar": {
              "outlinewidth": 0,
              "ticks": ""
             }
            },
            "type": "scatterpolargl"
           }
          ],
          "scatterternary": [
           {
            "marker": {
             "colorbar": {
              "outlinewidth": 0,
              "ticks": ""
             }
            },
            "type": "scatterternary"
           }
          ],
          "surface": [
           {
            "colorbar": {
             "outlinewidth": 0,
             "ticks": ""
            },
            "colorscale": [
             [
              0,
              "#0d0887"
             ],
             [
              0.1111111111111111,
              "#46039f"
             ],
             [
              0.2222222222222222,
              "#7201a8"
             ],
             [
              0.3333333333333333,
              "#9c179e"
             ],
             [
              0.4444444444444444,
              "#bd3786"
             ],
             [
              0.5555555555555556,
              "#d8576b"
             ],
             [
              0.6666666666666666,
              "#ed7953"
             ],
             [
              0.7777777777777778,
              "#fb9f3a"
             ],
             [
              0.8888888888888888,
              "#fdca26"
             ],
             [
              1,
              "#f0f921"
             ]
            ],
            "type": "surface"
           }
          ],
          "table": [
           {
            "cells": {
             "fill": {
              "color": "#EBF0F8"
             },
             "line": {
              "color": "white"
             }
            },
            "header": {
             "fill": {
              "color": "#C8D4E3"
             },
             "line": {
              "color": "white"
             }
            },
            "type": "table"
           }
          ]
         },
         "layout": {
          "annotationdefaults": {
           "arrowcolor": "#2a3f5f",
           "arrowhead": 0,
           "arrowwidth": 1
          },
          "autotypenumbers": "strict",
          "coloraxis": {
           "colorbar": {
            "outlinewidth": 0,
            "ticks": ""
           }
          },
          "colorscale": {
           "diverging": [
            [
             0,
             "#8e0152"
            ],
            [
             0.1,
             "#c51b7d"
            ],
            [
             0.2,
             "#de77ae"
            ],
            [
             0.3,
             "#f1b6da"
            ],
            [
             0.4,
             "#fde0ef"
            ],
            [
             0.5,
             "#f7f7f7"
            ],
            [
             0.6,
             "#e6f5d0"
            ],
            [
             0.7,
             "#b8e186"
            ],
            [
             0.8,
             "#7fbc41"
            ],
            [
             0.9,
             "#4d9221"
            ],
            [
             1,
             "#276419"
            ]
           ],
           "sequential": [
            [
             0,
             "#0d0887"
            ],
            [
             0.1111111111111111,
             "#46039f"
            ],
            [
             0.2222222222222222,
             "#7201a8"
            ],
            [
             0.3333333333333333,
             "#9c179e"
            ],
            [
             0.4444444444444444,
             "#bd3786"
            ],
            [
             0.5555555555555556,
             "#d8576b"
            ],
            [
             0.6666666666666666,
             "#ed7953"
            ],
            [
             0.7777777777777778,
             "#fb9f3a"
            ],
            [
             0.8888888888888888,
             "#fdca26"
            ],
            [
             1,
             "#f0f921"
            ]
           ],
           "sequentialminus": [
            [
             0,
             "#0d0887"
            ],
            [
             0.1111111111111111,
             "#46039f"
            ],
            [
             0.2222222222222222,
             "#7201a8"
            ],
            [
             0.3333333333333333,
             "#9c179e"
            ],
            [
             0.4444444444444444,
             "#bd3786"
            ],
            [
             0.5555555555555556,
             "#d8576b"
            ],
            [
             0.6666666666666666,
             "#ed7953"
            ],
            [
             0.7777777777777778,
             "#fb9f3a"
            ],
            [
             0.8888888888888888,
             "#fdca26"
            ],
            [
             1,
             "#f0f921"
            ]
           ]
          },
          "colorway": [
           "#636efa",
           "#EF553B",
           "#00cc96",
           "#ab63fa",
           "#FFA15A",
           "#19d3f3",
           "#FF6692",
           "#B6E880",
           "#FF97FF",
           "#FECB52"
          ],
          "font": {
           "color": "#2a3f5f"
          },
          "geo": {
           "bgcolor": "white",
           "lakecolor": "white",
           "landcolor": "#E5ECF6",
           "showlakes": true,
           "showland": true,
           "subunitcolor": "white"
          },
          "hoverlabel": {
           "align": "left"
          },
          "hovermode": "closest",
          "mapbox": {
           "style": "light"
          },
          "paper_bgcolor": "white",
          "plot_bgcolor": "#E5ECF6",
          "polar": {
           "angularaxis": {
            "gridcolor": "white",
            "linecolor": "white",
            "ticks": ""
           },
           "bgcolor": "#E5ECF6",
           "radialaxis": {
            "gridcolor": "white",
            "linecolor": "white",
            "ticks": ""
           }
          },
          "scene": {
           "xaxis": {
            "backgroundcolor": "#E5ECF6",
            "gridcolor": "white",
            "gridwidth": 2,
            "linecolor": "white",
            "showbackground": true,
            "ticks": "",
            "zerolinecolor": "white"
           },
           "yaxis": {
            "backgroundcolor": "#E5ECF6",
            "gridcolor": "white",
            "gridwidth": 2,
            "linecolor": "white",
            "showbackground": true,
            "ticks": "",
            "zerolinecolor": "white"
           },
           "zaxis": {
            "backgroundcolor": "#E5ECF6",
            "gridcolor": "white",
            "gridwidth": 2,
            "linecolor": "white",
            "showbackground": true,
            "ticks": "",
            "zerolinecolor": "white"
           }
          },
          "shapedefaults": {
           "line": {
            "color": "#2a3f5f"
           }
          },
          "ternary": {
           "aaxis": {
            "gridcolor": "white",
            "linecolor": "white",
            "ticks": ""
           },
           "baxis": {
            "gridcolor": "white",
            "linecolor": "white",
            "ticks": ""
           },
           "bgcolor": "#E5ECF6",
           "caxis": {
            "gridcolor": "white",
            "linecolor": "white",
            "ticks": ""
           }
          },
          "title": {
           "x": 0.05
          },
          "xaxis": {
           "automargin": true,
           "gridcolor": "white",
           "linecolor": "white",
           "ticks": "",
           "title": {
            "standoff": 15
           },
           "zerolinecolor": "white",
           "zerolinewidth": 2
          },
          "yaxis": {
           "automargin": true,
           "gridcolor": "white",
           "linecolor": "white",
           "ticks": "",
           "title": {
            "standoff": 15
           },
           "zerolinecolor": "white",
           "zerolinewidth": 2
          }
         }
        },
        "title": {
         "text": "word for female"
        },
        "xaxis": {
         "anchor": "y",
         "domain": [
          0,
          1
         ],
         "title": {
          "text": "x"
         }
        },
        "yaxis": {
         "anchor": "x",
         "domain": [
          0,
          1
         ],
         "title": {
          "text": "y"
         }
        }
       }
      },
      "text/html": [
       "<div>                            <div id=\"8bf533e0-f7f4-4a57-ba25-497f14a564f2\" class=\"plotly-graph-div\" style=\"height:525px; width:100%;\"></div>            <script type=\"text/javascript\">                require([\"plotly\"], function(Plotly) {                    window.PLOTLYENV=window.PLOTLYENV || {};                                    if (document.getElementById(\"8bf533e0-f7f4-4a57-ba25-497f14a564f2\")) {                    Plotly.newPlot(                        \"8bf533e0-f7f4-4a57-ba25-497f14a564f2\",                        [{\"alignmentgroup\":\"True\",\"hovertemplate\":\"x=%{x}<br>y=%{y}<extra></extra>\",\"legendgroup\":\"\",\"marker\":{\"color\":\"#636efa\",\"pattern\":{\"shape\":\"\"}},\"name\":\"\",\"offsetgroup\":\"\",\"orientation\":\"h\",\"showlegend\":false,\"textposition\":\"auto\",\"x\":[0.14557231336579832,0.14208942051597245,0.14174270720060517,0.14163238932753378,0.08240745118434116,0.08236017209588199,0.08091028004980064,0.06176224922383496,0.06084818684695759,0.06067483018927395],\"xaxis\":\"x\",\"y\":[\"simple\",\"smart\",\"good\",\"dynamic\",\"looking\",\"nurtured\",\"daughter\",\"sister\",\"currently\",\"personality\"],\"yaxis\":\"y\",\"type\":\"bar\"}],                        {\"template\":{\"data\":{\"bar\":[{\"error_x\":{\"color\":\"#2a3f5f\"},\"error_y\":{\"color\":\"#2a3f5f\"},\"marker\":{\"line\":{\"color\":\"#E5ECF6\",\"width\":0.5},\"pattern\":{\"fillmode\":\"overlay\",\"size\":10,\"solidity\":0.2}},\"type\":\"bar\"}],\"barpolar\":[{\"marker\":{\"line\":{\"color\":\"#E5ECF6\",\"width\":0.5},\"pattern\":{\"fillmode\":\"overlay\",\"size\":10,\"solidity\":0.2}},\"type\":\"barpolar\"}],\"carpet\":[{\"aaxis\":{\"endlinecolor\":\"#2a3f5f\",\"gridcolor\":\"white\",\"linecolor\":\"white\",\"minorgridcolor\":\"white\",\"startlinecolor\":\"#2a3f5f\"},\"baxis\":{\"endlinecolor\":\"#2a3f5f\",\"gridcolor\":\"white\",\"linecolor\":\"white\",\"minorgridcolor\":\"white\",\"startlinecolor\":\"#2a3f5f\"},\"type\":\"carpet\"}],\"choropleth\":[{\"colorbar\":{\"outlinewidth\":0,\"ticks\":\"\"},\"type\":\"choropleth\"}],\"contour\":[{\"colorbar\":{\"outlinewidth\":0,\"ticks\":\"\"},\"colorscale\":[[0.0,\"#0d0887\"],[0.1111111111111111,\"#46039f\"],[0.2222222222222222,\"#7201a8\"],[0.3333333333333333,\"#9c179e\"],[0.4444444444444444,\"#bd3786\"],[0.5555555555555556,\"#d8576b\"],[0.6666666666666666,\"#ed7953\"],[0.7777777777777778,\"#fb9f3a\"],[0.8888888888888888,\"#fdca26\"],[1.0,\"#f0f921\"]],\"type\":\"contour\"}],\"contourcarpet\":[{\"colorbar\":{\"outlinewidth\":0,\"ticks\":\"\"},\"type\":\"contourcarpet\"}],\"heatmap\":[{\"colorbar\":{\"outlinewidth\":0,\"ticks\":\"\"},\"colorscale\":[[0.0,\"#0d0887\"],[0.1111111111111111,\"#46039f\"],[0.2222222222222222,\"#7201a8\"],[0.3333333333333333,\"#9c179e\"],[0.4444444444444444,\"#bd3786\"],[0.5555555555555556,\"#d8576b\"],[0.6666666666666666,\"#ed7953\"],[0.7777777777777778,\"#fb9f3a\"],[0.8888888888888888,\"#fdca26\"],[1.0,\"#f0f921\"]],\"type\":\"heatmap\"}],\"heatmapgl\":[{\"colorbar\":{\"outlinewidth\":0,\"ticks\":\"\"},\"colorscale\":[[0.0,\"#0d0887\"],[0.1111111111111111,\"#46039f\"],[0.2222222222222222,\"#7201a8\"],[0.3333333333333333,\"#9c179e\"],[0.4444444444444444,\"#bd3786\"],[0.5555555555555556,\"#d8576b\"],[0.6666666666666666,\"#ed7953\"],[0.7777777777777778,\"#fb9f3a\"],[0.8888888888888888,\"#fdca26\"],[1.0,\"#f0f921\"]],\"type\":\"heatmapgl\"}],\"histogram\":[{\"marker\":{\"pattern\":{\"fillmode\":\"overlay\",\"size\":10,\"solidity\":0.2}},\"type\":\"histogram\"}],\"histogram2d\":[{\"colorbar\":{\"outlinewidth\":0,\"ticks\":\"\"},\"colorscale\":[[0.0,\"#0d0887\"],[0.1111111111111111,\"#46039f\"],[0.2222222222222222,\"#7201a8\"],[0.3333333333333333,\"#9c179e\"],[0.4444444444444444,\"#bd3786\"],[0.5555555555555556,\"#d8576b\"],[0.6666666666666666,\"#ed7953\"],[0.7777777777777778,\"#fb9f3a\"],[0.8888888888888888,\"#fdca26\"],[1.0,\"#f0f921\"]],\"type\":\"histogram2d\"}],\"histogram2dcontour\":[{\"colorbar\":{\"outlinewidth\":0,\"ticks\":\"\"},\"colorscale\":[[0.0,\"#0d0887\"],[0.1111111111111111,\"#46039f\"],[0.2222222222222222,\"#7201a8\"],[0.3333333333333333,\"#9c179e\"],[0.4444444444444444,\"#bd3786\"],[0.5555555555555556,\"#d8576b\"],[0.6666666666666666,\"#ed7953\"],[0.7777777777777778,\"#fb9f3a\"],[0.8888888888888888,\"#fdca26\"],[1.0,\"#f0f921\"]],\"type\":\"histogram2dcontour\"}],\"mesh3d\":[{\"colorbar\":{\"outlinewidth\":0,\"ticks\":\"\"},\"type\":\"mesh3d\"}],\"parcoords\":[{\"line\":{\"colorbar\":{\"outlinewidth\":0,\"ticks\":\"\"}},\"type\":\"parcoords\"}],\"pie\":[{\"automargin\":true,\"type\":\"pie\"}],\"scatter\":[{\"marker\":{\"colorbar\":{\"outlinewidth\":0,\"ticks\":\"\"}},\"type\":\"scatter\"}],\"scatter3d\":[{\"line\":{\"colorbar\":{\"outlinewidth\":0,\"ticks\":\"\"}},\"marker\":{\"colorbar\":{\"outlinewidth\":0,\"ticks\":\"\"}},\"type\":\"scatter3d\"}],\"scattercarpet\":[{\"marker\":{\"colorbar\":{\"outlinewidth\":0,\"ticks\":\"\"}},\"type\":\"scattercarpet\"}],\"scattergeo\":[{\"marker\":{\"colorbar\":{\"outlinewidth\":0,\"ticks\":\"\"}},\"type\":\"scattergeo\"}],\"scattergl\":[{\"marker\":{\"colorbar\":{\"outlinewidth\":0,\"ticks\":\"\"}},\"type\":\"scattergl\"}],\"scattermapbox\":[{\"marker\":{\"colorbar\":{\"outlinewidth\":0,\"ticks\":\"\"}},\"type\":\"scattermapbox\"}],\"scatterpolar\":[{\"marker\":{\"colorbar\":{\"outlinewidth\":0,\"ticks\":\"\"}},\"type\":\"scatterpolar\"}],\"scatterpolargl\":[{\"marker\":{\"colorbar\":{\"outlinewidth\":0,\"ticks\":\"\"}},\"type\":\"scatterpolargl\"}],\"scatterternary\":[{\"marker\":{\"colorbar\":{\"outlinewidth\":0,\"ticks\":\"\"}},\"type\":\"scatterternary\"}],\"surface\":[{\"colorbar\":{\"outlinewidth\":0,\"ticks\":\"\"},\"colorscale\":[[0.0,\"#0d0887\"],[0.1111111111111111,\"#46039f\"],[0.2222222222222222,\"#7201a8\"],[0.3333333333333333,\"#9c179e\"],[0.4444444444444444,\"#bd3786\"],[0.5555555555555556,\"#d8576b\"],[0.6666666666666666,\"#ed7953\"],[0.7777777777777778,\"#fb9f3a\"],[0.8888888888888888,\"#fdca26\"],[1.0,\"#f0f921\"]],\"type\":\"surface\"}],\"table\":[{\"cells\":{\"fill\":{\"color\":\"#EBF0F8\"},\"line\":{\"color\":\"white\"}},\"header\":{\"fill\":{\"color\":\"#C8D4E3\"},\"line\":{\"color\":\"white\"}},\"type\":\"table\"}]},\"layout\":{\"annotationdefaults\":{\"arrowcolor\":\"#2a3f5f\",\"arrowhead\":0,\"arrowwidth\":1},\"autotypenumbers\":\"strict\",\"coloraxis\":{\"colorbar\":{\"outlinewidth\":0,\"ticks\":\"\"}},\"colorscale\":{\"diverging\":[[0,\"#8e0152\"],[0.1,\"#c51b7d\"],[0.2,\"#de77ae\"],[0.3,\"#f1b6da\"],[0.4,\"#fde0ef\"],[0.5,\"#f7f7f7\"],[0.6,\"#e6f5d0\"],[0.7,\"#b8e186\"],[0.8,\"#7fbc41\"],[0.9,\"#4d9221\"],[1,\"#276419\"]],\"sequential\":[[0.0,\"#0d0887\"],[0.1111111111111111,\"#46039f\"],[0.2222222222222222,\"#7201a8\"],[0.3333333333333333,\"#9c179e\"],[0.4444444444444444,\"#bd3786\"],[0.5555555555555556,\"#d8576b\"],[0.6666666666666666,\"#ed7953\"],[0.7777777777777778,\"#fb9f3a\"],[0.8888888888888888,\"#fdca26\"],[1.0,\"#f0f921\"]],\"sequentialminus\":[[0.0,\"#0d0887\"],[0.1111111111111111,\"#46039f\"],[0.2222222222222222,\"#7201a8\"],[0.3333333333333333,\"#9c179e\"],[0.4444444444444444,\"#bd3786\"],[0.5555555555555556,\"#d8576b\"],[0.6666666666666666,\"#ed7953\"],[0.7777777777777778,\"#fb9f3a\"],[0.8888888888888888,\"#fdca26\"],[1.0,\"#f0f921\"]]},\"colorway\":[\"#636efa\",\"#EF553B\",\"#00cc96\",\"#ab63fa\",\"#FFA15A\",\"#19d3f3\",\"#FF6692\",\"#B6E880\",\"#FF97FF\",\"#FECB52\"],\"font\":{\"color\":\"#2a3f5f\"},\"geo\":{\"bgcolor\":\"white\",\"lakecolor\":\"white\",\"landcolor\":\"#E5ECF6\",\"showlakes\":true,\"showland\":true,\"subunitcolor\":\"white\"},\"hoverlabel\":{\"align\":\"left\"},\"hovermode\":\"closest\",\"mapbox\":{\"style\":\"light\"},\"paper_bgcolor\":\"white\",\"plot_bgcolor\":\"#E5ECF6\",\"polar\":{\"angularaxis\":{\"gridcolor\":\"white\",\"linecolor\":\"white\",\"ticks\":\"\"},\"bgcolor\":\"#E5ECF6\",\"radialaxis\":{\"gridcolor\":\"white\",\"linecolor\":\"white\",\"ticks\":\"\"}},\"scene\":{\"xaxis\":{\"backgroundcolor\":\"#E5ECF6\",\"gridcolor\":\"white\",\"gridwidth\":2,\"linecolor\":\"white\",\"showbackground\":true,\"ticks\":\"\",\"zerolinecolor\":\"white\"},\"yaxis\":{\"backgroundcolor\":\"#E5ECF6\",\"gridcolor\":\"white\",\"gridwidth\":2,\"linecolor\":\"white\",\"showbackground\":true,\"ticks\":\"\",\"zerolinecolor\":\"white\"},\"zaxis\":{\"backgroundcolor\":\"#E5ECF6\",\"gridcolor\":\"white\",\"gridwidth\":2,\"linecolor\":\"white\",\"showbackground\":true,\"ticks\":\"\",\"zerolinecolor\":\"white\"}},\"shapedefaults\":{\"line\":{\"color\":\"#2a3f5f\"}},\"ternary\":{\"aaxis\":{\"gridcolor\":\"white\",\"linecolor\":\"white\",\"ticks\":\"\"},\"baxis\":{\"gridcolor\":\"white\",\"linecolor\":\"white\",\"ticks\":\"\"},\"bgcolor\":\"#E5ECF6\",\"caxis\":{\"gridcolor\":\"white\",\"linecolor\":\"white\",\"ticks\":\"\"}},\"title\":{\"x\":0.05},\"xaxis\":{\"automargin\":true,\"gridcolor\":\"white\",\"linecolor\":\"white\",\"ticks\":\"\",\"title\":{\"standoff\":15},\"zerolinecolor\":\"white\",\"zerolinewidth\":2},\"yaxis\":{\"automargin\":true,\"gridcolor\":\"white\",\"linecolor\":\"white\",\"ticks\":\"\",\"title\":{\"standoff\":15},\"zerolinecolor\":\"white\",\"zerolinewidth\":2}}},\"xaxis\":{\"anchor\":\"y\",\"domain\":[0.0,1.0],\"title\":{\"text\":\"x\"}},\"yaxis\":{\"anchor\":\"x\",\"domain\":[0.0,1.0],\"title\":{\"text\":\"y\"}},\"legend\":{\"tracegroupgap\":0},\"margin\":{\"t\":60},\"barmode\":\"relative\",\"title\":{\"text\":\"word for female\"}},                        {\"responsive\": true}                    ).then(function(){\n",
       "                            \n",
       "var gd = document.getElementById('8bf533e0-f7f4-4a57-ba25-497f14a564f2');\n",
       "var x = new MutationObserver(function (mutations, observer) {{\n",
       "        var display = window.getComputedStyle(gd).display;\n",
       "        if (!display || display === 'none') {{\n",
       "            console.log([gd, 'removed!']);\n",
       "            Plotly.purge(gd);\n",
       "            observer.disconnect();\n",
       "        }}\n",
       "}});\n",
       "\n",
       "// Listen for the removal of the full notebook cells\n",
       "var notebookContainer = gd.closest('#notebook-container');\n",
       "if (notebookContainer) {{\n",
       "    x.observe(notebookContainer, {childList: true});\n",
       "}}\n",
       "\n",
       "// Listen for the clearing of the current output cell\n",
       "var outputEl = gd.closest('.output');\n",
       "if (outputEl) {{\n",
       "    x.observe(outputEl, {childList: true});\n",
       "}}\n",
       "\n",
       "                        })                };                });            </script>        </div>"
      ]
     },
     "metadata": {},
     "output_type": "display_data"
    }
   ],
   "source": [
    "fig = px.bar(\n",
    "    x=d['freq_rel'],\n",
    "    y=d.word,\n",
    "    orientation='h')\n",
    "fig.update_layout(title=\"word for female\")\n",
    "fig.show()"
   ]
  },
  {
   "cell_type": "markdown",
   "id": "1e55e181",
   "metadata": {},
   "source": [
    "# MALE MATRIMONIALE CHARACTERISTIC"
   ]
  },
  {
   "cell_type": "code",
   "execution_count": 274,
   "id": "3467bf4b",
   "metadata": {},
   "outputs": [
    {
     "data": {
      "text/html": [
       "<div>\n",
       "<style scoped>\n",
       "    .dataframe tbody tr th:only-of-type {\n",
       "        vertical-align: middle;\n",
       "    }\n",
       "\n",
       "    .dataframe tbody tr th {\n",
       "        vertical-align: top;\n",
       "    }\n",
       "\n",
       "    .dataframe thead th {\n",
       "        text-align: right;\n",
       "    }\n",
       "</style>\n",
       "<table border=\"1\" class=\"dataframe\">\n",
       "  <thead>\n",
       "    <tr style=\"text-align: right;\">\n",
       "      <th></th>\n",
       "      <th>Age_Height</th>\n",
       "      <th>Religion_Caste</th>\n",
       "      <th>Mother_Tongue</th>\n",
       "      <th>Profession</th>\n",
       "      <th>Location</th>\n",
       "      <th>message</th>\n",
       "    </tr>\n",
       "  </thead>\n",
       "  <tbody>\n",
       "    <tr>\n",
       "      <th>0</th>\n",
       "      <td>24, 5' 06\" (167 cm)</td>\n",
       "      <td>Hindu, Khatri</td>\n",
       "      <td>Himachali</td>\n",
       "      <td>Not Specified</td>\n",
       "      <td>, Patiala, Punjab, India</td>\n",
       "      <td>I am currently living in india. I am a smart a...</td>\n",
       "    </tr>\n",
       "    <tr>\n",
       "      <th>1</th>\n",
       "      <td>25, 5' 08\" (172 cm)</td>\n",
       "      <td>Hindu, Lingayath</td>\n",
       "      <td>Marathi</td>\n",
       "      <td>Not Specified</td>\n",
       "      <td>, Prakasam, Andhra Pradesh, India</td>\n",
       "      <td>I am currently living in india. I am a smart a...</td>\n",
       "    </tr>\n",
       "    <tr>\n",
       "      <th>2</th>\n",
       "      <td>25, 5' 09\" (175 cm)</td>\n",
       "      <td>Muslim, Jat</td>\n",
       "      <td>Punjabi</td>\n",
       "      <td>Non-Working</td>\n",
       "      <td>, Not Specified, Australia</td>\n",
       "      <td>I am currently living in australia. I am a sma...</td>\n",
       "    </tr>\n",
       "    <tr>\n",
       "      <th>3</th>\n",
       "      <td>35, 6' 00\" (182 cm)</td>\n",
       "      <td>Hindu, Other</td>\n",
       "      <td>Hindi</td>\n",
       "      <td>Not Specified</td>\n",
       "      <td>, UK</td>\n",
       "      <td>This profile is of my Son, who is simple and g...</td>\n",
       "    </tr>\n",
       "    <tr>\n",
       "      <th>4</th>\n",
       "      <td>23, 4' 10\" (147 cm)</td>\n",
       "      <td>Muslim, Other Muslim</td>\n",
       "      <td>Bengali</td>\n",
       "      <td>Not Specified</td>\n",
       "      <td>, Mauritius</td>\n",
       "      <td>This profile is of my Friend, who is simple an...</td>\n",
       "    </tr>\n",
       "    <tr>\n",
       "      <th>...</th>\n",
       "      <td>...</td>\n",
       "      <td>...</td>\n",
       "      <td>...</td>\n",
       "      <td>...</td>\n",
       "      <td>...</td>\n",
       "      <td>...</td>\n",
       "    </tr>\n",
       "    <tr>\n",
       "      <th>20951</th>\n",
       "      <td>22, 5' 06\" (167 cm)</td>\n",
       "      <td>Hindu, Other</td>\n",
       "      <td>Hindi</td>\n",
       "      <td>Not Specified</td>\n",
       "      <td>, Kanpur, Uttar Pradesh, India</td>\n",
       "      <td>I am a simple boy with a good personality. I r...</td>\n",
       "    </tr>\n",
       "    <tr>\n",
       "      <th>20952</th>\n",
       "      <td>28, 5' 05\" (165 cm)</td>\n",
       "      <td>Hindu, Agarwal</td>\n",
       "      <td>Hindi</td>\n",
       "      <td>Not Specified</td>\n",
       "      <td>, Gurgaon, Haryana, India</td>\n",
       "      <td>My Son is a smart and dynamic boy brought up w...</td>\n",
       "    </tr>\n",
       "    <tr>\n",
       "      <th>20953</th>\n",
       "      <td>29, 5' 10\" (177 cm)</td>\n",
       "      <td>Sikh, Labana</td>\n",
       "      <td>Punjabi</td>\n",
       "      <td>HR, Admin &amp; Managers</td>\n",
       "      <td>, New Zealand</td>\n",
       "      <td>I am a simple boy with a good personality. I r...</td>\n",
       "    </tr>\n",
       "    <tr>\n",
       "      <th>20954</th>\n",
       "      <td>35, 5' 04\" (162 cm)</td>\n",
       "      <td>Hindu, Gurav</td>\n",
       "      <td>Marathi</td>\n",
       "      <td>Not Specified</td>\n",
       "      <td>, Mumbai, Maharashtra, India</td>\n",
       "      <td>I am currently living in india. I am a smart a...</td>\n",
       "    </tr>\n",
       "    <tr>\n",
       "      <th>20955</th>\n",
       "      <td>23, 5' 06\" (167 cm)</td>\n",
       "      <td>Christian, Other</td>\n",
       "      <td>English</td>\n",
       "      <td>Not Specified</td>\n",
       "      <td>, Sri Lanka</td>\n",
       "      <td>I am a simple boy with a good personality. I r...</td>\n",
       "    </tr>\n",
       "  </tbody>\n",
       "</table>\n",
       "<p>20956 rows × 6 columns</p>\n",
       "</div>"
      ],
      "text/plain": [
       "                Age_Height        Religion_Caste Mother_Tongue  \\\n",
       "0      24, 5' 06\" (167 cm)         Hindu, Khatri     Himachali   \n",
       "1      25, 5' 08\" (172 cm)      Hindu, Lingayath       Marathi   \n",
       "2      25, 5' 09\" (175 cm)           Muslim, Jat       Punjabi   \n",
       "3      35, 6' 00\" (182 cm)          Hindu, Other         Hindi   \n",
       "4      23, 4' 10\" (147 cm)  Muslim, Other Muslim       Bengali   \n",
       "...                    ...                   ...           ...   \n",
       "20951  22, 5' 06\" (167 cm)          Hindu, Other         Hindi   \n",
       "20952  28, 5' 05\" (165 cm)        Hindu, Agarwal         Hindi   \n",
       "20953  29, 5' 10\" (177 cm)          Sikh, Labana       Punjabi   \n",
       "20954  35, 5' 04\" (162 cm)          Hindu, Gurav       Marathi   \n",
       "20955  23, 5' 06\" (167 cm)      Christian, Other       English   \n",
       "\n",
       "                 Profession                           Location  \\\n",
       "0             Not Specified           , Patiala, Punjab, India   \n",
       "1             Not Specified  , Prakasam, Andhra Pradesh, India   \n",
       "2               Non-Working         , Not Specified, Australia   \n",
       "3             Not Specified                               , UK   \n",
       "4             Not Specified                        , Mauritius   \n",
       "...                     ...                                ...   \n",
       "20951         Not Specified     , Kanpur, Uttar Pradesh, India   \n",
       "20952         Not Specified          , Gurgaon, Haryana, India   \n",
       "20953  HR, Admin & Managers                      , New Zealand   \n",
       "20954         Not Specified       , Mumbai, Maharashtra, India   \n",
       "20955         Not Specified                        , Sri Lanka   \n",
       "\n",
       "                                                 message  \n",
       "0      I am currently living in india. I am a smart a...  \n",
       "1      I am currently living in india. I am a smart a...  \n",
       "2      I am currently living in australia. I am a sma...  \n",
       "3      This profile is of my Son, who is simple and g...  \n",
       "4      This profile is of my Friend, who is simple an...  \n",
       "...                                                  ...  \n",
       "20951  I am a simple boy with a good personality. I r...  \n",
       "20952  My Son is a smart and dynamic boy brought up w...  \n",
       "20953  I am a simple boy with a good personality. I r...  \n",
       "20954  I am currently living in india. I am a smart a...  \n",
       "20955  I am a simple boy with a good personality. I r...  \n",
       "\n",
       "[20956 rows x 6 columns]"
      ]
     },
     "execution_count": 274,
     "metadata": {},
     "output_type": "execute_result"
    }
   ],
   "source": [
    "data2 = pd.read_csv(r\"C:\\Users\\sandr\\OneDrive\\Documents\\A DATA\\indiamatrimonymale.csv\")\n",
    "data2"
   ]
  },
  {
   "cell_type": "code",
   "execution_count": 273,
   "id": "f0caa0d0",
   "metadata": {},
   "outputs": [
    {
     "data": {
      "text/plain": [
       "Not Specified                        12536\n",
       "Others                                1928\n",
       "Business / Consultant                 1162\n",
       "Profession                             997\n",
       "Engineer                               841\n",
       "Computer Professional                  457\n",
       "Sales & Marketing                      362\n",
       "Government / Defence                   324\n",
       "Banking & Finance                      260\n",
       "Corporate                              239\n",
       "HR, Admin & Managers                   238\n",
       "Hotels & Travel                        226\n",
       "Medical & Healthcare                   194\n",
       "CA, CS & Accountant                    172\n",
       "Non-Working                            170\n",
       "Teacher / Lecturer / Professor         147\n",
       "Doctor                                 135\n",
       "Student & Sports                       101\n",
       "Architect / Interior Designer           84\n",
       "BPO & Call Centre                       73\n",
       "Front Office & Executive                67\n",
       "Lawyer & Advocate                       60\n",
       "Scientist & Research                    44\n",
       "Artist, Media & Journalist              35\n",
       "Telecom                                 32\n",
       "Shipping & Airline                      29\n",
       "Politics, Social, Public Relation       21\n",
       "Civil & Allied Services                 19\n",
       "Volunteer & Retired Person               3\n",
       "Name: Profession, dtype: int64"
      ]
     },
     "execution_count": 273,
     "metadata": {},
     "output_type": "execute_result"
    }
   ],
   "source": [
    "data2.Profession.value_counts()"
   ]
  },
  {
   "cell_type": "code",
   "execution_count": 70,
   "id": "64b0b605",
   "metadata": {},
   "outputs": [
    {
     "data": {
      "text/plain": [
       "2     I am currently living in australia. I am a sma...\n",
       "3     This profile is of my Son, who is simple and g...\n",
       "4     This profile is of my Friend, who is simple an...\n",
       "5     I am a simple girl with a good personality. I ...\n",
       "6     I am currently living in usa. I am a smart and...\n",
       "7     I am currently living in malaysia. I am a smar...\n",
       "8     I am a simple boy with a good personality. I r...\n",
       "9     I am a simple boy with a good personality. I r...\n",
       "10    You see my dear,My son is God fearing nice, ca...\n",
       "11    My Friend is a smart and dynamic boy brought u...\n",
       "12    I am a simple boy with a good personality. I r...\n",
       "13    I am currently living in india. I am a smart a...\n",
       "14    I am currently living in usa. I am a smart and...\n",
       "15    I am currently living in india. I am a smart a...\n",
       "16    This profile is of my Relative, who is simple ...\n",
       "17    My Brother is a Smart and Dynamic Boy Brought ...\n",
       "18    I am currently living in turkey. I am a smart ...\n",
       "19    My Brother is a smart and dynamic boy brought ...\n",
       "Name: message, dtype: object"
      ]
     },
     "execution_count": 70,
     "metadata": {},
     "output_type": "execute_result"
    }
   ],
   "source": [
    "\n",
    "data2.message[2:20]"
   ]
  },
  {
   "cell_type": "code",
   "execution_count": 73,
   "id": "4fa0c903",
   "metadata": {},
   "outputs": [
    {
     "name": "stderr",
     "output_type": "stream",
     "text": [
      "[nltk_data] Downloading package punkt to\n",
      "[nltk_data]     C:\\Users\\sandr\\AppData\\Roaming\\nltk_data...\n",
      "[nltk_data]   Package punkt is already up-to-date!\n"
     ]
    },
    {
     "name": "stdout",
     "output_type": "stream",
     "text": [
      "['currently', 'living', 'india', 'smart', 'dynamic', 'boy', 'respects', 'h', 'read', 'currently', 'living', 'india', 'smart', 'dynamic', 'boy', 'respects', 'h', 'read', 'currently', 'living', 'australia', 'smart', 'dynamic', 'boy', 'respec', 'read', 'profile', 'son', 'simple', 'good', 'looking', 'mother', 'tongu', 'read', 'profile', 'friend', 'simple', 'good', 'looking', 'mother', 'read', 'simple', 'girl', 'good', 'personality', 'reside', 'beautiful', 'city', 'read', 'currently', 'living', 'usa', 'smart', 'dynamic', 'boy', 'respects', 'read', 'currently', 'living', 'malaysia', 'smart', 'dynamic', 'boy', 'respect', 'read', 'simple', 'boy', 'good', 'personality', 'reside', 'beautiful', 'city', 'read', 'simple', 'boy', 'good', 'personality', 'reside', 'beautiful', 'city', 'read', 'see', 'dear', 'son', 'god', 'fearing', 'nice', 'caring', 'honest', 'sincere', 'un', 'read', 'friend', 'smart', 'dynamic', 'boy', 'brought', 'well', 'nurtured', 'values']\n"
     ]
    },
    {
     "name": "stderr",
     "output_type": "stream",
     "text": [
      "[nltk_data] Downloading package stopwords to\n",
      "[nltk_data]     C:\\Users\\sandr\\AppData\\Roaming\\nltk_data...\n",
      "[nltk_data]   Package stopwords is already up-to-date!\n"
     ]
    }
   ],
   "source": [
    "# join all quote, in one text  \n",
    "all_words_male = ' '.join(data2.message)\n",
    "\n",
    "# split into words\n",
    "import nltk\n",
    "nltk.download('punkt')\n",
    "from nltk.tokenize import word_tokenize\n",
    "tokens2 = word_tokenize(all_words_male)\n",
    "\n",
    "# convert to lower case\n",
    "tokens2 = [w.lower() for w in tokens2]\n",
    "\n",
    "# remove punctuation from each word\n",
    "import string\n",
    "table = str.maketrans('', '', string.punctuation)\n",
    "stripped2 = [w.translate(table) for w in tokens2]\n",
    "\n",
    "# remove remaining tokens that are not alphabetic\n",
    "words2 = [word for word in stripped2 if word.isalpha()]\n",
    "\n",
    "# filter out stop words\n",
    "import nltk\n",
    "nltk.download('stopwords')\n",
    "from nltk.corpus import stopwords\n",
    "stop_words = set(stopwords.words('english'))\n",
    "words = [w for w in words2 if not w in stop_words]\n",
    "print(words[:100])"
   ]
  },
  {
   "cell_type": "code",
   "execution_count": 74,
   "id": "79f168c8",
   "metadata": {},
   "outputs": [
    {
     "data": {
      "image/png": "[encoded data removed]",
      "text/plain": [
       "<Figure size 432x288 with 1 Axes>"
      ]
     },
     "metadata": {
      "needs_background": "light"
     },
     "output_type": "display_data"
    }
   ],
   "source": [
    "from wordcloud import WordCloud\n",
    "\n",
    "stopword=['h', 'see', 'dear', 'most', 'un','profile', 'living', 'reside', 'boy', 'read']\n",
    "wordcloud = WordCloud(stopwords=stopword, collocations=True, \n",
    "                        width = 800, height = 800,\n",
    "                        background_color='white').generate(' '.join(words))\n",
    "plt.imshow(wordcloud)\n",
    "plt.axis(\"off\")\n",
    "plt.show()"
   ]
  },
  {
   "cell_type": "code",
   "execution_count": 75,
   "id": "55c76b37",
   "metadata": {},
   "outputs": [
    {
     "data": {
      "text/html": [
       "<div>\n",
       "<style scoped>\n",
       "    .dataframe tbody tr th:only-of-type {\n",
       "        vertical-align: middle;\n",
       "    }\n",
       "\n",
       "    .dataframe tbody tr th {\n",
       "        vertical-align: top;\n",
       "    }\n",
       "\n",
       "    .dataframe thead th {\n",
       "        text-align: right;\n",
       "    }\n",
       "</style>\n",
       "<table border=\"1\" class=\"dataframe\">\n",
       "  <thead>\n",
       "    <tr style=\"text-align: right;\">\n",
       "      <th></th>\n",
       "      <th>word</th>\n",
       "      <th>count</th>\n",
       "    </tr>\n",
       "  </thead>\n",
       "  <tbody>\n",
       "    <tr>\n",
       "      <th>8</th>\n",
       "      <td>simple</td>\n",
       "      <td>9420</td>\n",
       "    </tr>\n",
       "    <tr>\n",
       "      <th>9</th>\n",
       "      <td>good</td>\n",
       "      <td>9240</td>\n",
       "    </tr>\n",
       "    <tr>\n",
       "      <th>2</th>\n",
       "      <td>smart</td>\n",
       "      <td>9003</td>\n",
       "    </tr>\n",
       "    <tr>\n",
       "      <th>3</th>\n",
       "      <td>dynamic</td>\n",
       "      <td>8983</td>\n",
       "    </tr>\n",
       "    <tr>\n",
       "      <th>0</th>\n",
       "      <td>currently</td>\n",
       "      <td>7203</td>\n",
       "    </tr>\n",
       "    <tr>\n",
       "      <th>...</th>\n",
       "      <td>...</td>\n",
       "      <td>...</td>\n",
       "    </tr>\n",
       "    <tr>\n",
       "      <th>1700</th>\n",
       "      <td>everybody</td>\n",
       "      <td>1</td>\n",
       "    </tr>\n",
       "    <tr>\n",
       "      <th>1699</th>\n",
       "      <td>asslamwalekum</td>\n",
       "      <td>1</td>\n",
       "    </tr>\n",
       "    <tr>\n",
       "      <th>1697</th>\n",
       "      <td>box</td>\n",
       "      <td>1</td>\n",
       "    </tr>\n",
       "    <tr>\n",
       "      <th>1696</th>\n",
       "      <td>expressed</td>\n",
       "      <td>1</td>\n",
       "    </tr>\n",
       "    <tr>\n",
       "      <th>3348</th>\n",
       "      <td>ksbcdc</td>\n",
       "      <td>1</td>\n",
       "    </tr>\n",
       "  </tbody>\n",
       "</table>\n",
       "<p>3349 rows × 2 columns</p>\n",
       "</div>"
      ],
      "text/plain": [
       "               word  count\n",
       "8            simple   9420\n",
       "9              good   9240\n",
       "2             smart   9003\n",
       "3           dynamic   8983\n",
       "0         currently   7203\n",
       "...             ...    ...\n",
       "1700      everybody      1\n",
       "1699  asslamwalekum      1\n",
       "1697            box      1\n",
       "1696      expressed      1\n",
       "3348         ksbcdc      1\n",
       "\n",
       "[3349 rows x 2 columns]"
      ]
     },
     "execution_count": 75,
     "metadata": {},
     "output_type": "execute_result"
    }
   ],
   "source": [
    "words\n",
    "stopword=['h', 'see', 'dear', 'most', 'un','profile', 'living', 'reside', 'boy', 'read']\n",
    "for word in list(words):  # iterating on a copy since removing will mess things up\n",
    "    if word in stopword:\n",
    "        words.remove(word)\n",
    "\n",
    "from nltk import FreqDist\n",
    "fdist = FreqDist(words)\n",
    "\n",
    "words_df = pd.DataFrame({'word':list(fdist.keys()), 'count':list(fdist.values())})\n",
    "words_df= words_df.sort_values(by='count', ascending=False)\n",
    "words_df"
   ]
  },
  {
   "cell_type": "code",
   "execution_count": 76,
   "id": "dba2ece6",
   "metadata": {},
   "outputs": [
    {
     "data": {
      "text/html": [
       "<div>\n",
       "<style scoped>\n",
       "    .dataframe tbody tr th:only-of-type {\n",
       "        vertical-align: middle;\n",
       "    }\n",
       "\n",
       "    .dataframe tbody tr th {\n",
       "        vertical-align: top;\n",
       "    }\n",
       "\n",
       "    .dataframe thead th {\n",
       "        text-align: right;\n",
       "    }\n",
       "</style>\n",
       "<table border=\"1\" class=\"dataframe\">\n",
       "  <thead>\n",
       "    <tr style=\"text-align: right;\">\n",
       "      <th></th>\n",
       "      <th>word</th>\n",
       "      <th>count</th>\n",
       "      <th>freq_rel</th>\n",
       "    </tr>\n",
       "  </thead>\n",
       "  <tbody>\n",
       "    <tr>\n",
       "      <th>8</th>\n",
       "      <td>simple</td>\n",
       "      <td>9420</td>\n",
       "      <td>0.125441</td>\n",
       "    </tr>\n",
       "    <tr>\n",
       "      <th>9</th>\n",
       "      <td>good</td>\n",
       "      <td>9240</td>\n",
       "      <td>0.123044</td>\n",
       "    </tr>\n",
       "    <tr>\n",
       "      <th>2</th>\n",
       "      <td>smart</td>\n",
       "      <td>9003</td>\n",
       "      <td>0.119888</td>\n",
       "    </tr>\n",
       "    <tr>\n",
       "      <th>3</th>\n",
       "      <td>dynamic</td>\n",
       "      <td>8983</td>\n",
       "      <td>0.119622</td>\n",
       "    </tr>\n",
       "    <tr>\n",
       "      <th>0</th>\n",
       "      <td>currently</td>\n",
       "      <td>7203</td>\n",
       "      <td>0.095919</td>\n",
       "    </tr>\n",
       "    <tr>\n",
       "      <th>15</th>\n",
       "      <td>personality</td>\n",
       "      <td>7052</td>\n",
       "      <td>0.093908</td>\n",
       "    </tr>\n",
       "    <tr>\n",
       "      <th>16</th>\n",
       "      <td>beautiful</td>\n",
       "      <td>7011</td>\n",
       "      <td>0.093362</td>\n",
       "    </tr>\n",
       "    <tr>\n",
       "      <th>17</th>\n",
       "      <td>city</td>\n",
       "      <td>7004</td>\n",
       "      <td>0.093269</td>\n",
       "    </tr>\n",
       "    <tr>\n",
       "      <th>4</th>\n",
       "      <td>respects</td>\n",
       "      <td>5535</td>\n",
       "      <td>0.073707</td>\n",
       "    </tr>\n",
       "    <tr>\n",
       "      <th>1</th>\n",
       "      <td>india</td>\n",
       "      <td>4644</td>\n",
       "      <td>0.061842</td>\n",
       "    </tr>\n",
       "  </tbody>\n",
       "</table>\n",
       "</div>"
      ],
      "text/plain": [
       "           word  count  freq_rel\n",
       "8        simple   9420  0.125441\n",
       "9          good   9240  0.123044\n",
       "2         smart   9003  0.119888\n",
       "3       dynamic   8983  0.119622\n",
       "0     currently   7203  0.095919\n",
       "15  personality   7052  0.093908\n",
       "16    beautiful   7011  0.093362\n",
       "17         city   7004  0.093269\n",
       "4      respects   5535  0.073707\n",
       "1         india   4644  0.061842"
      ]
     },
     "execution_count": 76,
     "metadata": {},
     "output_type": "execute_result"
    }
   ],
   "source": [
    "d = words_df.nlargest(columns=\"count\", n=10)\n",
    "d = d.sort_values(by='count', ascending=False)\n",
    "d['freq_rel'] = d['count']/(sum(d['count']))\n",
    "d\n"
   ]
  },
  {
   "cell_type": "code",
   "execution_count": 77,
   "id": "83f53d10",
   "metadata": {},
   "outputs": [
    {
     "data": {
      "application/vnd.plotly.v1+json": {
       "config": {
        "plotlyServerURL": "https://plot.ly"
       },
       "data": [
        {
         "alignmentgroup": "True",
         "hovertemplate": "x=%{x}<br>y=%{y}<extra></extra>",
         "legendgroup": "",
         "marker": {
          "color": "#636efa",
          "pattern": {
           "shape": ""
          }
         },
         "name": "",
         "offsetgroup": "",
         "orientation": "h",
         "showlegend": false,
         "textposition": "auto",
         "type": "bar",
         "x": [
          0.1254411079299554,
          0.12304414408416006,
          0.11988814168719622,
          0.11962181237099674,
          0.09591850322924296,
          0.09390771689193687,
          0.09336174179372794,
          0.09326852653305813,
          0.07370663825820627,
          0.06184166722151941
         ],
         "xaxis": "x",
         "y": [
          "simple",
          "good",
          "smart",
          "dynamic",
          "currently",
          "personality",
          "beautiful",
          "city",
          "respects",
          "india"
         ],
         "yaxis": "y"
        }
       ],
       "layout": {
        "barmode": "relative",
        "legend": {
         "tracegroupgap": 0
        },
        "margin": {
         "t": 60
        },
        "template": {
         "data": {
          "bar": [
           {
            "error_x": {
             "color": "#2a3f5f"
            },
            "error_y": {
             "color": "#2a3f5f"
            },
            "marker": {
             "line": {
              "color": "#E5ECF6",
              "width": 0.5
             },
             "pattern": {
              "fillmode": "overlay",
              "size": 10,
              "solidity": 0.2
             }
            },
            "type": "bar"
           }
          ],
          "barpolar": [
           {
            "marker": {
             "line": {
              "color": "#E5ECF6",
              "width": 0.5
             },
             "pattern": {
              "fillmode": "overlay",
              "size": 10,
              "solidity": 0.2
             }
            },
            "type": "barpolar"
           }
          ],
          "carpet": [
           {
            "aaxis": {
             "endlinecolor": "#2a3f5f",
             "gridcolor": "white",
             "linecolor": "white",
             "minorgridcolor": "white",
             "startlinecolor": "#2a3f5f"
            },
            "baxis": {
             "endlinecolor": "#2a3f5f",
             "gridcolor": "white",
             "linecolor": "white",
             "minorgridcolor": "white",
             "startlinecolor": "#2a3f5f"
            },
            "type": "carpet"
           }
          ],
          "choropleth": [
           {
            "colorbar": {
             "outlinewidth": 0,
             "ticks": ""
            },
            "type": "choropleth"
           }
          ],
          "contour": [
           {
            "colorbar": {
             "outlinewidth": 0,
             "ticks": ""
            },
            "colorscale": [
             [
              0,
              "#0d0887"
             ],
             [
              0.1111111111111111,
              "#46039f"
             ],
             [
              0.2222222222222222,
              "#7201a8"
             ],
             [
              0.3333333333333333,
              "#9c179e"
             ],
             [
              0.4444444444444444,
              "#bd3786"
             ],
             [
              0.5555555555555556,
              "#d8576b"
             ],
             [
              0.6666666666666666,
              "#ed7953"
             ],
             [
              0.7777777777777778,
              "#fb9f3a"
             ],
             [
              0.8888888888888888,
              "#fdca26"
             ],
             [
              1,
              "#f0f921"
             ]
            ],
            "type": "contour"
           }
          ],
          "contourcarpet": [
           {
            "colorbar": {
             "outlinewidth": 0,
             "ticks": ""
            },
            "type": "contourcarpet"
           }
          ],
          "heatmap": [
           {
            "colorbar": {
             "outlinewidth": 0,
             "ticks": ""
            },
            "colorscale": [
             [
              0,
              "#0d0887"
             ],
             [
              0.1111111111111111,
              "#46039f"
             ],
             [
              0.2222222222222222,
              "#7201a8"
             ],
             [
              0.3333333333333333,
              "#9c179e"
             ],
             [
              0.4444444444444444,
              "#bd3786"
             ],
             [
              0.5555555555555556,
              "#d8576b"
             ],
             [
              0.6666666666666666,
              "#ed7953"
             ],
             [
              0.7777777777777778,
              "#fb9f3a"
             ],
             [
              0.8888888888888888,
              "#fdca26"
             ],
             [
              1,
              "#f0f921"
             ]
            ],
            "type": "heatmap"
           }
          ],
          "heatmapgl": [
           {
            "colorbar": {
             "outlinewidth": 0,
             "ticks": ""
            },
            "colorscale": [
             [
              0,
              "#0d0887"
             ],
             [
              0.1111111111111111,
              "#46039f"
             ],
             [
              0.2222222222222222,
              "#7201a8"
             ],
             [
              0.3333333333333333,
              "#9c179e"
             ],
             [
              0.4444444444444444,
              "#bd3786"
             ],
             [
              0.5555555555555556,
              "#d8576b"
             ],
             [
              0.6666666666666666,
              "#ed7953"
             ],
             [
              0.7777777777777778,
              "#fb9f3a"
             ],
             [
              0.8888888888888888,
              "#fdca26"
             ],
             [
              1,
              "#f0f921"
             ]
            ],
            "type": "heatmapgl"
           }
          ],
          "histogram": [
           {
            "marker": {
             "pattern": {
              "fillmode": "overlay",
              "size": 10,
              "solidity": 0.2
             }
            },
            "type": "histogram"
           }
          ],
          "histogram2d": [
           {
            "colorbar": {
             "outlinewidth": 0,
             "ticks": ""
            },
            "colorscale": [
             [
              0,
              "#0d0887"
             ],
             [
              0.1111111111111111,
              "#46039f"
             ],
             [
              0.2222222222222222,
              "#7201a8"
             ],
             [
              0.3333333333333333,
              "#9c179e"
             ],
             [
              0.4444444444444444,
              "#bd3786"
             ],
             [
              0.5555555555555556,
              "#d8576b"
             ],
             [
              0.6666666666666666,
              "#ed7953"
             ],
             [
              0.7777777777777778,
              "#fb9f3a"
             ],
             [
              0.8888888888888888,
              "#fdca26"
             ],
             [
              1,
              "#f0f921"
             ]
            ],
            "type": "histogram2d"
           }
          ],
          "histogram2dcontour": [
           {
            "colorbar": {
             "outlinewidth": 0,
             "ticks": ""
            },
            "colorscale": [
             [
              0,
              "#0d0887"
             ],
             [
              0.1111111111111111,
              "#46039f"
             ],
             [
              0.2222222222222222,
              "#7201a8"
             ],
             [
              0.3333333333333333,
              "#9c179e"
             ],
             [
              0.4444444444444444,
              "#bd3786"
             ],
             [
              0.5555555555555556,
              "#d8576b"
             ],
             [
              0.6666666666666666,
              "#ed7953"
             ],
             [
              0.7777777777777778,
              "#fb9f3a"
             ],
             [
              0.8888888888888888,
              "#fdca26"
             ],
             [
              1,
              "#f0f921"
             ]
            ],
            "type": "histogram2dcontour"
           }
          ],
          "mesh3d": [
           {
            "colorbar": {
             "outlinewidth": 0,
             "ticks": ""
            },
            "type": "mesh3d"
           }
          ],
          "parcoords": [
           {
            "line": {
             "colorbar": {
              "outlinewidth": 0,
              "ticks": ""
             }
            },
            "type": "parcoords"
           }
          ],
          "pie": [
           {
            "automargin": true,
            "type": "pie"
           }
          ],
          "scatter": [
           {
            "marker": {
             "colorbar": {
              "outlinewidth": 0,
              "ticks": ""
             }
            },
            "type": "scatter"
           }
          ],
          "scatter3d": [
           {
            "line": {
             "colorbar": {
              "outlinewidth": 0,
              "ticks": ""
             }
            },
            "marker": {
             "colorbar": {
              "outlinewidth": 0,
              "ticks": ""
             }
            },
            "type": "scatter3d"
           }
          ],
          "scattercarpet": [
           {
            "marker": {
             "colorbar": {
              "outlinewidth": 0,
              "ticks": ""
             }
            },
            "type": "scattercarpet"
           }
          ],
          "scattergeo": [
           {
            "marker": {
             "colorbar": {
              "outlinewidth": 0,
              "ticks": ""
             }
            },
            "type": "scattergeo"
           }
          ],
          "scattergl": [
           {
            "marker": {
             "colorbar": {
              "outlinewidth": 0,
              "ticks": ""
             }
            },
            "type": "scattergl"
           }
          ],
          "scattermapbox": [
           {
            "marker": {
             "colorbar": {
              "outlinewidth": 0,
              "ticks": ""
             }
            },
            "type": "scattermapbox"
           }
          ],
          "scatterpolar": [
           {
            "marker": {
             "colorbar": {
              "outlinewidth": 0,
              "ticks": ""
             }
            },
            "type": "scatterpolar"
           }
          ],
          "scatterpolargl": [
           {
            "marker": {
             "colorbar": {
              "outlinewidth": 0,
              "ticks": ""
             }
            },
            "type": "scatterpolargl"
           }
          ],
          "scatterternary": [
           {
            "marker": {
             "colorbar": {
              "outlinewidth": 0,
              "ticks": ""
             }
            },
            "type": "scatterternary"
           }
          ],
          "surface": [
           {
            "colorbar": {
             "outlinewidth": 0,
             "ticks": ""
            },
            "colorscale": [
             [
              0,
              "#0d0887"
             ],
             [
              0.1111111111111111,
              "#46039f"
             ],
             [
              0.2222222222222222,
              "#7201a8"
             ],
             [
              0.3333333333333333,
              "#9c179e"
             ],
             [
              0.4444444444444444,
              "#bd3786"
             ],
             [
              0.5555555555555556,
              "#d8576b"
             ],
             [
              0.6666666666666666,
              "#ed7953"
             ],
             [
              0.7777777777777778,
              "#fb9f3a"
             ],
             [
              0.8888888888888888,
              "#fdca26"
             ],
             [
              1,
              "#f0f921"
             ]
            ],
            "type": "surface"
           }
          ],
          "table": [
           {
            "cells": {
             "fill": {
              "color": "#EBF0F8"
             },
             "line": {
              "color": "white"
             }
            },
            "header": {
             "fill": {
              "color": "#C8D4E3"
             },
             "line": {
              "color": "white"
             }
            },
            "type": "table"
           }
          ]
         },
         "layout": {
          "annotationdefaults": {
           "arrowcolor": "#2a3f5f",
           "arrowhead": 0,
           "arrowwidth": 1
          },
          "autotypenumbers": "strict",
          "coloraxis": {
           "colorbar": {
            "outlinewidth": 0,
            "ticks": ""
           }
          },
          "colorscale": {
           "diverging": [
            [
             0,
             "#8e0152"
            ],
            [
             0.1,
             "#c51b7d"
            ],
            [
             0.2,
             "#de77ae"
            ],
            [
             0.3,
             "#f1b6da"
            ],
            [
             0.4,
             "#fde0ef"
            ],
            [
             0.5,
             "#f7f7f7"
            ],
            [
             0.6,
             "#e6f5d0"
            ],
            [
             0.7,
             "#b8e186"
            ],
            [
             0.8,
             "#7fbc41"
            ],
            [
             0.9,
             "#4d9221"
            ],
            [
             1,
             "#276419"
            ]
           ],
           "sequential": [
            [
             0,
             "#0d0887"
            ],
            [
             0.1111111111111111,
             "#46039f"
            ],
            [
             0.2222222222222222,
             "#7201a8"
            ],
            [
             0.3333333333333333,
             "#9c179e"
            ],
            [
             0.4444444444444444,
             "#bd3786"
            ],
            [
             0.5555555555555556,
             "#d8576b"
            ],
            [
             0.6666666666666666,
             "#ed7953"
            ],
            [
             0.7777777777777778,
             "#fb9f3a"
            ],
            [
             0.8888888888888888,
             "#fdca26"
            ],
            [
             1,
             "#f0f921"
            ]
           ],
           "sequentialminus": [
            [
             0,
             "#0d0887"
            ],
            [
             0.1111111111111111,
             "#46039f"
            ],
            [
             0.2222222222222222,
             "#7201a8"
            ],
            [
             0.3333333333333333,
             "#9c179e"
            ],
            [
             0.4444444444444444,
             "#bd3786"
            ],
            [
             0.5555555555555556,
             "#d8576b"
            ],
            [
             0.6666666666666666,
             "#ed7953"
            ],
            [
             0.7777777777777778,
             "#fb9f3a"
            ],
            [
             0.8888888888888888,
             "#fdca26"
            ],
            [
             1,
             "#f0f921"
            ]
           ]
          },
          "colorway": [
           "#636efa",
           "#EF553B",
           "#00cc96",
           "#ab63fa",
           "#FFA15A",
           "#19d3f3",
           "#FF6692",
           "#B6E880",
           "#FF97FF",
           "#FECB52"
          ],
          "font": {
           "color": "#2a3f5f"
          },
          "geo": {
           "bgcolor": "white",
           "lakecolor": "white",
           "landcolor": "#E5ECF6",
           "showlakes": true,
           "showland": true,
           "subunitcolor": "white"
          },
          "hoverlabel": {
           "align": "left"
          },
          "hovermode": "closest",
          "mapbox": {
           "style": "light"
          },
          "paper_bgcolor": "white",
          "plot_bgcolor": "#E5ECF6",
          "polar": {
           "angularaxis": {
            "gridcolor": "white",
            "linecolor": "white",
            "ticks": ""
           },
           "bgcolor": "#E5ECF6",
           "radialaxis": {
            "gridcolor": "white",
            "linecolor": "white",
            "ticks": ""
           }
          },
          "scene": {
           "xaxis": {
            "backgroundcolor": "#E5ECF6",
            "gridcolor": "white",
            "gridwidth": 2,
            "linecolor": "white",
            "showbackground": true,
            "ticks": "",
            "zerolinecolor": "white"
           },
           "yaxis": {
            "backgroundcolor": "#E5ECF6",
            "gridcolor": "white",
            "gridwidth": 2,
            "linecolor": "white",
            "showbackground": true,
            "ticks": "",
            "zerolinecolor": "white"
           },
           "zaxis": {
            "backgroundcolor": "#E5ECF6",
            "gridcolor": "white",
            "gridwidth": 2,
            "linecolor": "white",
            "showbackground": true,
            "ticks": "",
            "zerolinecolor": "white"
           }
          },
          "shapedefaults": {
           "line": {
            "color": "#2a3f5f"
           }
          },
          "ternary": {
           "aaxis": {
            "gridcolor": "white",
            "linecolor": "white",
            "ticks": ""
           },
           "baxis": {
            "gridcolor": "white",
            "linecolor": "white",
            "ticks": ""
           },
           "bgcolor": "#E5ECF6",
           "caxis": {
            "gridcolor": "white",
            "linecolor": "white",
            "ticks": ""
           }
          },
          "title": {
           "x": 0.05
          },
          "xaxis": {
           "automargin": true,
           "gridcolor": "white",
           "linecolor": "white",
           "ticks": "",
           "title": {
            "standoff": 15
           },
           "zerolinecolor": "white",
           "zerolinewidth": 2
          },
          "yaxis": {
           "automargin": true,
           "gridcolor": "white",
           "linecolor": "white",
           "ticks": "",
           "title": {
            "standoff": 15
           },
           "zerolinecolor": "white",
           "zerolinewidth": 2
          }
         }
        },
        "title": {
         "text": "Principal word for male"
        },
        "xaxis": {
         "anchor": "y",
         "domain": [
          0,
          1
         ],
         "title": {
          "text": "x"
         }
        },
        "yaxis": {
         "anchor": "x",
         "domain": [
          0,
          1
         ],
         "title": {
          "text": "y"
         }
        }
       }
      },
      "text/html": [
       "<div>                            <div id=\"20ee8578-b181-4a99-8d1c-d1419e0f34aa\" class=\"plotly-graph-div\" style=\"height:525px; width:100%;\"></div>            <script type=\"text/javascript\">                require([\"plotly\"], function(Plotly) {                    window.PLOTLYENV=window.PLOTLYENV || {};                                    if (document.getElementById(\"20ee8578-b181-4a99-8d1c-d1419e0f34aa\")) {                    Plotly.newPlot(                        \"20ee8578-b181-4a99-8d1c-d1419e0f34aa\",                        [{\"alignmentgroup\":\"True\",\"hovertemplate\":\"x=%{x}<br>y=%{y}<extra></extra>\",\"legendgroup\":\"\",\"marker\":{\"color\":\"#636efa\",\"pattern\":{\"shape\":\"\"}},\"name\":\"\",\"offsetgroup\":\"\",\"orientation\":\"h\",\"showlegend\":false,\"textposition\":\"auto\",\"x\":[0.1254411079299554,0.12304414408416006,0.11988814168719622,0.11962181237099674,0.09591850322924296,0.09390771689193687,0.09336174179372794,0.09326852653305813,0.07370663825820627,0.06184166722151941],\"xaxis\":\"x\",\"y\":[\"simple\",\"good\",\"smart\",\"dynamic\",\"currently\",\"personality\",\"beautiful\",\"city\",\"respects\",\"india\"],\"yaxis\":\"y\",\"type\":\"bar\"}],                        {\"template\":{\"data\":{\"bar\":[{\"error_x\":{\"color\":\"#2a3f5f\"},\"error_y\":{\"color\":\"#2a3f5f\"},\"marker\":{\"line\":{\"color\":\"#E5ECF6\",\"width\":0.5},\"pattern\":{\"fillmode\":\"overlay\",\"size\":10,\"solidity\":0.2}},\"type\":\"bar\"}],\"barpolar\":[{\"marker\":{\"line\":{\"color\":\"#E5ECF6\",\"width\":0.5},\"pattern\":{\"fillmode\":\"overlay\",\"size\":10,\"solidity\":0.2}},\"type\":\"barpolar\"}],\"carpet\":[{\"aaxis\":{\"endlinecolor\":\"#2a3f5f\",\"gridcolor\":\"white\",\"linecolor\":\"white\",\"minorgridcolor\":\"white\",\"startlinecolor\":\"#2a3f5f\"},\"baxis\":{\"endlinecolor\":\"#2a3f5f\",\"gridcolor\":\"white\",\"linecolor\":\"white\",\"minorgridcolor\":\"white\",\"startlinecolor\":\"#2a3f5f\"},\"type\":\"carpet\"}],\"choropleth\":[{\"colorbar\":{\"outlinewidth\":0,\"ticks\":\"\"},\"type\":\"choropleth\"}],\"contour\":[{\"colorbar\":{\"outlinewidth\":0,\"ticks\":\"\"},\"colorscale\":[[0.0,\"#0d0887\"],[0.1111111111111111,\"#46039f\"],[0.2222222222222222,\"#7201a8\"],[0.3333333333333333,\"#9c179e\"],[0.4444444444444444,\"#bd3786\"],[0.5555555555555556,\"#d8576b\"],[0.6666666666666666,\"#ed7953\"],[0.7777777777777778,\"#fb9f3a\"],[0.8888888888888888,\"#fdca26\"],[1.0,\"#f0f921\"]],\"type\":\"contour\"}],\"contourcarpet\":[{\"colorbar\":{\"outlinewidth\":0,\"ticks\":\"\"},\"type\":\"contourcarpet\"}],\"heatmap\":[{\"colorbar\":{\"outlinewidth\":0,\"ticks\":\"\"},\"colorscale\":[[0.0,\"#0d0887\"],[0.1111111111111111,\"#46039f\"],[0.2222222222222222,\"#7201a8\"],[0.3333333333333333,\"#9c179e\"],[0.4444444444444444,\"#bd3786\"],[0.5555555555555556,\"#d8576b\"],[0.6666666666666666,\"#ed7953\"],[0.7777777777777778,\"#fb9f3a\"],[0.8888888888888888,\"#fdca26\"],[1.0,\"#f0f921\"]],\"type\":\"heatmap\"}],\"heatmapgl\":[{\"colorbar\":{\"outlinewidth\":0,\"ticks\":\"\"},\"colorscale\":[[0.0,\"#0d0887\"],[0.1111111111111111,\"#46039f\"],[0.2222222222222222,\"#7201a8\"],[0.3333333333333333,\"#9c179e\"],[0.4444444444444444,\"#bd3786\"],[0.5555555555555556,\"#d8576b\"],[0.6666666666666666,\"#ed7953\"],[0.7777777777777778,\"#fb9f3a\"],[0.8888888888888888,\"#fdca26\"],[1.0,\"#f0f921\"]],\"type\":\"heatmapgl\"}],\"histogram\":[{\"marker\":{\"pattern\":{\"fillmode\":\"overlay\",\"size\":10,\"solidity\":0.2}},\"type\":\"histogram\"}],\"histogram2d\":[{\"colorbar\":{\"outlinewidth\":0,\"ticks\":\"\"},\"colorscale\":[[0.0,\"#0d0887\"],[0.1111111111111111,\"#46039f\"],[0.2222222222222222,\"#7201a8\"],[0.3333333333333333,\"#9c179e\"],[0.4444444444444444,\"#bd3786\"],[0.5555555555555556,\"#d8576b\"],[0.6666666666666666,\"#ed7953\"],[0.7777777777777778,\"#fb9f3a\"],[0.8888888888888888,\"#fdca26\"],[1.0,\"#f0f921\"]],\"type\":\"histogram2d\"}],\"histogram2dcontour\":[{\"colorbar\":{\"outlinewidth\":0,\"ticks\":\"\"},\"colorscale\":[[0.0,\"#0d0887\"],[0.1111111111111111,\"#46039f\"],[0.2222222222222222,\"#7201a8\"],[0.3333333333333333,\"#9c179e\"],[0.4444444444444444,\"#bd3786\"],[0.5555555555555556,\"#d8576b\"],[0.6666666666666666,\"#ed7953\"],[0.7777777777777778,\"#fb9f3a\"],[0.8888888888888888,\"#fdca26\"],[1.0,\"#f0f921\"]],\"type\":\"histogram2dcontour\"}],\"mesh3d\":[{\"colorbar\":{\"outlinewidth\":0,\"ticks\":\"\"},\"type\":\"mesh3d\"}],\"parcoords\":[{\"line\":{\"colorbar\":{\"outlinewidth\":0,\"ticks\":\"\"}},\"type\":\"parcoords\"}],\"pie\":[{\"automargin\":true,\"type\":\"pie\"}],\"scatter\":[{\"marker\":{\"colorbar\":{\"outlinewidth\":0,\"ticks\":\"\"}},\"type\":\"scatter\"}],\"scatter3d\":[{\"line\":{\"colorbar\":{\"outlinewidth\":0,\"ticks\":\"\"}},\"marker\":{\"colorbar\":{\"outlinewidth\":0,\"ticks\":\"\"}},\"type\":\"scatter3d\"}],\"scattercarpet\":[{\"marker\":{\"colorbar\":{\"outlinewidth\":0,\"ticks\":\"\"}},\"type\":\"scattercarpet\"}],\"scattergeo\":[{\"marker\":{\"colorbar\":{\"outlinewidth\":0,\"ticks\":\"\"}},\"type\":\"scattergeo\"}],\"scattergl\":[{\"marker\":{\"colorbar\":{\"outlinewidth\":0,\"ticks\":\"\"}},\"type\":\"scattergl\"}],\"scattermapbox\":[{\"marker\":{\"colorbar\":{\"outlinewidth\":0,\"ticks\":\"\"}},\"type\":\"scattermapbox\"}],\"scatterpolar\":[{\"marker\":{\"colorbar\":{\"outlinewidth\":0,\"ticks\":\"\"}},\"type\":\"scatterpolar\"}],\"scatterpolargl\":[{\"marker\":{\"colorbar\":{\"outlinewidth\":0,\"ticks\":\"\"}},\"type\":\"scatterpolargl\"}],\"scatterternary\":[{\"marker\":{\"colorbar\":{\"outlinewidth\":0,\"ticks\":\"\"}},\"type\":\"scatterternary\"}],\"surface\":[{\"colorbar\":{\"outlinewidth\":0,\"ticks\":\"\"},\"colorscale\":[[0.0,\"#0d0887\"],[0.1111111111111111,\"#46039f\"],[0.2222222222222222,\"#7201a8\"],[0.3333333333333333,\"#9c179e\"],[0.4444444444444444,\"#bd3786\"],[0.5555555555555556,\"#d8576b\"],[0.6666666666666666,\"#ed7953\"],[0.7777777777777778,\"#fb9f3a\"],[0.8888888888888888,\"#fdca26\"],[1.0,\"#f0f921\"]],\"type\":\"surface\"}],\"table\":[{\"cells\":{\"fill\":{\"color\":\"#EBF0F8\"},\"line\":{\"color\":\"white\"}},\"header\":{\"fill\":{\"color\":\"#C8D4E3\"},\"line\":{\"color\":\"white\"}},\"type\":\"table\"}]},\"layout\":{\"annotationdefaults\":{\"arrowcolor\":\"#2a3f5f\",\"arrowhead\":0,\"arrowwidth\":1},\"autotypenumbers\":\"strict\",\"coloraxis\":{\"colorbar\":{\"outlinewidth\":0,\"ticks\":\"\"}},\"colorscale\":{\"diverging\":[[0,\"#8e0152\"],[0.1,\"#c51b7d\"],[0.2,\"#de77ae\"],[0.3,\"#f1b6da\"],[0.4,\"#fde0ef\"],[0.5,\"#f7f7f7\"],[0.6,\"#e6f5d0\"],[0.7,\"#b8e186\"],[0.8,\"#7fbc41\"],[0.9,\"#4d9221\"],[1,\"#276419\"]],\"sequential\":[[0.0,\"#0d0887\"],[0.1111111111111111,\"#46039f\"],[0.2222222222222222,\"#7201a8\"],[0.3333333333333333,\"#9c179e\"],[0.4444444444444444,\"#bd3786\"],[0.5555555555555556,\"#d8576b\"],[0.6666666666666666,\"#ed7953\"],[0.7777777777777778,\"#fb9f3a\"],[0.8888888888888888,\"#fdca26\"],[1.0,\"#f0f921\"]],\"sequentialminus\":[[0.0,\"#0d0887\"],[0.1111111111111111,\"#46039f\"],[0.2222222222222222,\"#7201a8\"],[0.3333333333333333,\"#9c179e\"],[0.4444444444444444,\"#bd3786\"],[0.5555555555555556,\"#d8576b\"],[0.6666666666666666,\"#ed7953\"],[0.7777777777777778,\"#fb9f3a\"],[0.8888888888888888,\"#fdca26\"],[1.0,\"#f0f921\"]]},\"colorway\":[\"#636efa\",\"#EF553B\",\"#00cc96\",\"#ab63fa\",\"#FFA15A\",\"#19d3f3\",\"#FF6692\",\"#B6E880\",\"#FF97FF\",\"#FECB52\"],\"font\":{\"color\":\"#2a3f5f\"},\"geo\":{\"bgcolor\":\"white\",\"lakecolor\":\"white\",\"landcolor\":\"#E5ECF6\",\"showlakes\":true,\"showland\":true,\"subunitcolor\":\"white\"},\"hoverlabel\":{\"align\":\"left\"},\"hovermode\":\"closest\",\"mapbox\":{\"style\":\"light\"},\"paper_bgcolor\":\"white\",\"plot_bgcolor\":\"#E5ECF6\",\"polar\":{\"angularaxis\":{\"gridcolor\":\"white\",\"linecolor\":\"white\",\"ticks\":\"\"},\"bgcolor\":\"#E5ECF6\",\"radialaxis\":{\"gridcolor\":\"white\",\"linecolor\":\"white\",\"ticks\":\"\"}},\"scene\":{\"xaxis\":{\"backgroundcolor\":\"#E5ECF6\",\"gridcolor\":\"white\",\"gridwidth\":2,\"linecolor\":\"white\",\"showbackground\":true,\"ticks\":\"\",\"zerolinecolor\":\"white\"},\"yaxis\":{\"backgroundcolor\":\"#E5ECF6\",\"gridcolor\":\"white\",\"gridwidth\":2,\"linecolor\":\"white\",\"showbackground\":true,\"ticks\":\"\",\"zerolinecolor\":\"white\"},\"zaxis\":{\"backgroundcolor\":\"#E5ECF6\",\"gridcolor\":\"white\",\"gridwidth\":2,\"linecolor\":\"white\",\"showbackground\":true,\"ticks\":\"\",\"zerolinecolor\":\"white\"}},\"shapedefaults\":{\"line\":{\"color\":\"#2a3f5f\"}},\"ternary\":{\"aaxis\":{\"gridcolor\":\"white\",\"linecolor\":\"white\",\"ticks\":\"\"},\"baxis\":{\"gridcolor\":\"white\",\"linecolor\":\"white\",\"ticks\":\"\"},\"bgcolor\":\"#E5ECF6\",\"caxis\":{\"gridcolor\":\"white\",\"linecolor\":\"white\",\"ticks\":\"\"}},\"title\":{\"x\":0.05},\"xaxis\":{\"automargin\":true,\"gridcolor\":\"white\",\"linecolor\":\"white\",\"ticks\":\"\",\"title\":{\"standoff\":15},\"zerolinecolor\":\"white\",\"zerolinewidth\":2},\"yaxis\":{\"automargin\":true,\"gridcolor\":\"white\",\"linecolor\":\"white\",\"ticks\":\"\",\"title\":{\"standoff\":15},\"zerolinecolor\":\"white\",\"zerolinewidth\":2}}},\"xaxis\":{\"anchor\":\"y\",\"domain\":[0.0,1.0],\"title\":{\"text\":\"x\"}},\"yaxis\":{\"anchor\":\"x\",\"domain\":[0.0,1.0],\"title\":{\"text\":\"y\"}},\"legend\":{\"tracegroupgap\":0},\"margin\":{\"t\":60},\"barmode\":\"relative\",\"title\":{\"text\":\"Principal word for male\"}},                        {\"responsive\": true}                    ).then(function(){\n",
       "                            \n",
       "var gd = document.getElementById('20ee8578-b181-4a99-8d1c-d1419e0f34aa');\n",
       "var x = new MutationObserver(function (mutations, observer) {{\n",
       "        var display = window.getComputedStyle(gd).display;\n",
       "        if (!display || display === 'none') {{\n",
       "            console.log([gd, 'removed!']);\n",
       "            Plotly.purge(gd);\n",
       "            observer.disconnect();\n",
       "        }}\n",
       "}});\n",
       "\n",
       "// Listen for the removal of the full notebook cells\n",
       "var notebookContainer = gd.closest('#notebook-container');\n",
       "if (notebookContainer) {{\n",
       "    x.observe(notebookContainer, {childList: true});\n",
       "}}\n",
       "\n",
       "// Listen for the clearing of the current output cell\n",
       "var outputEl = gd.closest('.output');\n",
       "if (outputEl) {{\n",
       "    x.observe(outputEl, {childList: true});\n",
       "}}\n",
       "\n",
       "                        })                };                });            </script>        </div>"
      ]
     },
     "metadata": {},
     "output_type": "display_data"
    }
   ],
   "source": [
    "fig = px.bar(\n",
    "    x=d['freq_rel'],\n",
    "    y=d.word,\n",
    "    orientation='h')\n",
    "fig.update_layout(title=\"Principal word for male\")\n",
    "fig.show()\n"
   ]
  },
  {
   "cell_type": "code",
   "execution_count": null,
   "id": "b42ff4a4",
   "metadata": {},
   "outputs": [],
   "source": []
  }
 ],
 "metadata": {
  "kernelspec": {
   "display_name": "Python 3 (ipykernel)",
   "language": "python",
   "name": "python3"
  },
  "language_info": {
   "codemirror_mode": {
    "name": "ipython",
    "version": 3
   },
   "file_extension": ".py",
   "mimetype": "text/x-python",
   "name": "python",
   "nbconvert_exporter": "python",
   "pygments_lexer": "ipython3",
   "version": "3.9.7"
  }
 },
 "nbformat": 4,
 "nbformat_minor": 5
}
